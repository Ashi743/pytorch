{
  "nbformat": 4,
  "nbformat_minor": 0,
  "metadata": {
    "colab": {
      "provenance": [],
      "gpuType": "T4",
      "authorship_tag": "ABX9TyNIkhn2wzQtKZUSCeAR6vwt",
      "include_colab_link": true
    },
    "kernelspec": {
      "name": "python3",
      "display_name": "Python 3"
    },
    "language_info": {
      "name": "python"
    }
  },
  "cells": [
    {
      "cell_type": "markdown",
      "metadata": {
        "id": "view-in-github",
        "colab_type": "text"
      },
      "source": [
        "<a href=\"https://colab.research.google.com/github/Ashi743/pytorch/blob/main/optimization_pytorch.ipynb\" target=\"_parent\"><img src=\"https://colab.research.google.com/assets/colab-badge.svg\" alt=\"Open In Colab\"/></a>"
      ]
    },
    {
      "cell_type": "code",
      "execution_count": 1,
      "metadata": {
        "colab": {
          "base_uri": "https://localhost:8080/"
        },
        "id": "LZJZCjpA3uJ4",
        "outputId": "3ba36c70-5235-4d49-89a9-401bf9c7cbc4"
      },
      "outputs": [
        {
          "output_type": "execute_result",
          "data": {
            "text/plain": [
              "<torch._C.Generator at 0x7c9bb5cfd110>"
            ]
          },
          "metadata": {},
          "execution_count": 1
        }
      ],
      "source": [
        "import pandas as pd\n",
        "import torch\n",
        "from sklearn.model_selection import train_test_split\n",
        "import torch.nn as nn\n",
        "import torch.optim as optim\n",
        "from torch.utils.data import Dataset, DataLoader\n",
        "\n",
        "torch.manual_seed(40)"
      ]
    },
    {
      "cell_type": "code",
      "source": [
        "#check device\n",
        "device= torch.device('cuda' if torch.cuda.is_available() else 'cpu')\n",
        "device"
      ],
      "metadata": {
        "colab": {
          "base_uri": "https://localhost:8080/"
        },
        "id": "eP8tQc2hCDYE",
        "outputId": "adc546cf-9687-48d5-d0ef-d1d3c48958e4"
      },
      "execution_count": 2,
      "outputs": [
        {
          "output_type": "execute_result",
          "data": {
            "text/plain": [
              "device(type='cpu')"
            ]
          },
          "metadata": {},
          "execution_count": 2
        }
      ]
    },
    {
      "cell_type": "code",
      "source": [
        "import kagglehub\n",
        "\n",
        "# Download latest version\n",
        "path = kagglehub.dataset_download(\"zalando-research/fashionmnist\")\n",
        "\n",
        "print(\"Path to dataset files:\", path)"
      ],
      "metadata": {
        "colab": {
          "base_uri": "https://localhost:8080/"
        },
        "id": "fWLzhfdd5N6x",
        "outputId": "e7a92892-bc7a-412e-a3b8-633b3e0b060d"
      },
      "execution_count": 3,
      "outputs": [
        {
          "output_type": "stream",
          "name": "stdout",
          "text": [
            "Downloading from https://www.kaggle.com/api/v1/datasets/download/zalando-research/fashionmnist?dataset_version_number=4...\n"
          ]
        },
        {
          "output_type": "stream",
          "name": "stderr",
          "text": [
            "100%|██████████| 68.8M/68.8M [00:00<00:00, 79.8MB/s]"
          ]
        },
        {
          "output_type": "stream",
          "name": "stdout",
          "text": [
            "Extracting files...\n"
          ]
        },
        {
          "output_type": "stream",
          "name": "stderr",
          "text": [
            "\n"
          ]
        },
        {
          "output_type": "stream",
          "name": "stdout",
          "text": [
            "Path to dataset files: /root/.cache/kagglehub/datasets/zalando-research/fashionmnist/versions/4\n"
          ]
        }
      ]
    },
    {
      "cell_type": "code",
      "source": [
        "import os\n",
        "import zipfile"
      ],
      "metadata": {
        "id": "8dgsiJeuAY_H"
      },
      "execution_count": 6,
      "outputs": []
    },
    {
      "cell_type": "code",
      "source": [
        "for filename in os.listdir(path):\n",
        "  print(filename)\n",
        "  print(os.path.join(path, filename))"
      ],
      "metadata": {
        "colab": {
          "base_uri": "https://localhost:8080/"
        },
        "id": "_hWR6Ry58uIj",
        "outputId": "45d23fc4-093e-43f3-f30f-e0caf0d44d2f"
      },
      "execution_count": 7,
      "outputs": [
        {
          "output_type": "stream",
          "name": "stdout",
          "text": [
            "train-labels-idx1-ubyte\n",
            "/root/.cache/kagglehub/datasets/zalando-research/fashionmnist/versions/4/train-labels-idx1-ubyte\n",
            "t10k-labels-idx1-ubyte\n",
            "/root/.cache/kagglehub/datasets/zalando-research/fashionmnist/versions/4/t10k-labels-idx1-ubyte\n",
            "train-images-idx3-ubyte\n",
            "/root/.cache/kagglehub/datasets/zalando-research/fashionmnist/versions/4/train-images-idx3-ubyte\n",
            "fashion-mnist_train.csv\n",
            "/root/.cache/kagglehub/datasets/zalando-research/fashionmnist/versions/4/fashion-mnist_train.csv\n",
            "fashion-mnist_test.csv\n",
            "/root/.cache/kagglehub/datasets/zalando-research/fashionmnist/versions/4/fashion-mnist_test.csv\n",
            "t10k-images-idx3-ubyte\n",
            "/root/.cache/kagglehub/datasets/zalando-research/fashionmnist/versions/4/t10k-images-idx3-ubyte\n"
          ]
        }
      ]
    },
    {
      "cell_type": "code",
      "source": [
        "\n",
        "\n",
        "for filename in os.listdir(path):\n",
        "   if filename.endswith('zip'):\n",
        "    filepath= os.path.join(path, filename)\n",
        "    with zipfile.ZipFile(filepath, 'r') as zip_ref:\n",
        "      zip_ref.extract(path)\n",
        "    print(f'Extracted {filename} to {path}')\n",
        "\n",
        "    break\n",
        "\n",
        "   else:\n",
        "      if filename.endswith('csv'):\n",
        "        csv_filepath= os.path.join(path, filename)\n",
        "        try:\n",
        "          print(f'Extracted:  {csv_filepath}')\n",
        "\n",
        "        except pd.errors.ParserError as e:\n",
        "          print(f'error parsing {filename}: {e}')\n",
        "        except Exception as e:\n",
        "          print(f'error in {filename} as {e}')"
      ],
      "metadata": {
        "colab": {
          "base_uri": "https://localhost:8080/"
        },
        "id": "FCoLFEJ55S1Z",
        "outputId": "6d721c31-988e-4962-a9d6-f52283682a57"
      },
      "execution_count": 8,
      "outputs": [
        {
          "output_type": "stream",
          "name": "stdout",
          "text": [
            "Extracted:  /root/.cache/kagglehub/datasets/zalando-research/fashionmnist/versions/4/fashion-mnist_train.csv\n",
            "Extracted:  /root/.cache/kagglehub/datasets/zalando-research/fashionmnist/versions/4/fashion-mnist_test.csv\n"
          ]
        }
      ]
    },
    {
      "cell_type": "code",
      "source": [
        "train= pd.read_csv(\"/root/.cache/kagglehub/datasets/zalando-research/fashionmnist/versions/4/fashion-mnist_train.csv\")\n",
        "test= pd.read_csv(\"/root/.cache/kagglehub/datasets/zalando-research/fashionmnist/versions/4/fashion-mnist_test.csv\")"
      ],
      "metadata": {
        "id": "oVG0OEsD8Aur"
      },
      "execution_count": 9,
      "outputs": []
    },
    {
      "cell_type": "code",
      "source": [
        "train.shape, test.shape"
      ],
      "metadata": {
        "colab": {
          "base_uri": "https://localhost:8080/"
        },
        "id": "VHIoBryX8_ZS",
        "outputId": "ddc71ae0-b506-4624-b13c-64e475078132"
      },
      "execution_count": 10,
      "outputs": [
        {
          "output_type": "execute_result",
          "data": {
            "text/plain": [
              "((60000, 785), (10000, 785))"
            ]
          },
          "metadata": {},
          "execution_count": 10
        }
      ]
    },
    {
      "cell_type": "code",
      "source": [
        "train.label.unique()\n"
      ],
      "metadata": {
        "colab": {
          "base_uri": "https://localhost:8080/"
        },
        "id": "VV31jK4P9Y7f",
        "outputId": "02a7e8a6-db3c-4a09-8997-5f05222c1593"
      },
      "execution_count": 11,
      "outputs": [
        {
          "output_type": "execute_result",
          "data": {
            "text/plain": [
              "array([2, 9, 6, 0, 3, 4, 5, 8, 7, 1])"
            ]
          },
          "metadata": {},
          "execution_count": 11
        }
      ]
    },
    {
      "cell_type": "code",
      "source": [
        "plt.imshow(train.iloc[0,1:].values.reshape(28,28))"
      ],
      "metadata": {
        "colab": {
          "base_uri": "https://localhost:8080/",
          "height": 448
        },
        "id": "8qQ4_nNc-GXa",
        "outputId": "7f78dcc2-5da7-4df8-87a5-b1f87fc9b8da"
      },
      "execution_count": 14,
      "outputs": [
        {
          "output_type": "execute_result",
          "data": {
            "text/plain": [
              "<matplotlib.image.AxesImage at 0x7c9b77be9270>"
            ]
          },
          "metadata": {},
          "execution_count": 14
        },
        {
          "output_type": "display_data",
          "data": {
            "text/plain": [
              "<Figure size 640x480 with 1 Axes>"
            ],
            "image/png": "[encoded data removed]"
          },
          "metadata": {}
        }
      ]
    },
    {
      "cell_type": "code",
      "source": [
        "import matplotlib.pyplot as plt\n",
        "fig , ax = plt.subplots(ncols= 4, nrows =4 ,figsize =(10,10))\n",
        "fig.suptitle('first 16 images')\n",
        "for i, ax in enumerate(ax.flatten()):\n",
        "  img =train.iloc[i, 1:].values.reshape(28,28)\n",
        "  ax.imshow(img)\n",
        "  ax.axis(\"off\")\n",
        "  ax.set_title(train.iloc[i,0])\n",
        "plt.tight_layout()\n",
        "plt.show()"
      ],
      "metadata": {
        "colab": {
          "base_uri": "https://localhost:8080/",
          "height": 1000
        },
        "id": "L8wAI8QI9CUS",
        "outputId": "0fb8a779-b8b1-45d6-92fb-b8767ff2f860"
      },
      "execution_count": 13,
      "outputs": [
        {
          "output_type": "display_data",
          "data": {
            "text/plain": [
              "<Figure size 1000x1000 with 16 Axes>"
            ],
            "image/png": "[encoded data removed]"
          },
          "metadata": {}
        }
      ]
    },
    {
      "cell_type": "code",
      "source": [
        "X = train.iloc[:, 1:].values\n",
        "Y = train.iloc[: ,0 ].values\n",
        "X_train, X_test ,Y_train, Y_test= train_test_split(X,Y, test_size= 0.25, random_state=40)"
      ],
      "metadata": {
        "id": "PBQucv9n-yiW"
      },
      "execution_count": 15,
      "outputs": []
    },
    {
      "cell_type": "code",
      "source": [
        "#scaleing\n",
        "X_train= X_train/255.0\n",
        "X_test= X_test/255.0"
      ],
      "metadata": {
        "id": "dceA1rOKBDOU"
      },
      "execution_count": 16,
      "outputs": []
    },
    {
      "cell_type": "code",
      "source": [
        "X_train_tensor= torch.tensor(X_train, dtype= torch.float32)\n",
        "X_test_tensor = torch.tensor(X_test , dtype= torch.float32)\n",
        "Y_train_tensor= torch.tensor(Y_train, dtype= torch.float32)\n",
        "Y_test_tensor = torch.tensor(Y_test,  dtype= torch.float32)"
      ],
      "metadata": {
        "id": "Ty10Fm1cBIVg"
      },
      "execution_count": 17,
      "outputs": []
    },
    {
      "cell_type": "code",
      "source": [
        "type(X_train_tensor), type(X_train)"
      ],
      "metadata": {
        "colab": {
          "base_uri": "https://localhost:8080/"
        },
        "id": "rPMtlNPtDZzr",
        "outputId": "f3a1bf0a-d7aa-430f-f80b-c1e4dbca4a84"
      },
      "execution_count": 18,
      "outputs": [
        {
          "output_type": "execute_result",
          "data": {
            "text/plain": [
              "(torch.Tensor, numpy.ndarray)"
            ]
          },
          "metadata": {},
          "execution_count": 18
        }
      ]
    },
    {
      "cell_type": "code",
      "source": [
        "#dataset\n",
        "class CustomDataset(Dataset):\n",
        "  def __init__(self, features ,label):\n",
        "    self.features= torch.tensor(features, dtype= torch.float32)\n",
        "    self.label   = torch.tensor(label,    dtype= torch.long)\n",
        "\n",
        "  def __len__(self):\n",
        "    return len(self.features)\n",
        "\n",
        "  def __getitem__(self, idx):\n",
        "    return self.features[idx] ,self.label[idx]\n"
      ],
      "metadata": {
        "id": "cVy0LtFCDGZ5"
      },
      "execution_count": 19,
      "outputs": []
    },
    {
      "cell_type": "code",
      "source": [
        "#train dataset\n",
        "train_dataset= CustomDataset(X_train, Y_train)\n",
        "len(train_dataset)"
      ],
      "metadata": {
        "colab": {
          "base_uri": "https://localhost:8080/"
        },
        "id": "bsgbTHICELlQ",
        "outputId": "28fffe81-a81d-4f66-ab6e-19d6bf33446b"
      },
      "execution_count": 20,
      "outputs": [
        {
          "output_type": "execute_result",
          "data": {
            "text/plain": [
              "45000"
            ]
          },
          "metadata": {},
          "execution_count": 20
        }
      ]
    },
    {
      "cell_type": "code",
      "source": [
        "#test dataset\n",
        "test_dataset= CustomDataset(X_test, Y_test)\n",
        "len(test_dataset)"
      ],
      "metadata": {
        "colab": {
          "base_uri": "https://localhost:8080/"
        },
        "id": "wASCSv38EW1q",
        "outputId": "a4d7f14f-ba4e-47f3-f7f2-0c7ada8a368d"
      },
      "execution_count": 21,
      "outputs": [
        {
          "output_type": "execute_result",
          "data": {
            "text/plain": [
              "15000"
            ]
          },
          "metadata": {},
          "execution_count": 21
        }
      ]
    },
    {
      "cell_type": "code",
      "source": [
        "#dataloader\n",
        "train_dataloader= DataLoader(train_dataset, batch_size= 32, shuffle= True)\n",
        "test_dataloader = DataLoader(test_dataset , batch_size=32, shuffle= (False))"
      ],
      "metadata": {
        "id": "TJ_U0n2kEgpp"
      },
      "execution_count": 22,
      "outputs": []
    },
    {
      "cell_type": "code",
      "source": [
        "train_dataloader"
      ],
      "metadata": {
        "colab": {
          "base_uri": "https://localhost:8080/"
        },
        "id": "yuyU5J-lBUx2",
        "outputId": "4648ae96-e9cd-4603-8003-51109b7a81a5"
      },
      "execution_count": 27,
      "outputs": [
        {
          "output_type": "execute_result",
          "data": {
            "text/plain": [
              "<torch.utils.data.dataloader.DataLoader at 0x7c9b77ba26b0>"
            ]
          },
          "metadata": {},
          "execution_count": 27
        }
      ]
    },
    {
      "cell_type": "code",
      "source": [
        "#define NN class\n",
        "class NeuralNetwork(nn.Module):\n",
        "  def __init__(self, num_features):\n",
        "    super().__init__()\n",
        "    self.model= nn.Sequential(\n",
        "              nn.Linear(784,128),\n",
        "              nn.BatchNorm1d(128),\n",
        "\n",
        "              nn.ReLU(),\n",
        "\n",
        "              nn.Dropout(p=0.2),\n",
        "\n",
        "              nn.Linear(128,64),\n",
        "              nn.BatchNorm1d(64),\n",
        "\n",
        "              nn.ReLU(),\n",
        "\n",
        "              nn.Dropout(p=0.2),\n",
        "              nn.Linear(64,10))\n",
        "\n",
        "  def forward(self, x):\n",
        "    return self.model(x)"
      ],
      "metadata": {
        "id": "jSwYUw3HFKa5"
      },
      "execution_count": 37,
      "outputs": []
    },
    {
      "cell_type": "code",
      "source": [
        "lr= 0.1\n",
        "epochs= 20"
      ],
      "metadata": {
        "id": "WBeBKhuLGguH"
      },
      "execution_count": 38,
      "outputs": []
    },
    {
      "cell_type": "code",
      "source": [
        "X_train.shape"
      ],
      "metadata": {
        "colab": {
          "base_uri": "https://localhost:8080/"
        },
        "id": "S2mwEVmhBZ-M",
        "outputId": "61ad34ec-258a-41cb-f17d-217c2f3b342a"
      },
      "execution_count": 39,
      "outputs": [
        {
          "output_type": "execute_result",
          "data": {
            "text/plain": [
              "(45000, 784)"
            ]
          },
          "metadata": {},
          "execution_count": 39
        }
      ]
    },
    {
      "cell_type": "code",
      "source": [
        "model= NeuralNetwork(X_train.shape[1])\n",
        "model.to(device)\n",
        "loss_fn= nn.CrossEntropyLoss()\n",
        "optimizer= optim.SGD(model.parameters(), lr= lr, weight_decay=1e-4) #regularizatin lambda\n",
        "\n"
      ],
      "metadata": {
        "id": "5MuCs7SfANpO"
      },
      "execution_count": 40,
      "outputs": []
    },
    {
      "cell_type": "code",
      "source": [
        "#training loop\n",
        "for epoch in range(epochs):\n",
        "  total_epoch_loss=0.0\n",
        "  for batch_features, batch_labels in train_dataloader:\n",
        "    batch_features, batch_labels= batch_features.to(device), batch_labels.to(device)\n",
        "    outputs= model(batch_features)\n",
        "    loss_value= loss_fn(outputs, batch_labels)\n",
        "    optimizer.zero_grad()\n",
        "    loss_value.backward()\n",
        "    optimizer.step()\n",
        "\n",
        "    total_epoch_loss+=loss_value.item()\n",
        "\n",
        "  avg_epoch_loss= total_epoch_loss/len(train_dataloader)\n",
        "  print(f\"Epoch [{epoch+1}/{epochs}], Loss: {avg_epoch_loss:.4f}\")\n"
      ],
      "metadata": {
        "colab": {
          "base_uri": "https://localhost:8080/"
        },
        "id": "F8_JJGuCA3QH",
        "outputId": "c733d964-67ec-4b29-e4f5-edda9be047b1"
      },
      "execution_count": 41,
      "outputs": [
        {
          "output_type": "stream",
          "name": "stdout",
          "text": [
            "Epoch [1/20], Loss: 0.5881\n",
            "Epoch [2/20], Loss: 0.4643\n",
            "Epoch [3/20], Loss: 0.4214\n",
            "Epoch [4/20], Loss: 0.3999\n",
            "Epoch [5/20], Loss: 0.3808\n",
            "Epoch [6/20], Loss: 0.3664\n",
            "Epoch [7/20], Loss: 0.3534\n",
            "Epoch [8/20], Loss: 0.3484\n",
            "Epoch [9/20], Loss: 0.3385\n",
            "Epoch [10/20], Loss: 0.3308\n",
            "Epoch [11/20], Loss: 0.3284\n",
            "Epoch [12/20], Loss: 0.3183\n",
            "Epoch [13/20], Loss: 0.3126\n",
            "Epoch [14/20], Loss: 0.3083\n",
            "Epoch [15/20], Loss: 0.3030\n",
            "Epoch [16/20], Loss: 0.2984\n",
            "Epoch [17/20], Loss: 0.2965\n",
            "Epoch [18/20], Loss: 0.2892\n",
            "Epoch [19/20], Loss: 0.2910\n",
            "Epoch [20/20], Loss: 0.2855\n"
          ]
        }
      ]
    },
    {
      "cell_type": "code",
      "source": [
        "#eval\n",
        "model.eval() #turns off dropout and normalization"
      ],
      "metadata": {
        "colab": {
          "base_uri": "https://localhost:8080/"
        },
        "id": "5Zb8g8zrCB4F",
        "outputId": "a66f13a6-3194-4431-c1a1-c61ea233cee0"
      },
      "execution_count": 45,
      "outputs": [
        {
          "output_type": "execute_result",
          "data": {
            "text/plain": [
              "NeuralNetwork(\n",
              "  (model): Sequential(\n",
              "    (0): Linear(in_features=784, out_features=128, bias=True)\n",
              "    (1): BatchNorm1d(128, eps=1e-05, momentum=0.1, affine=True, track_running_stats=True)\n",
              "    (2): ReLU()\n",
              "    (3): Dropout(p=0.2, inplace=False)\n",
              "    (4): Linear(in_features=128, out_features=64, bias=True)\n",
              "    (5): BatchNorm1d(64, eps=1e-05, momentum=0.1, affine=True, track_running_stats=True)\n",
              "    (6): ReLU()\n",
              "    (7): Dropout(p=0.2, inplace=False)\n",
              "    (8): Linear(in_features=64, out_features=10, bias=True)\n",
              "  )\n",
              ")"
            ]
          },
          "metadata": {},
          "execution_count": 45
        }
      ]
    },
    {
      "cell_type": "code",
      "source": [
        "total= 0\n",
        "correct= 0\n",
        "with torch.no_grad():\n",
        "  for batch_features, batch_labels in test_dataloader:\n",
        "    outputs= model(batch_features)       #predictions\n",
        "    _, predicted= torch.max(outputs, 1)     #max(pred)\n",
        "    total+= batch_labels.size(0)\n",
        "    correct+= (predicted==batch_labels).sum().item()\n",
        "\n",
        "print(correct/total)\n",
        ""
      ],
      "metadata": {
        "colab": {
          "base_uri": "https://localhost:8080/"
        },
        "id": "2GIHg0vlCLH2",
        "outputId": "abee6d7b-d00a-4696-bc4a-f44bbba0eb04"
      },
      "execution_count": 46,
      "outputs": [
        {
          "output_type": "stream",
          "name": "stdout",
          "text": [
            "0.8870666666666667\n"
          ]
        }
      ]
    },
    {
      "cell_type": "code",
      "source": [
        "total= 0\n",
        "correct= 0\n",
        "with torch.no_grad():\n",
        "  for batch_features, batch_labels in train_dataloader:\n",
        "    batch_features, batch_labels = batch_features.to(device), batch_labels.to(device)\n",
        "\n",
        "    outputs= model(batch_features)       #predictions\n",
        "    _, predicted= torch.max(outputs, 1)     #max(pred)\n",
        "    total+= batch_labels.size(0)\n",
        "    correct+= (predicted==batch_labels).sum().item()\n",
        "\n",
        "print(correct/total)\n",
        ""
      ],
      "metadata": {
        "colab": {
          "base_uri": "https://localhost:8080/"
        },
        "id": "iJF-rByuCdLt",
        "outputId": "da371faf-67c8-457e-a060-b3af0cb7d304"
      },
      "execution_count": 47,
      "outputs": [
        {
          "output_type": "stream",
          "name": "stdout",
          "text": [
            "0.9207777777777778\n"
          ]
        }
      ]
    },
    {
      "cell_type": "code",
      "source": [],
      "metadata": {
        "id": "_EM2j3gZCnPP"
      },
      "execution_count": 44,
      "outputs": []
    }
  ]
}