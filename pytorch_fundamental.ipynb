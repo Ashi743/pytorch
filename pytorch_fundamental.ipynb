{
  "nbformat": 4,
  "nbformat_minor": 0,
  "metadata": {
    "colab": {
      "provenance": [],
      "authorship_tag": "ABX9TyPOzq3iyjeboei5lg4kPYkm",
      "include_colab_link": true
    },
    "kernelspec": {
      "name": "python3",
      "display_name": "Python 3"
    },
    "language_info": {
      "name": "python"
    }
  },
  "cells": [
    {
      "cell_type": "markdown",
      "metadata": {
        "id": "view-in-github",
        "colab_type": "text"
      },
      "source": [
        "<a href=\"https://colab.research.google.com/github/Ashi743/pytorch/blob/main/pytorch_fundamental.ipynb\" target=\"_parent\"><img src=\"https://colab.research.google.com/assets/colab-badge.svg\" alt=\"Open In Colab\"/></a>"
      ]
    },
    {
      "cell_type": "code",
      "execution_count": 2,
      "metadata": {
        "colab": {
          "base_uri": "https://localhost:8080/"
        },
        "id": "kvz8DScPL_PC",
        "outputId": "5f55294a-d78a-458d-aec2-e4fbf2ce5dc1"
      },
      "outputs": [
        {
          "output_type": "stream",
          "name": "stdout",
          "text": [
            "/bin/bash: line 1: nvidia-smi: command not found\n"
          ]
        }
      ],
      "source": [
        "!nvidia-smi"
      ]
    },
    {
      "cell_type": "code",
      "source": [
        "## pytorch fundamental\n",
        "import numpy as np\n",
        "\n",
        "import torch\n",
        "import pandas as pd\n",
        "import matplotlib.pyplot as plt\n",
        "import seaborn as sns\n",
        "print(torch.__version__)\n"
      ],
      "metadata": {
        "colab": {
          "base_uri": "https://localhost:8080/"
        },
        "id": "hIB0T8SzMVsn",
        "outputId": "4bb3b168-b0ae-4653-913c-dc39b4a58961"
      },
      "execution_count": 3,
      "outputs": [
        {
          "output_type": "stream",
          "name": "stdout",
          "text": [
            "2.5.0+cu121\n"
          ]
        }
      ]
    },
    {
      "cell_type": "code",
      "source": [
        "#tenosrs\n",
        "## scalar\n",
        "scalar = torch.tensor(7)\n",
        "print(scalar.shape)\n",
        "scalar.ndim"
      ],
      "metadata": {
        "colab": {
          "base_uri": "https://localhost:8080/"
        },
        "id": "VMnXat77MrR4",
        "outputId": "709c0c51-1334-4daa-e5e6-d0584837fd08"
      },
      "execution_count": 4,
      "outputs": [
        {
          "output_type": "stream",
          "name": "stdout",
          "text": [
            "torch.Size([])\n"
          ]
        },
        {
          "output_type": "execute_result",
          "data": {
            "text/plain": [
              "0"
            ]
          },
          "metadata": {},
          "execution_count": 4
        }
      ]
    },
    {
      "cell_type": "code",
      "source": [
        "scalar.item()"
      ],
      "metadata": {
        "colab": {
          "base_uri": "https://localhost:8080/"
        },
        "id": "vvzi71ZHTFrC",
        "outputId": "f3f2bab0-5c83-4ed1-bfc0-2edb0223431a"
      },
      "execution_count": 5,
      "outputs": [
        {
          "output_type": "execute_result",
          "data": {
            "text/plain": [
              "7"
            ]
          },
          "metadata": {},
          "execution_count": 5
        }
      ]
    },
    {
      "cell_type": "code",
      "source": [
        "#vector\n",
        "vector = torch.tensor([7,7])\n",
        "print(vector.ndim)\n",
        "print(vector.shape)\n",
        "print(vector.ndim)"
      ],
      "metadata": {
        "colab": {
          "base_uri": "https://localhost:8080/"
        },
        "id": "gIiwi5ZHTLbu",
        "outputId": "61189d8b-d3f2-4db4-88c2-b12cf19a6336"
      },
      "execution_count": 6,
      "outputs": [
        {
          "output_type": "stream",
          "name": "stdout",
          "text": [
            "1\n",
            "torch.Size([2])\n",
            "1\n"
          ]
        }
      ]
    },
    {
      "cell_type": "code",
      "source": [
        "#matrix\n",
        "MATRIX= torch.tensor(([[7,8],\n",
        "                      [1,9]]))\n",
        "\n",
        "print(MATRIX.ndim)\n",
        "print(MATRIX.shape)\n",
        "print(MATRIX.dtype)\n",
        "print(MATRIX.device)\n",
        "print(MATRIX)\n",
        "print(MATRIX[1])\n",
        "print(MATRIX[1][1])"
      ],
      "metadata": {
        "colab": {
          "base_uri": "https://localhost:8080/"
        },
        "id": "KcBAEbnNTbul",
        "outputId": "7769c722-06fc-4913-bb1d-6671bedf7938"
      },
      "execution_count": 7,
      "outputs": [
        {
          "output_type": "stream",
          "name": "stdout",
          "text": [
            "2\n",
            "torch.Size([2, 2])\n",
            "torch.int64\n",
            "cpu\n",
            "tensor([[7, 8],\n",
            "        [1, 9]])\n",
            "tensor([1, 9])\n",
            "tensor(9)\n"
          ]
        }
      ]
    },
    {
      "cell_type": "code",
      "source": [
        "#TENSOR\n",
        "TENSOR=   torch.tensor([[[1,2,3],\n",
        "                         [4,5,6],\n",
        "                         [7,8,9]]])\n",
        "print(TENSOR.ndim)\n",
        "print(TENSOR.shape)\n",
        "print(TENSOR.dtype)\n",
        "print(TENSOR.device)\n",
        "print(TENSOR)\n",
        "print(TENSOR[0])\n",
        "print(TENSOR[0][1])\n",
        "print(TENSOR[0][1][1])\n"
      ],
      "metadata": {
        "colab": {
          "base_uri": "https://localhost:8080/"
        },
        "id": "Sr9_aNHST6RK",
        "outputId": "a1ec3df5-fe05-4939-8a96-a3990421f43f"
      },
      "execution_count": 8,
      "outputs": [
        {
          "output_type": "stream",
          "name": "stdout",
          "text": [
            "3\n",
            "torch.Size([1, 3, 3])\n",
            "torch.int64\n",
            "cpu\n",
            "tensor([[[1, 2, 3],\n",
            "         [4, 5, 6],\n",
            "         [7, 8, 9]]])\n",
            "tensor([[1, 2, 3],\n",
            "        [4, 5, 6],\n",
            "        [7, 8, 9]])\n",
            "tensor([4, 5, 6])\n",
            "tensor(5)\n"
          ]
        }
      ]
    },
    {
      "cell_type": "code",
      "source": [
        "TENSOR=   torch.tensor([[[[1,1,2],\n",
        "                         [2,1,1],\n",
        "                         [3,1,1]],[[1,2,3],\n",
        "                         [4,5,6],\n",
        "                         [7,8,9]]]])\n",
        "print(TENSOR.ndim)\n",
        "print(TENSOR.shape)\n",
        "print(TENSOR.dtype)\n",
        "print(TENSOR.device)\n",
        "print(TENSOR)\n",
        "print(TENSOR[0])\n",
        "print(TENSOR[0][1])\n",
        "print(TENSOR[0][1][1])\n"
      ],
      "metadata": {
        "colab": {
          "base_uri": "https://localhost:8080/"
        },
        "id": "rbYMuhEaUu7w",
        "outputId": "68167b43-ad4d-4238-bfe1-5ab929cf4c58"
      },
      "execution_count": 9,
      "outputs": [
        {
          "output_type": "stream",
          "name": "stdout",
          "text": [
            "4\n",
            "torch.Size([1, 2, 3, 3])\n",
            "torch.int64\n",
            "cpu\n",
            "tensor([[[[1, 1, 2],\n",
            "          [2, 1, 1],\n",
            "          [3, 1, 1]],\n",
            "\n",
            "         [[1, 2, 3],\n",
            "          [4, 5, 6],\n",
            "          [7, 8, 9]]]])\n",
            "tensor([[[1, 1, 2],\n",
            "         [2, 1, 1],\n",
            "         [3, 1, 1]],\n",
            "\n",
            "        [[1, 2, 3],\n",
            "         [4, 5, 6],\n",
            "         [7, 8, 9]]])\n",
            "tensor([[1, 2, 3],\n",
            "        [4, 5, 6],\n",
            "        [7, 8, 9]])\n",
            "tensor([4, 5, 6])\n"
          ]
        }
      ]
    },
    {
      "cell_type": "code",
      "source": [
        "#random tensor\n",
        "random_tensor= torch.rand(3,4,2)\n",
        "print(random_tensor.ndim)\n",
        "print(random_tensor.shape)\n",
        "print(random_tensor.dtype)\n",
        "print(random_tensor.device)\n",
        "print(random_tensor)\n",
        "print(random_tensor.requires_grad)"
      ],
      "metadata": {
        "colab": {
          "base_uri": "https://localhost:8080/"
        },
        "id": "QODrbzyRVKza",
        "outputId": "023b55ea-e91a-44b0-d647-f77f9c2b425a"
      },
      "execution_count": 10,
      "outputs": [
        {
          "output_type": "stream",
          "name": "stdout",
          "text": [
            "3\n",
            "torch.Size([3, 4, 2])\n",
            "torch.float32\n",
            "cpu\n",
            "tensor([[[0.8724, 0.8424],\n",
            "         [0.2814, 0.2154],\n",
            "         [0.9205, 0.2762],\n",
            "         [0.7627, 0.7805]],\n",
            "\n",
            "        [[0.5021, 0.0062],\n",
            "         [0.2108, 0.1160],\n",
            "         [0.2819, 0.6068],\n",
            "         [0.5742, 0.4618]],\n",
            "\n",
            "        [[0.2313, 0.8577],\n",
            "         [0.1561, 0.1528],\n",
            "         [0.1071, 0.3067],\n",
            "         [0.0588, 0.1264]]])\n",
            "False\n"
          ]
        }
      ]
    },
    {
      "cell_type": "code",
      "source": [
        "#create random tensor with similar shape as of image tensor\n",
        "#rgb\n",
        "random_image_size_tensor= torch.rand(size= (224,224,3)) #size is a param\n",
        "random_image_size_tensor.shape, random_image_size_tensor.ndim"
      ],
      "metadata": {
        "colab": {
          "base_uri": "https://localhost:8080/"
        },
        "id": "wkoA-kdTWzB4",
        "outputId": "251a8753-6045-436c-eea3-8aa0fd8f500c"
      },
      "execution_count": 11,
      "outputs": [
        {
          "output_type": "execute_result",
          "data": {
            "text/plain": [
              "(torch.Size([224, 224, 3]), 3)"
            ]
          },
          "metadata": {},
          "execution_count": 11
        }
      ]
    },
    {
      "cell_type": "code",
      "source": [
        "#zeros and ones\n",
        "print(np.zeros((3,4)))\n",
        "zeros= torch.zeros(size=(3,4))\n",
        "print(zeros.type())\n",
        "random_tensor =torch.rand(size=(3,4))\n",
        "zeros*random_tensor"
      ],
      "metadata": {
        "colab": {
          "base_uri": "https://localhost:8080/"
        },
        "id": "kGtZY77wWzEI",
        "outputId": "5e9b046a-84c7-41d8-ab87-5272b9265335"
      },
      "execution_count": 12,
      "outputs": [
        {
          "output_type": "stream",
          "name": "stdout",
          "text": [
            "[[0. 0. 0. 0.]\n",
            " [0. 0. 0. 0.]\n",
            " [0. 0. 0. 0.]]\n",
            "torch.FloatTensor\n"
          ]
        },
        {
          "output_type": "execute_result",
          "data": {
            "text/plain": [
              "tensor([[0., 0., 0., 0.],\n",
              "        [0., 0., 0., 0.],\n",
              "        [0., 0., 0., 0.]])"
            ]
          },
          "metadata": {},
          "execution_count": 12
        }
      ]
    },
    {
      "cell_type": "code",
      "source": [
        "ones= torch.ones(size=(3,4))\n",
        "ones.dtype"
      ],
      "metadata": {
        "colab": {
          "base_uri": "https://localhost:8080/"
        },
        "id": "BMKu2TbzWzGk",
        "outputId": "ef7d62a0-58f6-4623-b1f5-88168cd173c6"
      },
      "execution_count": 13,
      "outputs": [
        {
          "output_type": "execute_result",
          "data": {
            "text/plain": [
              "torch.float32"
            ]
          },
          "metadata": {},
          "execution_count": 13
        }
      ]
    },
    {
      "cell_type": "code",
      "source": [
        "#creating a range of tensors and tensors- like\n",
        "one_to_12= torch.arange(start=1, step=2 ,end=12)\n",
        "one_to_12"
      ],
      "metadata": {
        "colab": {
          "base_uri": "https://localhost:8080/"
        },
        "id": "-wDdRPemWzJ7",
        "outputId": "8cd4a319-f90b-4900-9b3a-9266019f2739"
      },
      "execution_count": 14,
      "outputs": [
        {
          "output_type": "execute_result",
          "data": {
            "text/plain": [
              "tensor([ 1,  3,  5,  7,  9, 11])"
            ]
          },
          "metadata": {},
          "execution_count": 14
        }
      ]
    },
    {
      "cell_type": "code",
      "source": [
        "np.arange(1,12,2)"
      ],
      "metadata": {
        "colab": {
          "base_uri": "https://localhost:8080/"
        },
        "id": "zw4uKyKKWzRv",
        "outputId": "4aa3d689-eede-428d-9998-af5b8862981c"
      },
      "execution_count": 15,
      "outputs": [
        {
          "output_type": "execute_result",
          "data": {
            "text/plain": [
              "array([ 1,  3,  5,  7,  9, 11])"
            ]
          },
          "metadata": {},
          "execution_count": 15
        }
      ]
    },
    {
      "cell_type": "code",
      "source": [
        "zeroos= torch.zeros_like(input=one_to_12)\n",
        "zeroos"
      ],
      "metadata": {
        "colab": {
          "base_uri": "https://localhost:8080/"
        },
        "id": "GHBIVoTqWzVz",
        "outputId": "2cd3834a-c08b-428f-c42c-5f6fd2b9ea45"
      },
      "execution_count": 16,
      "outputs": [
        {
          "output_type": "execute_result",
          "data": {
            "text/plain": [
              "tensor([0, 0, 0, 0, 0, 0])"
            ]
          },
          "metadata": {},
          "execution_count": 16
        }
      ]
    },
    {
      "cell_type": "code",
      "source": [
        "# float 32 tensor\n",
        "float_32_tensor= torch.tensor([3.0,4.0,5.0,6], dtype= torch.float64,   # what dtype float 32 or 64\n",
        "                              device= \"cpu\",         #what divice tensor on\n",
        "                              requires_grad= False)  #to track gradient or not\n",
        ""
      ],
      "metadata": {
        "id": "b2CCTv-tWzYj"
      },
      "execution_count": 17,
      "outputs": []
    },
    {
      "cell_type": "code",
      "source": [
        "#change type\n",
        "float_32_tensor.dtype\n",
        "float_16_tensor= float_32_tensor.type(torch.float16)\n",
        "float_16_tensor.dtype"
      ],
      "metadata": {
        "colab": {
          "base_uri": "https://localhost:8080/"
        },
        "id": "p5GhAmorj_7P",
        "outputId": "b9ddd6c7-c166-42fa-9ecb-f9533faa7b81"
      },
      "execution_count": 18,
      "outputs": [
        {
          "output_type": "execute_result",
          "data": {
            "text/plain": [
              "torch.float16"
            ]
          },
          "metadata": {},
          "execution_count": 18
        }
      ]
    },
    {
      "cell_type": "code",
      "source": [
        "float_32_tensor*float_16_tensor    #max(16,64)"
      ],
      "metadata": {
        "colab": {
          "base_uri": "https://localhost:8080/"
        },
        "id": "Ucc_qLoBj_95",
        "outputId": "dcf8eaec-5db2-4423-fbd9-3508184ef4dd"
      },
      "execution_count": 19,
      "outputs": [
        {
          "output_type": "execute_result",
          "data": {
            "text/plain": [
              "tensor([ 9., 16., 25., 36.], dtype=torch.float64)"
            ]
          },
          "metadata": {},
          "execution_count": 19
        }
      ]
    },
    {
      "cell_type": "code",
      "source": [
        "#getting tensor attributes\n",
        "int_32_tensor= torch.tensor([3,4,5,6] ,dtype= torch.int32)\n",
        "print(int_32_tensor.dtype)\n",
        "print(int_32_tensor.shape)\n",
        "print(int_32_tensor.device)"
      ],
      "metadata": {
        "colab": {
          "base_uri": "https://localhost:8080/"
        },
        "id": "Lxu6CIosmtzY",
        "outputId": "30f299eb-f563-4e6e-da4e-ab835e69be6a"
      },
      "execution_count": 20,
      "outputs": [
        {
          "output_type": "stream",
          "name": "stdout",
          "text": [
            "torch.int32\n",
            "torch.Size([4])\n",
            "cpu\n"
          ]
        }
      ]
    },
    {
      "cell_type": "code",
      "source": [
        "res1= float_16_tensor*int_32_tensor\n",
        "res1.dtype\n",
        "memory_used = float_32_tensor.element_size() * float_32_tensor.numel()\n",
        "memory_used"
      ],
      "metadata": {
        "colab": {
          "base_uri": "https://localhost:8080/"
        },
        "id": "YcrQsNMnnWa0",
        "outputId": "e01da258-b217-4027-94b6-a66790acbf57"
      },
      "execution_count": 21,
      "outputs": [
        {
          "output_type": "execute_result",
          "data": {
            "text/plain": [
              "32"
            ]
          },
          "metadata": {},
          "execution_count": 21
        }
      ]
    },
    {
      "cell_type": "code",
      "source": [
        "float_32_tensor.element_size()"
      ],
      "metadata": {
        "colab": {
          "base_uri": "https://localhost:8080/"
        },
        "id": "HJ77M6KGoFLf",
        "outputId": "b2abb094-a379-4711-c86b-2ffcc2ffabdd"
      },
      "execution_count": 22,
      "outputs": [
        {
          "output_type": "execute_result",
          "data": {
            "text/plain": [
              "8"
            ]
          },
          "metadata": {},
          "execution_count": 22
        }
      ]
    },
    {
      "cell_type": "code",
      "source": [
        "#getting info\n",
        "print(res1.shape)\n",
        "print(res1.dtype)\n",
        "print(res1.device)"
      ],
      "metadata": {
        "colab": {
          "base_uri": "https://localhost:8080/"
        },
        "id": "6Xb3h19lns7t",
        "outputId": "f730a427-5175-47e5-9193-2fce438ddc91"
      },
      "execution_count": 23,
      "outputs": [
        {
          "output_type": "stream",
          "name": "stdout",
          "text": [
            "torch.Size([4])\n",
            "torch.float16\n",
            "cpu\n"
          ]
        }
      ]
    },
    {
      "cell_type": "code",
      "source": [
        "#manipulating tensors(tensor operations)\n",
        "#addition\n",
        "tensor= torch.tensor([1,2,3])\n",
        "\n",
        "print(tensor+10)\n",
        "#subtraction\n",
        "print(tensor-10)\n",
        "#multiplication\n",
        "print(tensor*10)\n",
        "#division\n",
        "print(tensor/10)\n",
        "\n",
        "print()\n",
        "\n",
        "print(torch.mul(tensor,10))\n",
        "print(torch.add(tensor,10))\n",
        "print(torch.sub(tensor,10))\n",
        "print(torch.div(tensor,10))\n"
      ],
      "metadata": {
        "colab": {
          "base_uri": "https://localhost:8080/"
        },
        "id": "nxZDNwL7ns-F",
        "outputId": "2eef3c0b-bbb6-491e-e996-8570339796bd"
      },
      "execution_count": 24,
      "outputs": [
        {
          "output_type": "stream",
          "name": "stdout",
          "text": [
            "tensor([11, 12, 13])\n",
            "tensor([-9, -8, -7])\n",
            "tensor([10, 20, 30])\n",
            "tensor([0.1000, 0.2000, 0.3000])\n",
            "\n",
            "tensor([10, 20, 30])\n",
            "tensor([11, 12, 13])\n",
            "tensor([-9, -8, -7])\n",
            "tensor([0.1000, 0.2000, 0.3000])\n"
          ]
        }
      ]
    },
    {
      "cell_type": "code",
      "source": [
        "### matrix multiplication\n",
        "# element-wise\n",
        "# matrix or dot product\n",
        "\n",
        "print(tensor * tensor)\n"
      ],
      "metadata": {
        "colab": {
          "base_uri": "https://localhost:8080/"
        },
        "id": "Sp5OopEspDaO",
        "outputId": "f013377e-e207-4262-b3c4-90759a176a0a"
      },
      "execution_count": 25,
      "outputs": [
        {
          "output_type": "stream",
          "name": "stdout",
          "text": [
            "tensor([1, 4, 9])\n"
          ]
        }
      ]
    },
    {
      "cell_type": "code",
      "source": [
        "tensor= torch.tensor([10,20,30,40,50,60,7,8,9])\n"
      ],
      "metadata": {
        "id": "uzNUSaoIsSEx"
      },
      "execution_count": 26,
      "outputs": []
    },
    {
      "cell_type": "code",
      "source": [
        "%%time\n",
        "val= 0\n",
        "for i in range(len(tensor)):\n",
        "  val+=tensor[i]*tensor[i]\n",
        "\n",
        "val"
      ],
      "metadata": {
        "colab": {
          "base_uri": "https://localhost:8080/"
        },
        "id": "ESGGxbd8q2iX",
        "outputId": "44a50fcc-50f7-4d88-c661-65cd7b0eb10c"
      },
      "execution_count": 27,
      "outputs": [
        {
          "output_type": "stream",
          "name": "stdout",
          "text": [
            "CPU times: user 568 µs, sys: 87 µs, total: 655 µs\n",
            "Wall time: 1.97 ms\n"
          ]
        },
        {
          "output_type": "execute_result",
          "data": {
            "text/plain": [
              "tensor(9294)"
            ]
          },
          "metadata": {},
          "execution_count": 27
        }
      ]
    },
    {
      "cell_type": "code",
      "source": [
        "%%time\n",
        "torch.matmul(tensor,tensor)"
      ],
      "metadata": {
        "colab": {
          "base_uri": "https://localhost:8080/"
        },
        "id": "64s6sEfQrzs1",
        "outputId": "ede7f21d-a6cc-4259-a346-e2c8108cfd1e"
      },
      "execution_count": 28,
      "outputs": [
        {
          "output_type": "stream",
          "name": "stdout",
          "text": [
            "CPU times: user 0 ns, sys: 698 µs, total: 698 µs\n",
            "Wall time: 9.79 ms\n"
          ]
        },
        {
          "output_type": "execute_result",
          "data": {
            "text/plain": [
              "tensor(9294)"
            ]
          },
          "metadata": {},
          "execution_count": 28
        }
      ]
    },
    {
      "cell_type": "code",
      "source": [
        "###error in DL is shape error\n",
        "#1. inner dim must match\n",
        "#2. output is shape of outer dim   DUHH!!\n",
        "\n",
        "print(torch.matmul(torch.rand(3,2), torch.rand(2,3)))\n",
        "torch.matmul(torch.rand(2,3).T, torch.rand(2,3))\n"
      ],
      "metadata": {
        "colab": {
          "base_uri": "https://localhost:8080/"
        },
        "id": "AJodzbOBr94b",
        "outputId": "89163858-4088-4402-e45a-cd89b835fcca"
      },
      "execution_count": 29,
      "outputs": [
        {
          "output_type": "stream",
          "name": "stdout",
          "text": [
            "tensor([[0.0847, 0.8448, 0.4068],\n",
            "        [0.4567, 0.5882, 0.6364],\n",
            "        [0.0605, 0.7831, 0.3610]])\n"
          ]
        },
        {
          "output_type": "execute_result",
          "data": {
            "text/plain": [
              "tensor([[0.1036, 0.1066, 0.0122],\n",
              "        [0.8090, 0.7396, 0.2790],\n",
              "        [0.7096, 0.7108, 0.1222]])"
            ]
          },
          "metadata": {},
          "execution_count": 29
        }
      ]
    },
    {
      "cell_type": "code",
      "source": [
        "tensor_A= torch.tensor([[1,2],\n",
        "                     [3,4],\n",
        "                     [5,6]])\n",
        "tensor_B= torch.tensor([[7,10],\n",
        "                     [8,11],\n",
        "                     [9,12]])\n",
        "\n",
        "torch.mm(tensor_A, tensor_B.T)      # torch.mm==torch.matmul"
      ],
      "metadata": {
        "colab": {
          "base_uri": "https://localhost:8080/"
        },
        "id": "Z0hqRMk8tgF_",
        "outputId": "23e563d0-71ec-4f3a-da6f-08f96f98f2bf"
      },
      "execution_count": 30,
      "outputs": [
        {
          "output_type": "execute_result",
          "data": {
            "text/plain": [
              "tensor([[ 27,  30,  33],\n",
              "        [ 61,  68,  75],\n",
              "        [ 95, 106, 117]])"
            ]
          },
          "metadata": {},
          "execution_count": 30
        }
      ]
    },
    {
      "cell_type": "code",
      "source": [],
      "metadata": {
        "id": "Aq6UWR4JmWTZ"
      },
      "execution_count": null,
      "outputs": []
    },
    {
      "cell_type": "code",
      "source": [
        "#min, max,avg,sum\n",
        "x= torch.arange(1,100,10)\n",
        "print(x)\n",
        "print(x.min())\n",
        "print(x.max())\n",
        "print(x.type(torch.float32).mean())\n",
        "print(x.sum())\n",
        "torch.mean(x, dtype=torch.float32)"
      ],
      "metadata": {
        "colab": {
          "base_uri": "https://localhost:8080/"
        },
        "id": "2cYz23znu2f6",
        "outputId": "d2a768a8-6e76-47c1-818a-708e416c9e2d"
      },
      "execution_count": 31,
      "outputs": [
        {
          "output_type": "stream",
          "name": "stdout",
          "text": [
            "tensor([ 1, 11, 21, 31, 41, 51, 61, 71, 81, 91])\n",
            "tensor(1)\n",
            "tensor(91)\n",
            "tensor(46.)\n",
            "tensor(460)\n"
          ]
        },
        {
          "output_type": "execute_result",
          "data": {
            "text/plain": [
              "tensor(46.)"
            ]
          },
          "metadata": {},
          "execution_count": 31
        }
      ]
    },
    {
      "cell_type": "code",
      "source": [
        "#finding positional min max\n",
        "print(x.argmin())\n",
        "print(x.argmax())         #SOFTMAX USED LATER\n",
        "x[0] ,x[9]"
      ],
      "metadata": {
        "colab": {
          "base_uri": "https://localhost:8080/"
        },
        "id": "hqrI1b0eu2jA",
        "outputId": "4b15eb56-e714-4d4a-9246-32f8fed0a073"
      },
      "execution_count": 32,
      "outputs": [
        {
          "output_type": "stream",
          "name": "stdout",
          "text": [
            "tensor(0)\n",
            "tensor(9)\n"
          ]
        },
        {
          "output_type": "execute_result",
          "data": {
            "text/plain": [
              "(tensor(1), tensor(91))"
            ]
          },
          "metadata": {},
          "execution_count": 32
        }
      ]
    },
    {
      "cell_type": "markdown",
      "source": [
        "## Reshaping, stacking, squeezing, unsqueezing\n",
        "* reshape to defined shape\n",
        "* view the tensor of certain shape keeping memory same as original\n",
        "* stackin horiz or vertically\n",
        "* squeeze all 1 dim out from tensor\n",
        "* unsqueeze in a 1 dim into the tensor\n",
        "* permute the input to other view in a certain way"
      ],
      "metadata": {
        "id": "gBK7Vrgh_yOJ"
      }
    },
    {
      "cell_type": "code",
      "source": [
        "#reshape, stacking, squeezing, unsqueezing\n",
        "import torch\n",
        "x = torch.arange(1. ,13.)\n",
        "print(x)\n",
        "x.shape"
      ],
      "metadata": {
        "colab": {
          "base_uri": "https://localhost:8080/"
        },
        "id": "4T776Vqru2mh",
        "outputId": "fa7a3ff5-36fb-4c33-fc71-3a8c4e7f3989"
      },
      "execution_count": 33,
      "outputs": [
        {
          "output_type": "stream",
          "name": "stdout",
          "text": [
            "tensor([ 1.,  2.,  3.,  4.,  5.,  6.,  7.,  8.,  9., 10., 11., 12.])\n"
          ]
        },
        {
          "output_type": "execute_result",
          "data": {
            "text/plain": [
              "torch.Size([12])"
            ]
          },
          "metadata": {},
          "execution_count": 33
        }
      ]
    },
    {
      "cell_type": "code",
      "source": [
        "print(x.reshape(4,3))\n",
        "print(x.reshape(3,4).shape)\n",
        "\n",
        "print()\n",
        "#change view\n",
        "z= x.view(4,3)\n",
        "print(z, z.shape)\n",
        "\n",
        "print()\n",
        "#stack\n",
        "print(torch.stack([x,x,x,x], dim=0))  # along column, row stack\n",
        "print(torch.vstack([x,x,x,x]))\n",
        "v_stack =torch.vstack([x,x,x,x])\n",
        "print()\n",
        "print(torch.stack([x,x,x,x], dim=1))  # along row, column stack\n",
        "\n",
        "print(torch.hstack([x,x,x,x]))\n"
      ],
      "metadata": {
        "colab": {
          "base_uri": "https://localhost:8080/"
        },
        "id": "Lq4LLJmYu2qe",
        "outputId": "924db0f1-967c-43dc-a59f-31d97c4adfbd"
      },
      "execution_count": 34,
      "outputs": [
        {
          "output_type": "stream",
          "name": "stdout",
          "text": [
            "tensor([[ 1.,  2.,  3.],\n",
            "        [ 4.,  5.,  6.],\n",
            "        [ 7.,  8.,  9.],\n",
            "        [10., 11., 12.]])\n",
            "torch.Size([3, 4])\n",
            "\n",
            "tensor([[ 1.,  2.,  3.],\n",
            "        [ 4.,  5.,  6.],\n",
            "        [ 7.,  8.,  9.],\n",
            "        [10., 11., 12.]]) torch.Size([4, 3])\n",
            "\n",
            "tensor([[ 1.,  2.,  3.,  4.,  5.,  6.,  7.,  8.,  9., 10., 11., 12.],\n",
            "        [ 1.,  2.,  3.,  4.,  5.,  6.,  7.,  8.,  9., 10., 11., 12.],\n",
            "        [ 1.,  2.,  3.,  4.,  5.,  6.,  7.,  8.,  9., 10., 11., 12.],\n",
            "        [ 1.,  2.,  3.,  4.,  5.,  6.,  7.,  8.,  9., 10., 11., 12.]])\n",
            "tensor([[ 1.,  2.,  3.,  4.,  5.,  6.,  7.,  8.,  9., 10., 11., 12.],\n",
            "        [ 1.,  2.,  3.,  4.,  5.,  6.,  7.,  8.,  9., 10., 11., 12.],\n",
            "        [ 1.,  2.,  3.,  4.,  5.,  6.,  7.,  8.,  9., 10., 11., 12.],\n",
            "        [ 1.,  2.,  3.,  4.,  5.,  6.,  7.,  8.,  9., 10., 11., 12.]])\n",
            "\n",
            "tensor([[ 1.,  1.,  1.,  1.],\n",
            "        [ 2.,  2.,  2.,  2.],\n",
            "        [ 3.,  3.,  3.,  3.],\n",
            "        [ 4.,  4.,  4.,  4.],\n",
            "        [ 5.,  5.,  5.,  5.],\n",
            "        [ 6.,  6.,  6.,  6.],\n",
            "        [ 7.,  7.,  7.,  7.],\n",
            "        [ 8.,  8.,  8.,  8.],\n",
            "        [ 9.,  9.,  9.,  9.],\n",
            "        [10., 10., 10., 10.],\n",
            "        [11., 11., 11., 11.],\n",
            "        [12., 12., 12., 12.]])\n",
            "tensor([ 1.,  2.,  3.,  4.,  5.,  6.,  7.,  8.,  9., 10., 11., 12.,  1.,  2.,\n",
            "         3.,  4.,  5.,  6.,  7.,  8.,  9., 10., 11., 12.,  1.,  2.,  3.,  4.,\n",
            "         5.,  6.,  7.,  8.,  9., 10., 11., 12.,  1.,  2.,  3.,  4.,  5.,  6.,\n",
            "         7.,  8.,  9., 10., 11., 12.])\n"
          ]
        }
      ]
    },
    {
      "cell_type": "code",
      "source": [
        "#squeeze\n",
        "v_ = torch.tensor([[1,2,3]])\n",
        "print(v_.squeeze())\n",
        "print(v_.squeeze().shape)\n",
        "v_.squeeze()"
      ],
      "metadata": {
        "colab": {
          "base_uri": "https://localhost:8080/"
        },
        "id": "6SLym-GZC36i",
        "outputId": "8ce77ce5-7f8c-47de-9623-82f1b5901aa6"
      },
      "execution_count": 35,
      "outputs": [
        {
          "output_type": "stream",
          "name": "stdout",
          "text": [
            "tensor([1, 2, 3])\n",
            "torch.Size([3])\n"
          ]
        },
        {
          "output_type": "execute_result",
          "data": {
            "text/plain": [
              "tensor([1, 2, 3])"
            ]
          },
          "metadata": {},
          "execution_count": 35
        }
      ]
    },
    {
      "cell_type": "code",
      "source": [
        "torch.unsqueeze(v_, dim=0)"
      ],
      "metadata": {
        "colab": {
          "base_uri": "https://localhost:8080/"
        },
        "id": "VqsRPgp_C3-F",
        "outputId": "54b7509f-b957-40fa-f27a-12a1aaafa673"
      },
      "execution_count": 36,
      "outputs": [
        {
          "output_type": "execute_result",
          "data": {
            "text/plain": [
              "tensor([[[1, 2, 3]]])"
            ]
          },
          "metadata": {},
          "execution_count": 36
        }
      ]
    },
    {
      "cell_type": "code",
      "source": [
        "x_original= torch.rand(size=(224,225,3))  #height ,width, colour\n",
        "x_original.shape\n",
        "x_permuted= x_original.permute(2,0,1)\n",
        "x_permuted.shape"
      ],
      "metadata": {
        "colab": {
          "base_uri": "https://localhost:8080/"
        },
        "id": "888b1rViC4Cu",
        "outputId": "d5ef9e16-6f44-4c77-8486-1932975e4317"
      },
      "execution_count": 37,
      "outputs": [
        {
          "output_type": "execute_result",
          "data": {
            "text/plain": [
              "torch.Size([3, 224, 225])"
            ]
          },
          "metadata": {},
          "execution_count": 37
        }
      ]
    },
    {
      "cell_type": "code",
      "source": [
        "x_original[0,0,0]=123"
      ],
      "metadata": {
        "id": "9_3LqdPfICX-"
      },
      "execution_count": 38,
      "outputs": []
    },
    {
      "cell_type": "code",
      "source": [
        "import torch\n",
        "x= torch.arange(1,10).reshape(1,3,3)\n",
        "x, x.shape"
      ],
      "metadata": {
        "colab": {
          "base_uri": "https://localhost:8080/"
        },
        "id": "YSuBpggMZ-6H",
        "outputId": "f5fcd0e8-6e9b-46e5-df94-0f6b4c519fe7"
      },
      "execution_count": 39,
      "outputs": [
        {
          "output_type": "execute_result",
          "data": {
            "text/plain": [
              "(tensor([[[1, 2, 3],\n",
              "          [4, 5, 6],\n",
              "          [7, 8, 9]]]),\n",
              " torch.Size([1, 3, 3]))"
            ]
          },
          "metadata": {},
          "execution_count": 39
        }
      ]
    },
    {
      "cell_type": "code",
      "source": [
        "#indexing\n",
        "x[0][0]\n",
        "x[:, :, 0]\n",
        "x[:, 1, 1]\n",
        "x[0, 0, :]"
      ],
      "metadata": {
        "colab": {
          "base_uri": "https://localhost:8080/"
        },
        "id": "y1D3wWufZ-8s",
        "outputId": "ba7efdb0-4056-4a70-9b7b-1a4d6162c740"
      },
      "execution_count": 47,
      "outputs": [
        {
          "output_type": "execute_result",
          "data": {
            "text/plain": [
              "tensor([1, 2, 3])"
            ]
          },
          "metadata": {},
          "execution_count": 47
        }
      ]
    },
    {
      "cell_type": "code",
      "source": [
        "x[:,1,1]==x[0][1][1]"
      ],
      "metadata": {
        "colab": {
          "base_uri": "https://localhost:8080/"
        },
        "id": "Zs8_dOOXZ-_a",
        "outputId": "16b69378-4a61-45ab-fdc8-42dcc313b3d4"
      },
      "execution_count": 50,
      "outputs": [
        {
          "output_type": "execute_result",
          "data": {
            "text/plain": [
              "tensor([True])"
            ]
          },
          "metadata": {},
          "execution_count": 50
        }
      ]
    },
    {
      "cell_type": "code",
      "source": [
        "x[:,:,2]"
      ],
      "metadata": {
        "colab": {
          "base_uri": "https://localhost:8080/"
        },
        "id": "iHrNTz8TZ_CO",
        "outputId": "d9b29191-714a-4514-b07d-7b0ee06b2864"
      },
      "execution_count": 52,
      "outputs": [
        {
          "output_type": "execute_result",
          "data": {
            "text/plain": [
              "tensor([[3, 6, 9]])"
            ]
          },
          "metadata": {},
          "execution_count": 52
        }
      ]
    },
    {
      "cell_type": "markdown",
      "source": [
        "Pytorch and numpy"
      ],
      "metadata": {
        "id": "TjMtlXuOb3uT"
      }
    },
    {
      "cell_type": "code",
      "source": [
        "# torch to numpy torch.Tensor.numpy\n",
        "# numpy to torch torch.from_numpy(ndarray)  --> reflects numpy float64(defalut)\n",
        "import torch, numpy as np\n",
        "array= np.arange(1.0, 8.0)\n",
        "tensor= torch.from_numpy(array).type(torch.float32)\n",
        "array, tensor"
      ],
      "metadata": {
        "colab": {
          "base_uri": "https://localhost:8080/"
        },
        "id": "NDRXLbl3b14E",
        "outputId": "ce0d6559-daa0-4ae2-9cf2-07e987ec48c4"
      },
      "execution_count": 58,
      "outputs": [
        {
          "output_type": "execute_result",
          "data": {
            "text/plain": [
              "(array([1., 2., 3., 4., 5., 6., 7.]), tensor([1., 2., 3., 4., 5., 6., 7.]))"
            ]
          },
          "metadata": {},
          "execution_count": 58
        }
      ]
    },
    {
      "cell_type": "code",
      "source": [
        "array.dtype ,tensor.dtype, torch.arange(1.0, 8.0).dtype"
      ],
      "metadata": {
        "colab": {
          "base_uri": "https://localhost:8080/"
        },
        "id": "RItJM4i9b16v",
        "outputId": "0c9650b2-a3aa-4c6a-bfc8-2ea12ff92a2f"
      },
      "execution_count": 57,
      "outputs": [
        {
          "output_type": "execute_result",
          "data": {
            "text/plain": [
              "(dtype('float64'), torch.float64, torch.float32)"
            ]
          },
          "metadata": {},
          "execution_count": 57
        }
      ]
    },
    {
      "cell_type": "code",
      "source": [
        "array+=1\n",
        "array"
      ],
      "metadata": {
        "colab": {
          "base_uri": "https://localhost:8080/"
        },
        "id": "4gNF5j53b1-7",
        "outputId": "2a25292f-55aa-4e22-ec9c-352771ef761f"
      },
      "execution_count": 61,
      "outputs": [
        {
          "output_type": "execute_result",
          "data": {
            "text/plain": [
              "array([ 4.,  5.,  6.,  7.,  8.,  9., 10.])"
            ]
          },
          "metadata": {},
          "execution_count": 61
        }
      ]
    },
    {
      "cell_type": "code",
      "source": [
        "tensor= torch.ones(7)\n",
        "numpy_tensor= tensor.numpy()\n",
        "tensor, numpy_tensor"
      ],
      "metadata": {
        "colab": {
          "base_uri": "https://localhost:8080/"
        },
        "id": "IcNn3di5daqJ",
        "outputId": "64e3edbf-703b-4f63-beb2-083fa80c7dc2"
      },
      "execution_count": 62,
      "outputs": [
        {
          "output_type": "execute_result",
          "data": {
            "text/plain": [
              "(tensor([1., 1., 1., 1., 1., 1., 1.]),\n",
              " array([1., 1., 1., 1., 1., 1., 1.], dtype=float32))"
            ]
          },
          "metadata": {},
          "execution_count": 62
        }
      ]
    },
    {
      "cell_type": "code",
      "source": [
        "tensor+=1\n",
        "tensor, numpy_tensor"
      ],
      "metadata": {
        "colab": {
          "base_uri": "https://localhost:8080/"
        },
        "id": "WNMXYtxudqN-",
        "outputId": "dfd81590-ed95-4ec9-a03b-dc59361e8564"
      },
      "execution_count": 63,
      "outputs": [
        {
          "output_type": "execute_result",
          "data": {
            "text/plain": [
              "(tensor([2., 2., 2., 2., 2., 2., 2.]),\n",
              " array([2., 2., 2., 2., 2., 2., 2.], dtype=float32))"
            ]
          },
          "metadata": {},
          "execution_count": 63
        }
      ]
    },
    {
      "cell_type": "code",
      "source": [
        "### reproducibility  (trying out random out of random)"
      ],
      "metadata": {
        "id": "uMmnMVrudqS_"
      },
      "execution_count": 64,
      "outputs": []
    },
    {
      "cell_type": "code",
      "source": [
        "# random no. --> tensor application --. update-->\n",
        "torch.rand(3,3,3)\n",
        "# to reduce teh randomness     WE USE RANDOM SEED  so as to flavour the randomness\n",
        "RANDOM_SEED= 42\n",
        "torch.manual_seed(RANDOM_SEED)\n",
        "a= torch.rand(3,3,3)\n",
        "\n",
        "RANDOM_SEED= 42\n",
        "torch.manual_seed(RANDOM_SEED)  #just for one vlock of code or each\n",
        "b= torch.rand(3,3,3)\n",
        "print(a)\n",
        "print(b)\n",
        "print(a==b)"
      ],
      "metadata": {
        "colab": {
          "base_uri": "https://localhost:8080/"
        },
        "id": "Qy4bvCNCdqV7",
        "outputId": "ed9a777d-cec6-410d-d077-643e74a3762a"
      },
      "execution_count": 72,
      "outputs": [
        {
          "output_type": "stream",
          "name": "stdout",
          "text": [
            "tensor([[[0.8823, 0.9150, 0.3829],\n",
            "         [0.9593, 0.3904, 0.6009],\n",
            "         [0.2566, 0.7936, 0.9408]],\n",
            "\n",
            "        [[0.1332, 0.9346, 0.5936],\n",
            "         [0.8694, 0.5677, 0.7411],\n",
            "         [0.4294, 0.8854, 0.5739]],\n",
            "\n",
            "        [[0.2666, 0.6274, 0.2696],\n",
            "         [0.4414, 0.2969, 0.8317],\n",
            "         [0.1053, 0.2695, 0.3588]]])\n",
            "tensor([[[0.8823, 0.9150, 0.3829],\n",
            "         [0.9593, 0.3904, 0.6009],\n",
            "         [0.2566, 0.7936, 0.9408]],\n",
            "\n",
            "        [[0.1332, 0.9346, 0.5936],\n",
            "         [0.8694, 0.5677, 0.7411],\n",
            "         [0.4294, 0.8854, 0.5739]],\n",
            "\n",
            "        [[0.2666, 0.6274, 0.2696],\n",
            "         [0.4414, 0.2969, 0.8317],\n",
            "         [0.1053, 0.2695, 0.3588]]])\n",
            "tensor([[[True, True, True],\n",
            "         [True, True, True],\n",
            "         [True, True, True]],\n",
            "\n",
            "        [[True, True, True],\n",
            "         [True, True, True],\n",
            "         [True, True, True]],\n",
            "\n",
            "        [[True, True, True],\n",
            "         [True, True, True],\n",
            "         [True, True, True]]])\n"
          ]
        }
      ]
    },
    {
      "cell_type": "code",
      "source": [
        "#running on GPU's\n",
        "!nvidia-smi"
      ],
      "metadata": {
        "colab": {
          "base_uri": "https://localhost:8080/"
        },
        "id": "fqSsGcsddqZC",
        "outputId": "687dcc82-6601-41fe-b885-4bc16c898649"
      },
      "execution_count": 1,
      "outputs": [
        {
          "output_type": "stream",
          "name": "stdout",
          "text": [
            "Sat Nov  2 06:24:20 2024       \n",
            "+---------------------------------------------------------------------------------------+\n",
            "| NVIDIA-SMI 535.104.05             Driver Version: 535.104.05   CUDA Version: 12.2     |\n",
            "|-----------------------------------------+----------------------+----------------------+\n",
            "| GPU  Name                 Persistence-M | Bus-Id        Disp.A | Volatile Uncorr. ECC |\n",
            "| Fan  Temp   Perf          Pwr:Usage/Cap |         Memory-Usage | GPU-Util  Compute M. |\n",
            "|                                         |                      |               MIG M. |\n",
            "|=========================================+======================+======================|\n",
            "|   0  Tesla T4                       Off | 00000000:00:04.0 Off |                    0 |\n",
            "| N/A   45C    P8               9W /  70W |      0MiB / 15360MiB |      0%      Default |\n",
            "|                                         |                      |                  N/A |\n",
            "+-----------------------------------------+----------------------+----------------------+\n",
            "                                                                                         \n",
            "+---------------------------------------------------------------------------------------+\n",
            "| Processes:                                                                            |\n",
            "|  GPU   GI   CI        PID   Type   Process name                            GPU Memory |\n",
            "|        ID   ID                                                             Usage      |\n",
            "|=======================================================================================|\n",
            "|  No running processes found                                                           |\n",
            "+---------------------------------------------------------------------------------------+\n"
          ]
        }
      ]
    },
    {
      "cell_type": "code",
      "source": [
        "import torch\n",
        "torch.cuda.is_available()"
      ],
      "metadata": {
        "colab": {
          "base_uri": "https://localhost:8080/"
        },
        "id": "M5VWZ-7cjLN0",
        "outputId": "b509232d-12ed-4bbe-8102-c61d3bac70cd"
      },
      "execution_count": 2,
      "outputs": [
        {
          "output_type": "execute_result",
          "data": {
            "text/plain": [
              "False"
            ]
          },
          "metadata": {},
          "execution_count": 2
        }
      ]
    },
    {
      "cell_type": "code",
      "source": [
        "#setup device agnostic\n",
        "device= 'cuda' if torch.cuda.is_available() else 'cpu'\n",
        "device"
      ],
      "metadata": {
        "colab": {
          "base_uri": "https://localhost:8080/",
          "height": 36
        },
        "id": "M3RteX1zjZXh",
        "outputId": "fc10254e-34b1-4f5e-a5dd-6feaec721b59"
      },
      "execution_count": 3,
      "outputs": [
        {
          "output_type": "execute_result",
          "data": {
            "text/plain": [
              "'cpu'"
            ],
            "application/vnd.google.colaboratory.intrinsic+json": {
              "type": "string"
            }
          },
          "metadata": {},
          "execution_count": 3
        }
      ]
    },
    {
      "cell_type": "code",
      "source": [
        "import torch\n",
        "\n",
        "# Set the seed for CPU\n",
        "torch.manual_seed(42)\n",
        "\n",
        "# Set the seed for all GPUs\n",
        "torch.cuda.manual_seed_all(42)\n",
        "tensor = torch.rand(3, 4)\n",
        "tensor, tensor.device"
      ],
      "metadata": {
        "colab": {
          "base_uri": "https://localhost:8080/"
        },
        "id": "wDGRdTsIlzbU",
        "outputId": "ec262e43-ff01-4378-d813-4ee171244624"
      },
      "execution_count": 2,
      "outputs": [
        {
          "output_type": "execute_result",
          "data": {
            "text/plain": [
              "(tensor([[0.8823, 0.9150, 0.3829, 0.9593],\n",
              "         [0.3904, 0.6009, 0.2566, 0.7936],\n",
              "         [0.9408, 0.1332, 0.9346, 0.5936]]),\n",
              " device(type='cpu'))"
            ]
          },
          "metadata": {},
          "execution_count": 2
        }
      ]
    },
    {
      "cell_type": "code",
      "source": [
        "import torch\n",
        "\n",
        "# Set the seed for reproducibility\n",
        "torch.manual_seed(7)\n",
        "\n",
        "# Create a random tensor with shape (1, 1, 1, 10)\n",
        "tensor = torch.rand((1, 1, 1, 10))\n",
        "\n",
        "# Remove all dimensions of size 1\n",
        "tensor_squeezed = tensor.squeeze()\n",
        "\n",
        "# Print the original tensor and its shape\n",
        "print(\"Original Tensor:\", tensor)\n",
        "print(\"Original Shape:\", tensor.shape)\n",
        "print()\n",
        "# Print the squeezed tensor and its shape\n",
        "print(\"Squeezed Tensor:\", tensor_squeezed)\n",
        "print(\"Squeezed Shape:\", tensor_squeezed.shape)"
      ],
      "metadata": {
        "colab": {
          "base_uri": "https://localhost:8080/"
        },
        "id": "iHdf5pUflzhf",
        "outputId": "2b3b5554-2ea2-430d-ce2c-5d707cf73d16"
      },
      "execution_count": 2,
      "outputs": [
        {
          "output_type": "stream",
          "name": "stdout",
          "text": [
            "Original Tensor: tensor([[[[0.5349, 0.1988, 0.6592, 0.6569, 0.2328, 0.4251, 0.2071, 0.6297,\n",
            "           0.3653, 0.8513]]]])\n",
            "Original Shape: torch.Size([1, 1, 1, 10])\n",
            "\n",
            "Squeezed Tensor: tensor([0.5349, 0.1988, 0.6592, 0.6569, 0.2328, 0.4251, 0.2071, 0.6297, 0.3653,\n",
            "        0.8513])\n",
            "Squeezed Shape: torch.Size([10])\n"
          ]
        }
      ]
    }
  ]
}