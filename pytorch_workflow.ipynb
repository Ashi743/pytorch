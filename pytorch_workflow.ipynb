{
  "nbformat": 4,
  "nbformat_minor": 0,
  "metadata": {
    "colab": {
      "provenance": [],
      "gpuType": "T4",
      "authorship_tag": "ABX9TyM6Hgcs9nq4kSOCih54JqaX",
      "include_colab_link": true
    },
    "kernelspec": {
      "name": "python3",
      "display_name": "Python 3"
    },
    "language_info": {
      "name": "python"
    },
    "accelerator": "GPU"
  },
  "cells": [
    {
      "cell_type": "markdown",
      "metadata": {
        "id": "view-in-github",
        "colab_type": "text"
      },
      "source": [
        "<a href=\"https://colab.research.google.com/github/Ashi743/pytorch/blob/main/pytorch_workflow.ipynb\" target=\"_parent\"><img src=\"https://colab.research.google.com/assets/colab-badge.svg\" alt=\"Open In Colab\"/></a>"
      ]
    },
    {
      "cell_type": "markdown",
      "source": [
        "data prep, --> build --> fit --> pred --> eval --> save\n",
        "\n"
      ],
      "metadata": {
        "id": "ae6rs8hronoq"
      }
    },
    {
      "cell_type": "code",
      "execution_count": 120,
      "metadata": {
        "colab": {
          "base_uri": "https://localhost:8080/",
          "height": 35
        },
        "id": "F7ulnRS4oF6q",
        "outputId": "0bd7cf35-f6e7-44c5-c266-980d5663a3ee"
      },
      "outputs": [
        {
          "output_type": "execute_result",
          "data": {
            "text/plain": [
              "'2.5.0+cu121'"
            ],
            "application/vnd.google.colaboratory.intrinsic+json": {
              "type": "string"
            }
          },
          "metadata": {},
          "execution_count": 120
        }
      ],
      "source": [
        "import torch\n",
        "from torch  import nn\n",
        "# to combine nn to get something\n",
        "import matplotlib.pyplot as plt\n",
        "import numpy as np\n",
        "import pandas as pd\n",
        "import seaborn as sns\n",
        "\n",
        "torch.__version__"
      ]
    },
    {
      "cell_type": "code",
      "source": [
        "weight = 0.7\n",
        "bias = 0.3\n",
        "\n",
        "start = 0\n",
        "end = 1\n",
        "step = 0.02\n",
        "X = torch.arange(start,end,step).unsqueeze(dim=1) #giving a dim\n",
        "y = weight * X + bias"
      ],
      "metadata": {
        "id": "1EwFCkp9pSgD"
      },
      "execution_count": 122,
      "outputs": []
    },
    {
      "cell_type": "code",
      "source": [
        "X.shape, y.shape\n"
      ],
      "metadata": {
        "colab": {
          "base_uri": "https://localhost:8080/"
        },
        "id": "Xx0DZOwxz5zp",
        "outputId": "737c4d39-21f3-4049-b6cf-fa6e93e34fd7"
      },
      "execution_count": 123,
      "outputs": [
        {
          "output_type": "execute_result",
          "data": {
            "text/plain": [
              "(torch.Size([50, 1]), torch.Size([50, 1]))"
            ]
          },
          "metadata": {},
          "execution_count": 123
        }
      ]
    },
    {
      "cell_type": "code",
      "source": [
        "len(X)"
      ],
      "metadata": {
        "colab": {
          "base_uri": "https://localhost:8080/"
        },
        "id": "TzyOVyyh3K88",
        "outputId": "179d7621-9aec-4315-d526-b91c38a9150a"
      },
      "execution_count": 124,
      "outputs": [
        {
          "output_type": "execute_result",
          "data": {
            "text/plain": [
              "50"
            ]
          },
          "metadata": {},
          "execution_count": 124
        }
      ]
    },
    {
      "cell_type": "code",
      "source": [
        "#splitting\n",
        "train_split = int(0.8 * len(X))\n",
        "val_split = int(0.9 * len(X))\n",
        "X_train, y_train = X[:train_split], y[:train_split]\n",
        "X_val, y_val = X[train_split:val_split], y[train_split:val_split]\n",
        "X_test, y_test = X[val_split:], y[val_split:]"
      ],
      "metadata": {
        "id": "N4DRif5k3CEf"
      },
      "execution_count": 125,
      "outputs": []
    },
    {
      "cell_type": "code",
      "source": [
        "X_train.shape, X_test.shape, y_train.shape"
      ],
      "metadata": {
        "colab": {
          "base_uri": "https://localhost:8080/"
        },
        "id": "gK_jj5dZ8Hmd",
        "outputId": "3e30098b-cf14-4800-eb96-a9507c6f0463"
      },
      "execution_count": 126,
      "outputs": [
        {
          "output_type": "execute_result",
          "data": {
            "text/plain": [
              "(torch.Size([40, 1]), torch.Size([5, 1]), torch.Size([40, 1]))"
            ]
          },
          "metadata": {},
          "execution_count": 126
        }
      ]
    },
    {
      "cell_type": "code",
      "source": [
        "from sklearn.model_selection import train_test_split\n",
        "X_train, X_test, y_train, y_test = train_test_split(X, y,\n",
        "                                                    test_size=0.2,\n",
        "                                                    random_state=42)"
      ],
      "metadata": {
        "id": "qxLN6n8A3CNt"
      },
      "execution_count": 104,
      "outputs": []
    },
    {
      "cell_type": "code",
      "source": [
        "import matplotlib.pyplot as plt\n",
        "\n",
        "def plot_predictions(train_data= X_train,\n",
        "                     train_labels= y_train,\n",
        "                     test_data= X_test,\n",
        "                     test_labels= y_test,\n",
        "                     predictions=None):\n",
        "    \"\"\"\n",
        "    Plots training data, test data, and compares predictions if available.\n",
        "    \"\"\"\n",
        "    plt.figure(figsize=(10, 7))\n",
        "\n",
        "    # Plot training data in blue\n",
        "    plt.scatter(train_data, train_labels, c=\"b\", s=4, label=\"Training data\")\n",
        "\n",
        "    # Plot test data in green\n",
        "    plt.scatter(test_data, test_labels, c=\"g\", s=4, label=\"Testing data\")\n",
        "\n",
        "    # Plot predictions in red if provided\n",
        "    if predictions is not None:\n",
        "        plt.scatter(test_data, predictions, c=\"r\", s=4, label=\"Predictions\")\n",
        "\n",
        "    # Add legend and show plot\n",
        "    plt.legend(prop={\"size\": 14})\n",
        "    plt.xlabel(\"Data\")\n",
        "    plt.ylabel(\"Labels\")\n",
        "    plt.title(\"Train, Test, and Predicted Data\")\n",
        "    plt.show();\n"
      ],
      "metadata": {
        "id": "husUhkdR3CQj"
      },
      "execution_count": 127,
      "outputs": []
    },
    {
      "cell_type": "code",
      "source": [
        "plot_predictions();\n"
      ],
      "metadata": {
        "colab": {
          "base_uri": "https://localhost:8080/",
          "height": 641
        },
        "id": "p4EyOWd16T9s",
        "outputId": "8142becc-1f3f-499a-df49-9c62e96be9ac"
      },
      "execution_count": 128,
      "outputs": [
        {
          "output_type": "display_data",
          "data": {
            "text/plain": [
              "<Figure size 1000x700 with 1 Axes>"
            ],
            "image/png": "[encoded data removed]"
          },
          "metadata": {}
        }
      ]
    },
    {
      "cell_type": "code",
      "source": [
        "#gradient descent\n",
        "#back propogation\n",
        "from torch import nn\n",
        "#pytorch model\n",
        "class linear_regression(nn.Module):\n",
        "  def __init__(self):\n",
        "    super().__init__()\n",
        "    self.weights = nn.Parameter(torch.randn(1, requires_grad=True,\n",
        "                                            dtype= torch.float))\n",
        "    self.bias = nn.Parameter(torch.randn(1, requires_grad=True,\n",
        "                                         dtype=torch.float))\n",
        "\n",
        "  def forward(self, x:torch.Tensor) -> torch.Tensor:\n",
        "    return self.weights*x + self.bias\n",
        "\n",
        "\n",
        ""
      ],
      "metadata": {
        "id": "Nc5yuW1M8iX-"
      },
      "execution_count": 129,
      "outputs": []
    },
    {
      "cell_type": "code",
      "source": [
        "\n",
        "torch.manual_seed(42)\n",
        "model_0= linear_regression()\n",
        "list(model_0.parameters())"
      ],
      "metadata": {
        "colab": {
          "base_uri": "https://localhost:8080/"
        },
        "id": "-KOMfq5N8ihG",
        "outputId": "760e6706-a9e1-4115-9eb4-bf6ff42249a9"
      },
      "execution_count": 130,
      "outputs": [
        {
          "output_type": "execute_result",
          "data": {
            "text/plain": [
              "[Parameter containing:\n",
              " tensor([0.3367], requires_grad=True),\n",
              " Parameter containing:\n",
              " tensor([0.1288], requires_grad=True)]"
            ]
          },
          "metadata": {},
          "execution_count": 130
        }
      ]
    },
    {
      "cell_type": "code",
      "source": [
        "weights= 0.7\n",
        "bias= 0.3\n",
        "#List named parameters\n",
        "model_0.state_dict()\n",
        "print(f\"to make {model_0.state_dict()} look {weights}  and  {bias}\")"
      ],
      "metadata": {
        "colab": {
          "base_uri": "https://localhost:8080/"
        },
        "id": "Ay54EuK18ikE",
        "outputId": "b4a573fa-e9f9-4353-cbec-61795966cd9d"
      },
      "execution_count": 131,
      "outputs": [
        {
          "output_type": "stream",
          "name": "stdout",
          "text": [
            "to make OrderedDict([('weights', tensor([0.3367])), ('bias', tensor([0.1288]))]) look 0.7  and  0.3\n"
          ]
        }
      ]
    },
    {
      "cell_type": "code",
      "source": [
        "torch.rand(1)"
      ],
      "metadata": {
        "colab": {
          "base_uri": "https://localhost:8080/"
        },
        "id": "0SRCVmQH8inM",
        "outputId": "eaf28b56-2aa8-4932-d630-e87516b8bf1f"
      },
      "execution_count": 110,
      "outputs": [
        {
          "output_type": "execute_result",
          "data": {
            "text/plain": [
              "tensor([0.3904])"
            ]
          },
          "metadata": {},
          "execution_count": 110
        }
      ]
    },
    {
      "cell_type": "code",
      "source": [
        "#ideal model for\n",
        "X_test, y_test"
      ],
      "metadata": {
        "colab": {
          "base_uri": "https://localhost:8080/"
        },
        "id": "-r3ooZFT3Vsk",
        "outputId": "0ba1bcc9-9f28-4d2d-a07a-136dd4773cc9"
      },
      "execution_count": 132,
      "outputs": [
        {
          "output_type": "execute_result",
          "data": {
            "text/plain": [
              "(tensor([[0.9000],\n",
              "         [0.9200],\n",
              "         [0.9400],\n",
              "         [0.9600],\n",
              "         [0.9800]]),\n",
              " tensor([[0.9300],\n",
              "         [0.9440],\n",
              "         [0.9580],\n",
              "         [0.9720],\n",
              "         [0.9860]]))"
            ]
          },
          "metadata": {},
          "execution_count": 132
        }
      ]
    },
    {
      "cell_type": "code",
      "source": [
        "#making predictions using torch.inference.mode()\n",
        "with torch.inference_mode():\n",
        "  y_preds= model_0(X_test)       #NO TRACK OF GRADIENT\n",
        "\n",
        "y_preds"
      ],
      "metadata": {
        "colab": {
          "base_uri": "https://localhost:8080/"
        },
        "id": "Fxe55-Yx8ipF",
        "outputId": "1a689472-50c6-46ce-8f9f-579a47113d63"
      },
      "execution_count": 133,
      "outputs": [
        {
          "output_type": "execute_result",
          "data": {
            "text/plain": [
              "tensor([[0.4318],\n",
              "        [0.4386],\n",
              "        [0.4453],\n",
              "        [0.4520],\n",
              "        [0.4588]])"
            ]
          },
          "metadata": {},
          "execution_count": 133
        }
      ]
    },
    {
      "cell_type": "code",
      "source": [
        "'''with torch.no_grad():\n",
        "  y_preds= model_0(X_test)\n",
        "y_preds'''"
      ],
      "metadata": {
        "colab": {
          "base_uri": "https://localhost:8080/",
          "height": 35
        },
        "id": "8x4_HxYn8yLk",
        "outputId": "7e07d1fe-9561-44ac-bf81-727bf50f371f"
      },
      "execution_count": 113,
      "outputs": [
        {
          "output_type": "execute_result",
          "data": {
            "text/plain": [
              "'with torch.no_grad():\\n  y_preds= model_0(X_test)\\ny_preds'"
            ],
            "application/vnd.google.colaboratory.intrinsic+json": {
              "type": "string"
            }
          },
          "metadata": {},
          "execution_count": 113
        }
      ]
    },
    {
      "cell_type": "code",
      "source": [
        "'''y_preds= model_0(X_test)\n",
        "y_preds'''"
      ],
      "metadata": {
        "colab": {
          "base_uri": "https://localhost:8080/",
          "height": 35
        },
        "id": "JkH93Dwq4wUA",
        "outputId": "e55a07c6-e042-417f-bac7-9bc56b208bc8"
      },
      "execution_count": 114,
      "outputs": [
        {
          "output_type": "execute_result",
          "data": {
            "text/plain": [
              "'y_preds= model_0(X_test)\\ny_preds'"
            ],
            "application/vnd.google.colaboratory.intrinsic+json": {
              "type": "string"
            }
          },
          "metadata": {},
          "execution_count": 114
        }
      ]
    },
    {
      "cell_type": "code",
      "source": [
        "plot_predictions(predictions= y_preds)"
      ],
      "metadata": {
        "colab": {
          "base_uri": "https://localhost:8080/",
          "height": 641
        },
        "id": "Lxt_Hxdc3-r2",
        "outputId": "0075b72f-e35e-453b-b70b-975f3ba015bc"
      },
      "execution_count": 134,
      "outputs": [
        {
          "output_type": "display_data",
          "data": {
            "text/plain": [
              "<Figure size 1000x700 with 1 Axes>"
            ],
            "image/png": "[encoded data removed]"
          },
          "metadata": {}
        }
      ]
    },
    {
      "cell_type": "code",
      "source": [
        "#intuition\n",
        "#to move from *unknown* param to *known* param  by  use of loss fuctions"
      ],
      "metadata": {
        "id": "AdY62Paa3-0V"
      },
      "execution_count": 116,
      "outputs": []
    },
    {
      "cell_type": "markdown",
      "source": [
        "things we need to train:\n",
        "\n",
        "loss function\n",
        "\n",
        "optimizer: to adjust model's parameter to improve loss\n",
        "\n",
        "a training loop and testing loop for PYTORCH\n"
      ],
      "metadata": {
        "id": "cOXNEc9d-3fo"
      }
    },
    {
      "cell_type": "markdown",
      "source": [
        "#a training loop\n",
        "# loop via forward prop -> loss( compare forward pred with loss) -> optimizer -> loss backward -> optimizer\n"
      ],
      "metadata": {
        "id": "JtXnKmEBEpyz"
      }
    },
    {
      "cell_type": "code",
      "source": [
        "import torch\n",
        "import torch.nn as nn\n",
        "\n",
        "# Define loss function\n",
        "loss_fn = nn.L1Loss()\n",
        "\n",
        "# Define optimizer\n",
        "optimizer = torch.optim.SGD(params=model_0.parameters(), lr=0.01)\n",
        "\n",
        "\n",
        "torch.manual_seed(42)\n",
        "\n",
        "# Set the number of epochs (how many times the model will pass over the training data)\n",
        "epochs = 100\n",
        "\n",
        "# Create empty loss lists to track values\n",
        "train_loss_values = []\n",
        "test_loss_values = []\n",
        "epoch_count = []\n",
        "\n",
        "for epoch in range(epochs):\n",
        "    ### Training\n",
        "\n",
        "    # Put model in training mode (this is the default state of a model)\n",
        "    model_0.train()\n",
        "\n",
        "    # 1. Forward pass on train data using the forward() method inside\n",
        "    y_pred = model_0(X_train)\n",
        "\n",
        "    # 2. Calculate the loss (how different are our models predictions to the ground truth)\n",
        "    loss = loss_fn(y_pred, y_train)\n",
        "\n",
        "    # 3. Zero grad of the optimizer\n",
        "    optimizer.zero_grad()\n",
        "\n",
        "    # 4. Loss backwards\n",
        "    loss.backward()\n",
        "\n",
        "    # 5. Progress the optimizer\n",
        "    optimizer.step()\n",
        "\n",
        "    ### Testing\n",
        "\n",
        "    # Put the model in evaluation mode\n",
        "    model_0.eval()\n",
        "\n",
        "    with torch.inference_mode():\n",
        "        # 1. Forward pass on test data\n",
        "        test_pred = model_0(X_test)\n",
        "\n",
        "        # 2. Calculate loss on test data\n",
        "        test_loss = loss_fn(test_pred, y_test.type(torch.float))  # Ensure y_test is float\n",
        "\n",
        "        # Print out progress every 10 epochs\n",
        "        if epoch % 10 == 0:\n",
        "            epoch_count.append(epoch)\n",
        "            train_loss_values.append(loss.item())  # Convert to scalar\n",
        "            test_loss_values.append(test_loss.item())  # Convert to scalar\n",
        "            print(f\"Epoch: {epoch} | MAE Train Loss: {loss.item()} | MAE Test Loss: {test_loss.item()}\")"
      ],
      "metadata": {
        "colab": {
          "base_uri": "https://localhost:8080/"
        },
        "id": "sP_YLpcoW2rR",
        "outputId": "0d6433f0-6e19-492d-9e37-feb18d255030"
      },
      "execution_count": 136,
      "outputs": [
        {
          "output_type": "stream",
          "name": "stdout",
          "text": [
            "Epoch: 0 | MAE Train Loss: 0.31288138031959534 | MAE Test Loss: 0.49903565645217896\n",
            "Epoch: 10 | MAE Train Loss: 0.1976713240146637 | MAE Test Loss: 0.3623756766319275\n",
            "Epoch: 20 | MAE Train Loss: 0.08908725529909134 | MAE Test Loss: 0.2313755750656128\n",
            "Epoch: 30 | MAE Train Loss: 0.053148526698350906 | MAE Test Loss: 0.15708117187023163\n",
            "Epoch: 40 | MAE Train Loss: 0.04543796554207802 | MAE Test Loss: 0.12486903369426727\n",
            "Epoch: 50 | MAE Train Loss: 0.04167863354086876 | MAE Test Loss: 0.10950896888971329\n",
            "Epoch: 60 | MAE Train Loss: 0.03818932920694351 | MAE Test Loss: 0.09828630834817886\n",
            "Epoch: 70 | MAE Train Loss: 0.03476089984178543 | MAE Test Loss: 0.08915574848651886\n",
            "Epoch: 80 | MAE Train Loss: 0.03132382780313492 | MAE Test Loss: 0.08002521097660065\n",
            "Epoch: 90 | MAE Train Loss: 0.02788739837706089 | MAE Test Loss: 0.07159203290939331\n"
          ]
        }
      ]
    },
    {
      "cell_type": "markdown",
      "source": [
        "which loss fnc or optim?\n",
        "reg-> nn.L1Loss, clas-> torch.optim.SGD()\n",
        "\n",
        "dogvscat -> nn.BCELoss()"
      ],
      "metadata": {
        "id": "XFFgR5EYC97e"
      }
    },
    {
      "cell_type": "code",
      "source": [
        "#plot loss curves\n",
        "# Plot the loss curves\n",
        "plt.plot(epoch_count, train_loss_values, label=\"Train loss\")\n",
        "plt.plot(epoch_count, test_loss_values, label=\"Test loss\")\n",
        "plt.title(\"Training and test loss curves\")\n",
        "plt.ylabel(\"Loss\")\n",
        "plt.xlabel(\"Epochs\")\n",
        "plt.legend();"
      ],
      "metadata": {
        "colab": {
          "base_uri": "https://localhost:8080/",
          "height": 472
        },
        "id": "nQcs_QBPUjWR",
        "outputId": "4f65fc2b-6176-4498-d4c7-4b7288f868ef"
      },
      "execution_count": 137,
      "outputs": [
        {
          "output_type": "display_data",
          "data": {
            "text/plain": [
              "<Figure size 640x480 with 1 Axes>"
            ],
            "image/png": "[encoded data removed]"
          },
          "metadata": {}
        }
      ]
    },
    {
      "cell_type": "code",
      "source": [
        "list(model_0.state_dict().items() )\n",
        "plot_predictions(predictions=test_pred)\n"
      ],
      "metadata": {
        "colab": {
          "base_uri": "https://localhost:8080/",
          "height": 641
        },
        "id": "E0r9mZNQ3_A7",
        "outputId": "96216839-8f77-4af2-84a0-009c9dddc7b0"
      },
      "execution_count": 139,
      "outputs": [
        {
          "output_type": "display_data",
          "data": {
            "text/plain": [
              "<Figure size 1000x700 with 1 Axes>"
            ],
            "image/png": "[encoded data removed]"
          },
          "metadata": {}
        }
      ]
    },
    {
      "cell_type": "markdown",
      "source": [
        "Saving the code"
      ],
      "metadata": {
        "id": "bVGDJBdOvISZ"
      }
    },
    {
      "cell_type": "markdown",
      "source": [
        "three methods  \n",
        "\n",
        "1). torch.save()  in pkl format\n",
        "\n",
        "2). torch.load()  load the saved proj\n",
        "\n",
        "3). torch.nn.Module.load_state_dict()    load saved state dict\n",
        "\n"
      ],
      "metadata": {
        "id": "L7mlhE5VvNd7"
      }
    },
    {
      "cell_type": "code",
      "source": [
        "#saving the code\n",
        "model_0"
      ],
      "metadata": {
        "colab": {
          "base_uri": "https://localhost:8080/"
        },
        "id": "ePFBWytY3_DY",
        "outputId": "85f37367-2759-469f-da8a-65a84e7b7e9d"
      },
      "execution_count": 140,
      "outputs": [
        {
          "output_type": "execute_result",
          "data": {
            "text/plain": [
              "linear_regression()"
            ]
          },
          "metadata": {},
          "execution_count": 140
        }
      ]
    },
    {
      "cell_type": "code",
      "source": [
        "from os.path import exists\n",
        "#save\n",
        "from pathlib import Path\n",
        "\n",
        "# create model directory\n",
        "MODEL_PATH= Path(\"models\")\n",
        "MODEL_PATH.mkdir(parents =True ,exist_ok =True)\n",
        "\n",
        "#model save path\n",
        "MODEL_NAME= \"01_pytorch_workflow.pth\"\n",
        "MODEL_SAVE_PATH= MODEL_PATH/MODEL_NAME\n",
        "\n",
        "#save model_dict\n",
        "print(f\"Saving model to :{MODEL_SAVE_PATH}\")\n",
        "torch.save(obj= model_0.state_dict(),\n",
        "           f= MODEL_SAVE_PATH) #F= FILE PATH"
      ],
      "metadata": {
        "colab": {
          "base_uri": "https://localhost:8080/"
        },
        "id": "NM8UCoc-3_Fs",
        "outputId": "5d8f0e65-99cc-4b2c-db40-8f851b0c957c"
      },
      "execution_count": 142,
      "outputs": [
        {
          "output_type": "stream",
          "name": "stdout",
          "text": [
            "Saving model to :models/01_pytorch_workflow.pth\n"
          ]
        }
      ]
    },
    {
      "cell_type": "code",
      "source": [
        "!ls -l models"
      ],
      "metadata": {
        "colab": {
          "base_uri": "https://localhost:8080/"
        },
        "id": "j4jpLj5-GyBD",
        "outputId": "4d5ef28c-37bb-4b33-8ba7-638e8cc40d3d"
      },
      "execution_count": 149,
      "outputs": [
        {
          "output_type": "stream",
          "name": "stdout",
          "text": [
            "total 4\n",
            "-rw-r--r-- 1 root root 1568 Nov  5 11:34 01_pytorch_workflow.pth\n"
          ]
        }
      ]
    },
    {
      "cell_type": "markdown",
      "source": [
        "**#to load saved file**\n",
        "\n",
        "since we saved state_dict()  we'll create new instance of our model class and load saved model_dict() into that."
      ],
      "metadata": {
        "id": "PwVm6-YrHitQ"
      }
    },
    {
      "cell_type": "code",
      "source": [
        "model_0.state_dict()"
      ],
      "metadata": {
        "colab": {
          "base_uri": "https://localhost:8080/"
        },
        "id": "ddaYOYo9GyFH",
        "outputId": "3725d6a3-1012-4409-b3a9-652a492e085c"
      },
      "execution_count": 150,
      "outputs": [
        {
          "output_type": "execute_result",
          "data": {
            "text/plain": [
              "OrderedDict([('weights', tensor([0.5784])), ('bias', tensor([0.3513]))])"
            ]
          },
          "metadata": {},
          "execution_count": 150
        }
      ]
    },
    {
      "cell_type": "code",
      "source": [
        "loaded_model_0= linear_regression()\n",
        "\n",
        "#to upload new instance with updated params\n",
        "loaded_model_0.load_state_dict(torch.load(f= MODEL_SAVE_PATH))"
      ],
      "metadata": {
        "colab": {
          "base_uri": "https://localhost:8080/"
        },
        "id": "vpgwCoT2GyIp",
        "outputId": "05f7687d-c52d-4f26-fd61-13bacb129772"
      },
      "execution_count": 151,
      "outputs": [
        {
          "output_type": "stream",
          "name": "stderr",
          "text": [
            "<ipython-input-151-59acfaf05f0b>:4: FutureWarning: You are using `torch.load` with `weights_only=False` (the current default value), which uses the default pickle module implicitly. It is possible to construct malicious pickle data which will execute arbitrary code during unpickling (See https://github.com/pytorch/pytorch/blob/main/SECURITY.md#untrusted-models for more details). In a future release, the default value for `weights_only` will be flipped to `True`. This limits the functions that could be executed during unpickling. Arbitrary objects will no longer be allowed to be loaded via this mode unless they are explicitly allowlisted by the user via `torch.serialization.add_safe_globals`. We recommend you start setting `weights_only=True` for any use case where you don't have full control of the loaded file. Please open an issue on GitHub for any issues related to this experimental feature.\n",
            "  loaded_model_0.load_state_dict(torch.load(f= MODEL_SAVE_PATH))\n"
          ]
        },
        {
          "output_type": "execute_result",
          "data": {
            "text/plain": [
              "<All keys matched successfully>"
            ]
          },
          "metadata": {},
          "execution_count": 151
        }
      ]
    },
    {
      "cell_type": "code",
      "source": [
        "loaded_model_0.state_dict()"
      ],
      "metadata": {
        "colab": {
          "base_uri": "https://localhost:8080/"
        },
        "id": "SI7h-GsiIc-u",
        "outputId": "44fac854-2c77-494c-97e1-c30b15c733f9"
      },
      "execution_count": 153,
      "outputs": [
        {
          "output_type": "execute_result",
          "data": {
            "text/plain": [
              "OrderedDict([('weights', tensor([0.5784])), ('bias', tensor([0.3513]))])"
            ]
          },
          "metadata": {},
          "execution_count": 153
        }
      ]
    },
    {
      "cell_type": "code",
      "source": [
        "#to make some predictions\n",
        "loaded_model_0.eval()\n",
        "with torch.inference_mode():\n",
        "  loaded_model_pred=  loaded_model_0(X_test)\n",
        "\n",
        "loaded_model_pred\n"
      ],
      "metadata": {
        "colab": {
          "base_uri": "https://localhost:8080/"
        },
        "id": "E1ZGg26v3_IS",
        "outputId": "4e732c4d-90b3-4a79-882c-20f04dc18b73"
      },
      "execution_count": 154,
      "outputs": [
        {
          "output_type": "execute_result",
          "data": {
            "text/plain": [
              "tensor([[0.8719],\n",
              "        [0.8835],\n",
              "        [0.8950],\n",
              "        [0.9066],\n",
              "        [0.9182]])"
            ]
          },
          "metadata": {},
          "execution_count": 154
        }
      ]
    },
    {
      "cell_type": "code",
      "source": [
        "# to compare loaded vs model\n",
        "test_preds== loaded_model_pred"
      ],
      "metadata": {
        "colab": {
          "base_uri": "https://localhost:8080/"
        },
        "id": "5a_euzld3_Ol",
        "outputId": "1471da5c-7f56-4ff3-8959-7ff74459f8bd"
      },
      "execution_count": 158,
      "outputs": [
        {
          "output_type": "execute_result",
          "data": {
            "text/plain": [
              "tensor([[True],\n",
              "        [True],\n",
              "        [True],\n",
              "        [True],\n",
              "        [True]])"
            ]
          },
          "metadata": {},
          "execution_count": 158
        }
      ]
    },
    {
      "cell_type": "markdown",
      "source": [
        "PUTTING ALL TOGETHER\n",
        "\n",
        "1). data\n"
      ],
      "metadata": {
        "id": "Fjex2CleMwD6"
      }
    },
    {
      "cell_type": "code",
      "source": [
        "import torch\n",
        "from torch import nn\n",
        "import matplotlib.pyplot as plt\n",
        "torch.__version__"
      ],
      "metadata": {
        "colab": {
          "base_uri": "https://localhost:8080/",
          "height": 35
        },
        "id": "nxPJ4gUUMvnQ",
        "outputId": "22a48b43-d80f-47f7-98f6-19afea8a7372"
      },
      "execution_count": 60,
      "outputs": [
        {
          "output_type": "execute_result",
          "data": {
            "text/plain": [
              "'2.5.0+cu121'"
            ],
            "application/vnd.google.colaboratory.intrinsic+json": {
              "type": "string"
            }
          },
          "metadata": {},
          "execution_count": 60
        }
      ]
    },
    {
      "cell_type": "code",
      "source": [
        "device= 'cuda' if torch.cuda.is_available() else 'cpu'\n",
        "print(f\"using device: {device}\")"
      ],
      "metadata": {
        "colab": {
          "base_uri": "https://localhost:8080/"
        },
        "id": "Fdt1nqmpW6IE",
        "outputId": "bf62d421-b821-4521-c9af-3bcb1366ae17"
      },
      "execution_count": 61,
      "outputs": [
        {
          "output_type": "stream",
          "name": "stdout",
          "text": [
            "using device: cuda\n"
          ]
        }
      ]
    },
    {
      "cell_type": "code",
      "source": [
        "#data\n",
        "w= 0.7\n",
        "b= 0.3\n",
        "start= 0\n",
        "step= 0.2\n",
        "end= 10\n",
        "\n",
        "X= torch.arange(start ,end, step).unsqueeze(dim= 1)\n",
        "y= w*X + b"
      ],
      "metadata": {
        "id": "OiDpx64tW6L1"
      },
      "execution_count": 62,
      "outputs": []
    },
    {
      "cell_type": "code",
      "source": [
        "#train test split\n",
        "train_split= int(0.8*len(X))\n",
        "X_train, y_train = X[:train_split] ,y[:train_split]\n",
        "X_test ,y_test= X[train_split:] ,y[train_split:]"
      ],
      "metadata": {
        "id": "G6jswC2dW6Yn"
      },
      "execution_count": 63,
      "outputs": []
    },
    {
      "cell_type": "code",
      "source": [
        "def plot_predictions(x_data= X_train,\n",
        "                     x_label= y_train,\n",
        "                     y_data= X_test,\n",
        "                     y_label= y_test,\n",
        "                     prediction =None):\n",
        "  plt.figure(figsize= (10,8))\n",
        "  plt.scatter(x_data, x_label, c= 'r' ,s=6, label= \"training set\")\n",
        "  plt.scatter(y_data, y_label ,c='g', s=6, label =\"testing set\")\n",
        "  if prediction is not None:\n",
        "    plt.scatter(y_data, prediction ,c='y', s=6 ,label=\"predicted value\")\n",
        "\n",
        "  plt.legend()\n",
        "  plt.xlabel('data')\n",
        "  plt.ylabel(\"labels\")\n",
        "  plt.title(\"train ,test, predicted\")\n",
        "  plt.show()"
      ],
      "metadata": {
        "id": "_sZnskxmW6bE"
      },
      "execution_count": 64,
      "outputs": []
    },
    {
      "cell_type": "code",
      "source": [
        "plot_predictions()"
      ],
      "metadata": {
        "colab": {
          "base_uri": "https://localhost:8080/",
          "height": 718
        },
        "id": "eF1LXTLGW6eF",
        "outputId": "0cf42ca7-2d11-4184-f9a8-b770b43e96b4"
      },
      "execution_count": 65,
      "outputs": [
        {
          "output_type": "display_data",
          "data": {
            "text/plain": [
              "<Figure size 1000x800 with 1 Axes>"
            ],
            "image/png": "[encoded data removed]"
          },
          "metadata": {}
        }
      ]
    },
    {
      "cell_type": "code",
      "source": [
        "#use of predefined models\n",
        "#ALWAYS HAVE TO MAKE MODELS AND LAYERING AS OPPOSED TO TF where it was kinda direct\n",
        "class LinearRegression(nn.Module):\n",
        "  def __init__(self):\n",
        "    super().__init__()\n",
        "    self.linear_model= nn.Linear(in_features= 1, out_features=1)\n",
        "\n",
        "  def forward(self, x: torch.Tensor)-> torch.Tensor:\n",
        "    return self.linear_model(x)"
      ],
      "metadata": {
        "id": "SWtQRxrFW6gq"
      },
      "execution_count": 66,
      "outputs": []
    },
    {
      "cell_type": "code",
      "source": [
        "# a random manual seed for initialization\n",
        "torch.manual_seed(40)\n",
        "# modelling\n",
        "model= LinearRegression()\n",
        "model, model.state_dict()"
      ],
      "metadata": {
        "colab": {
          "base_uri": "https://localhost:8080/"
        },
        "id": "_QpBmU6NgWnc",
        "outputId": "7729adbc-a0c1-4c6f-fd62-e75c9f303594"
      },
      "execution_count": 67,
      "outputs": [
        {
          "output_type": "execute_result",
          "data": {
            "text/plain": [
              "(LinearRegression(\n",
              "   (linear_model): Linear(in_features=1, out_features=1, bias=True)\n",
              " ),\n",
              " OrderedDict([('linear_model.weight', tensor([[-0.2642]])),\n",
              "              ('linear_model.bias', tensor([0.7322]))]))"
            ]
          },
          "metadata": {},
          "execution_count": 67
        }
      ]
    },
    {
      "cell_type": "code",
      "source": [
        "#current device\n",
        "next(model.parameters()).device"
      ],
      "metadata": {
        "colab": {
          "base_uri": "https://localhost:8080/"
        },
        "id": "ervph60qW6jx",
        "outputId": "a2ddb6da-b664-4dff-d92c-7677e5e57c25"
      },
      "execution_count": 68,
      "outputs": [
        {
          "output_type": "execute_result",
          "data": {
            "text/plain": [
              "device(type='cpu')"
            ]
          },
          "metadata": {},
          "execution_count": 68
        }
      ]
    },
    {
      "cell_type": "code",
      "source": [
        "#change to GPU\n",
        "model.to(device)\n",
        "next(model.parameters()).device"
      ],
      "metadata": {
        "colab": {
          "base_uri": "https://localhost:8080/"
        },
        "id": "c4cgDs7IhMER",
        "outputId": "584fca07-ff84-4c24-a2e1-15e2d59d3047"
      },
      "execution_count": 69,
      "outputs": [
        {
          "output_type": "execute_result",
          "data": {
            "text/plain": [
              "device(type='cuda', index=0)"
            ]
          },
          "metadata": {},
          "execution_count": 69
        }
      ]
    },
    {
      "cell_type": "markdown",
      "source": [
        "Forward pass - The model goes through all of the training data once, performing its forward() function calculations (model(x_train)).\n",
        "\n",
        "Calculate the loss - The model's outputs (predictions) are compared to the ground truth and evaluated to see how wrong they are (loss = loss_fn(y_pred, y_train).\n",
        "\n",
        "Zero gradients - The optimizers gradients are set to zero (they are accumulated by default) so they can be recalculated for the specific training step (optimizer.zero_grad()).\n",
        "\n",
        "Perform backpropagation on the loss - Computes the gradient of the loss with respect for every model parameter to be updated (each parameter with requires_grad=True). This is known as backpropagation, hence \"backwards\" (loss.backward()).\n",
        "\n",
        "Step the optimizer (gradient descent) - Update the parameters with requires_grad=True with respect to the loss gradients in order to improve them (optimizer.step()).\n"
      ],
      "metadata": {
        "id": "qg5U55fUi_q-"
      }
    },
    {
      "cell_type": "code",
      "source": [
        "\n",
        "#model training\n",
        "torch.manual_seed(40)\n",
        "\n",
        "\n",
        "model.to(device)\n",
        "X_train = X_train.to(device)\n",
        "X_test  = X_test.to(device)\n",
        "y_train = y_train.to(device)\n",
        "y_test  = y_test.to(device)\n",
        "\n",
        "#loss function\n",
        "loss_fn= nn.L1Loss()\n",
        "#optimization\n",
        "optimizer= torch.optim.SGD(params= model.parameters(),\n",
        "                           lr= 0.01)\n",
        "\n",
        "epochs= 100\n",
        "train_loss_values = []\n",
        "test_loss_values = []\n",
        "epoch_count = []\n",
        "\n",
        "\n",
        "for epoch in range(epochs):\n",
        "  #training\n",
        "  model.train()                                 #.modelling TURN ON (BY DEFAULT)\n",
        "  #forward pass the training set\n",
        "  train_pred= model(X_train)                        #.fit(xtrain)\n",
        "  #loss\n",
        "  loss= loss_fn(train_pred, y_train)                # wrt yTRAIN\n",
        "  #zero gradient optim\n",
        "  optimizer.zero_grad()                         # zero grad --> backprop -> up gradient\n",
        "  #loss backward\n",
        "  loss.backward()\n",
        "  #gradient descent\n",
        "  optimizer.step()\n",
        "\n",
        "  #testing\n",
        "  model.eval()\n",
        "  #forward pass testing set\n",
        "  with torch.inference_mode():\n",
        "    test_pred= model(X_test)                                          # predict(X_test)\n",
        "    test_loss= loss_fn(test_pred ,y_test )          # wrt yTEST\n",
        "\n",
        "  if epoch % 10 == 0:\n",
        "    epoch_count.append(epoch)\n",
        "    train_loss_values.append(loss.cpu().item())  # Move to CPU and detach\n",
        "    test_loss_values.append(test_loss.cpu().item())  # Move to CPU and detach\n",
        "    print(f\"Epoch: {epoch} | Train Loss: {loss.cpu().item()} | Test Loss: {test_loss.cpu().item()}\")\n",
        "\n",
        "\n",
        "\n",
        "#models learnt model\n",
        "from pprint import pprint # pprint = pretty print, see: https://docs.python.org/3/library/pprint.html\n",
        "print(\"The model learned the following values for weights and bias:\")\n",
        "pprint(model.state_dict())\n",
        "print(\"\\nAnd the original values for weights and bias are:\")\n",
        "print(f\"weights: {w}, bias: {b}\")"
      ],
      "metadata": {
        "colab": {
          "base_uri": "https://localhost:8080/"
        },
        "id": "bA6E4po1iDVT",
        "outputId": "0003570c-97d1-4978-acf2-c4122720e0ee"
      },
      "execution_count": 76,
      "outputs": [
        {
          "output_type": "stream",
          "name": "stdout",
          "text": [
            "Epoch: 0 | Train Loss: 0.1435137838125229 | Test Loss: 0.009700155816972256\n",
            "Epoch: 10 | Train Loss: 0.14995788037776947 | Test Loss: 0.0011265277862548828\n",
            "Epoch: 20 | Train Loss: 0.12554912269115448 | Test Loss: 0.06033382564783096\n",
            "Epoch: 30 | Train Loss: 0.12876813113689423 | Test Loss: 0.05783386155962944\n",
            "Epoch: 40 | Train Loss: 0.13114312291145325 | Test Loss: 0.055333852767944336\n",
            "Epoch: 50 | Train Loss: 0.1330578625202179 | Test Loss: 0.053833868354558945\n",
            "Epoch: 60 | Train Loss: 0.1330578625202179 | Test Loss: 0.053833868354558945\n",
            "Epoch: 70 | Train Loss: 0.1330578625202179 | Test Loss: 0.053833868354558945\n",
            "Epoch: 80 | Train Loss: 0.1330578625202179 | Test Loss: 0.053833868354558945\n",
            "Epoch: 90 | Train Loss: 0.1330578625202179 | Test Loss: 0.053833868354558945\n",
            "The model learned the following values for weights and bias:\n",
            "OrderedDict([('linear_model.weight', tensor([[0.6660]], device='cuda:0')),\n",
            "             ('linear_model.bias', tensor([0.2997], device='cuda:0'))])\n",
            "\n",
            "And the original values for weights and bias are:\n",
            "weights: 0.7, bias: 0.3\n"
          ]
        }
      ]
    },
    {
      "cell_type": "code",
      "source": [
        "plt.plot(epoch_count, train_loss_values, label=\"Train loss\")\n",
        "plt.plot(epoch_count, test_loss_values, label=\"Test loss\")\n",
        "plt.title(\"Training and test loss curves\")\n",
        "plt.ylabel(\"Loss\")\n",
        "plt.xlabel(\"Epochs\")\n",
        "plt.legend();"
      ],
      "metadata": {
        "colab": {
          "base_uri": "https://localhost:8080/",
          "height": 472
        },
        "id": "3jzfDxo4qiSA",
        "outputId": "c8aa12f3-8710-499e-99f4-09d33301af99"
      },
      "execution_count": 77,
      "outputs": [
        {
          "output_type": "display_data",
          "data": {
            "text/plain": [
              "<Figure size 640x480 with 1 Axes>"
            ],
            "image/png": "[encoded data removed]"
          },
          "metadata": {}
        }
      ]
    },
    {
      "cell_type": "code",
      "source": [
        "plot_predictions(prediction= test_pred.cpu())     #tensor to cpu"
      ],
      "metadata": {
        "colab": {
          "base_uri": "https://localhost:8080/",
          "height": 718
        },
        "id": "HpBptTnUiDXM",
        "outputId": "6210e462-c81f-4a39-e37d-3020be665613"
      },
      "execution_count": 78,
      "outputs": [
        {
          "output_type": "display_data",
          "data": {
            "text/plain": [
              "<Figure size 1000x800 with 1 Axes>"
            ],
            "image/png": "[encoded data removed]"
          },
          "metadata": {}
        }
      ]
    },
    {
      "cell_type": "code",
      "source": [
        "#saving\n",
        "from pathlib import Path\n",
        "#model directory\n",
        "MODEL_PATH= Path(\"modelsss\")\n",
        "MODEL_PATH.mkdir(parents= True ,exist_ok= True)\n",
        "#model path\n",
        "MODEL_NAME=\"WORKFLOW_ 1 \"\n",
        "MODEL_SAVE_PATH= MODEL_PATH/MODEL_NAME\n",
        "#save model dict\n",
        "print(f\"saving to {MODEL_SAVE_PATH} \")\n",
        "torch.save(obj= model.state_dict(),\n",
        "           f= MODEL_SAVE_PATH)"
      ],
      "metadata": {
        "colab": {
          "base_uri": "https://localhost:8080/"
        },
        "id": "7hPCQ00Bsy1L",
        "outputId": "19a7ffda-e465-42a3-d720-649231e843aa"
      },
      "execution_count": 52,
      "outputs": [
        {
          "output_type": "stream",
          "name": "stdout",
          "text": [
            "saving to modelsss/WORKFLOW_ 1  \n"
          ]
        }
      ]
    },
    {
      "cell_type": "code",
      "source": [],
      "metadata": {
        "id": "OIaTNw1Ysy38"
      },
      "execution_count": null,
      "outputs": []
    }
  ]
}