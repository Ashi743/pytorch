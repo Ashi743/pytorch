{
  "nbformat": 4,
  "nbformat_minor": 0,
  "metadata": {
    "colab": {
      "provenance": [],
      "authorship_tag": "ABX9TyO6EFJ6/7+yBh0i6rK6o4hx",
      "include_colab_link": true
    },
    "kernelspec": {
      "name": "python3",
      "display_name": "Python 3"
    },
    "language_info": {
      "name": "python"
    }
  },
  "cells": [
    {
      "cell_type": "markdown",
      "metadata": {
        "id": "view-in-github",
        "colab_type": "text"
      },
      "source": [
        "<a href=\"https://colab.research.google.com/github/Ashi743/pytorch/blob/main/pytorch_tensor_campusx_ipynb.ipynb\" target=\"_parent\"><img src=\"https://colab.research.google.com/assets/colab-badge.svg\" alt=\"Open In Colab\"/></a>"
      ]
    },
    {
      "cell_type": "code",
      "execution_count": 1,
      "metadata": {
        "colab": {
          "base_uri": "https://localhost:8080/"
        },
        "id": "rK0CsMUxbS2r",
        "outputId": "ff266798-3ca3-4f63-ffd3-d045871e88ea"
      },
      "outputs": [
        {
          "output_type": "stream",
          "name": "stdout",
          "text": [
            "2.5.1+cu121\n"
          ]
        }
      ],
      "source": [
        "import torch\n",
        "print(torch.__version__)"
      ]
    },
    {
      "cell_type": "code",
      "source": [
        "if torch.cuda.is_available():\n",
        "    print('GPU')\n",
        "    print(torch.cuda.get_device_name(0))\n",
        "else:\n",
        "    print('CPU')"
      ],
      "metadata": {
        "colab": {
          "base_uri": "https://localhost:8080/"
        },
        "id": "YzLhHL0xf9uJ",
        "outputId": "c9ec4731-ce99-4faf-87ad-1db12c8a0610"
      },
      "execution_count": 3,
      "outputs": [
        {
          "output_type": "stream",
          "name": "stdout",
          "text": [
            "CPU\n"
          ]
        }
      ]
    },
    {
      "cell_type": "code",
      "source": [
        "#creating tensors\n",
        "a= torch.empty(2,3)    #its just a space their random\n",
        "type(a)"
      ],
      "metadata": {
        "colab": {
          "base_uri": "https://localhost:8080/"
        },
        "id": "mUOqNmxqf9xW",
        "outputId": "772c6274-35a7-4435-84e5-a6b340d093c6"
      },
      "execution_count": 5,
      "outputs": [
        {
          "output_type": "execute_result",
          "data": {
            "text/plain": [
              "torch.Tensor"
            ]
          },
          "metadata": {},
          "execution_count": 5
        }
      ]
    },
    {
      "cell_type": "code",
      "source": [
        "print(torch.zeros(2,3))\n",
        "print()\n",
        "print(torch.ones(2,3))\n",
        "print()\n",
        "print(torch.rand(2,3))\n",
        "print()\n",
        "print(torch.randn(2,3))"
      ],
      "metadata": {
        "colab": {
          "base_uri": "https://localhost:8080/"
        },
        "id": "BJa6IX_jf90I",
        "outputId": "95b62a37-1026-4151-a076-7430a7505c90"
      },
      "execution_count": 9,
      "outputs": [
        {
          "output_type": "stream",
          "name": "stdout",
          "text": [
            "tensor([[0., 0., 0.],\n",
            "        [0., 0., 0.]])\n",
            "\n",
            "tensor([[1., 1., 1.],\n",
            "        [1., 1., 1.]])\n",
            "\n",
            "tensor([[0.3971, 0.7544, 0.5695],\n",
            "        [0.4388, 0.6387, 0.5247]])\n",
            "\n",
            "tensor([[-1.5228,  0.3817, -1.0276],\n",
            "        [-0.5631, -0.8923, -0.0583]])\n"
          ]
        }
      ]
    },
    {
      "cell_type": "code",
      "source": [
        "print(torch.manual_seed(1))\n",
        "print(torch.rand(2,3))"
      ],
      "metadata": {
        "colab": {
          "base_uri": "https://localhost:8080/"
        },
        "id": "eFV0kNUKf925",
        "outputId": "663286c0-a99b-4cbe-b062-0cd81b4d5dbc"
      },
      "execution_count": 8,
      "outputs": [
        {
          "output_type": "stream",
          "name": "stdout",
          "text": [
            "<torch._C.Generator object at 0x78f80fba0090>\n",
            "tensor([[0.7576, 0.2793, 0.4031],\n",
            "        [0.7347, 0.0293, 0.7999]])\n"
          ]
        }
      ]
    },
    {
      "cell_type": "code",
      "source": [
        "torch.tensor( [ [1,2,3], [4,5,6] ])"
      ],
      "metadata": {
        "colab": {
          "base_uri": "https://localhost:8080/"
        },
        "id": "T9iOf1Nof95n",
        "outputId": "fc382347-e1f2-44be-ffdb-9d2f01effb00"
      },
      "execution_count": 10,
      "outputs": [
        {
          "output_type": "execute_result",
          "data": {
            "text/plain": [
              "tensor([[1, 2, 3],\n",
              "        [4, 5, 6]])"
            ]
          },
          "metadata": {},
          "execution_count": 10
        }
      ]
    },
    {
      "cell_type": "code",
      "source": [
        "print(torch.arange(1,10,2))\n",
        "print()\n",
        "print(torch.linspace(1,10,5))\n",
        "print()\n",
        "print(torch.logspace(1,10,5))\n",
        "print()\n",
        "print(torch.eye(3))     #identity matrix\n",
        "print()\n",
        "print(torch.full((3,2), 5))"
      ],
      "metadata": {
        "colab": {
          "base_uri": "https://localhost:8080/"
        },
        "id": "dPhTU3Bhf98W",
        "outputId": "6e25124b-77da-41a0-e53a-a76b10d2c433"
      },
      "execution_count": 11,
      "outputs": [
        {
          "output_type": "stream",
          "name": "stdout",
          "text": [
            "tensor([1, 3, 5, 7, 9])\n",
            "\n",
            "tensor([ 1.0000,  3.2500,  5.5000,  7.7500, 10.0000])\n",
            "\n",
            "tensor([1.0000e+01, 1.7783e+03, 3.1623e+05, 5.6234e+07, 1.0000e+10])\n",
            "\n",
            "tensor([[1., 0., 0.],\n",
            "        [0., 1., 0.],\n",
            "        [0., 0., 1.]])\n",
            "\n",
            "tensor([[5, 5],\n",
            "        [5, 5],\n",
            "        [5, 5]])\n"
          ]
        }
      ]
    },
    {
      "cell_type": "markdown",
      "source": [
        "Tensor shapes"
      ],
      "metadata": {
        "id": "vzKswoK4j3RJ"
      }
    },
    {
      "cell_type": "code",
      "source": [
        "x= torch.tensor( [ [1,2,3], [4,5,6] ])\n",
        "print(x)\n",
        "print(x.shape)\n",
        "print(x.size())\n",
        "\n",
        "torch.empty_like(x)"
      ],
      "metadata": {
        "colab": {
          "base_uri": "https://localhost:8080/"
        },
        "id": "zW4zQLDXf9_A",
        "outputId": "fdb342cd-e952-4169-841a-eeff12737533"
      },
      "execution_count": 15,
      "outputs": [
        {
          "output_type": "stream",
          "name": "stdout",
          "text": [
            "tensor([[1, 2, 3],\n",
            "        [4, 5, 6]])\n",
            "torch.Size([2, 3])\n",
            "torch.Size([2, 3])\n"
          ]
        },
        {
          "output_type": "execute_result",
          "data": {
            "text/plain": [
              "tensor([[133007896358480,  99135393581168,    489626271855],\n",
              "        [   446676598883,    498216206382,    472446402661]])"
            ]
          },
          "metadata": {},
          "execution_count": 15
        }
      ]
    },
    {
      "cell_type": "code",
      "source": [
        "torch.zeros_like(x)"
      ],
      "metadata": {
        "colab": {
          "base_uri": "https://localhost:8080/"
        },
        "id": "5JSEQoRHf-CL",
        "outputId": "64783e72-2875-432a-e68d-f0e27e26278b"
      },
      "execution_count": 14,
      "outputs": [
        {
          "output_type": "execute_result",
          "data": {
            "text/plain": [
              "tensor([[0, 0, 0],\n",
              "        [0, 0, 0]])"
            ]
          },
          "metadata": {},
          "execution_count": 14
        }
      ]
    },
    {
      "cell_type": "code",
      "source": [
        "torch.rand_like(x , dtype=torch.float32)"
      ],
      "metadata": {
        "colab": {
          "base_uri": "https://localhost:8080/"
        },
        "id": "N5uuiPK0f-Fd",
        "outputId": "376fa3cc-5c53-456c-a9d4-c0812b5a831a"
      },
      "execution_count": 21,
      "outputs": [
        {
          "output_type": "execute_result",
          "data": {
            "text/plain": [
              "tensor([[0.3398, 0.5239, 0.7981],\n",
              "        [0.7718, 0.0112, 0.8100]])"
            ]
          },
          "metadata": {},
          "execution_count": 21
        }
      ]
    },
    {
      "cell_type": "markdown",
      "source": [
        "Tensor data type\n"
      ],
      "metadata": {
        "id": "tndC_tJvkd8c"
      }
    },
    {
      "cell_type": "code",
      "source": [
        "x.dtype"
      ],
      "metadata": {
        "colab": {
          "base_uri": "https://localhost:8080/"
        },
        "id": "Vr457NypkcXL",
        "outputId": "11cb7ddc-169b-4150-8637-9d1bb3ad52af"
      },
      "execution_count": 17,
      "outputs": [
        {
          "output_type": "execute_result",
          "data": {
            "text/plain": [
              "torch.int64"
            ]
          },
          "metadata": {},
          "execution_count": 17
        }
      ]
    },
    {
      "cell_type": "code",
      "source": [
        "torch.tensor([1.0,2.0,3.0], dtype=torch.int32)"
      ],
      "metadata": {
        "colab": {
          "base_uri": "https://localhost:8080/"
        },
        "id": "wZ81RGiNkcZ0",
        "outputId": "048f7eec-4ba3-49ca-c57f-e0ff6ad140a7"
      },
      "execution_count": 18,
      "outputs": [
        {
          "output_type": "execute_result",
          "data": {
            "text/plain": [
              "tensor([1, 2, 3], dtype=torch.int32)"
            ]
          },
          "metadata": {},
          "execution_count": 18
        }
      ]
    },
    {
      "cell_type": "code",
      "source": [
        "x.to(torch.float32)"
      ],
      "metadata": {
        "colab": {
          "base_uri": "https://localhost:8080/"
        },
        "id": "246fN4tHkce5",
        "outputId": "c774334d-e02f-4496-fb4a-a5c9631eef0e"
      },
      "execution_count": 20,
      "outputs": [
        {
          "output_type": "execute_result",
          "data": {
            "text/plain": [
              "tensor([[1., 2., 3.],\n",
              "        [4., 5., 6.]])"
            ]
          },
          "metadata": {},
          "execution_count": 20
        }
      ]
    },
    {
      "cell_type": "markdown",
      "source": [
        "mathematical operations"
      ],
      "metadata": {
        "id": "Q_DI8KC-k_NV"
      }
    },
    {
      "cell_type": "code",
      "source": [
        "x+2\n",
        "(x*100) //3"
      ],
      "metadata": {
        "colab": {
          "base_uri": "https://localhost:8080/"
        },
        "id": "wRxIJ1ofkyDi",
        "outputId": "f9476ec7-77af-4690-920a-d256ce572733"
      },
      "execution_count": 23,
      "outputs": [
        {
          "output_type": "execute_result",
          "data": {
            "text/plain": [
              "tensor([[ 33,  66, 100],\n",
              "        [133, 166, 200]])"
            ]
          },
          "metadata": {},
          "execution_count": 23
        }
      ]
    },
    {
      "cell_type": "code",
      "source": [
        "((x*100) //3 )%2"
      ],
      "metadata": {
        "colab": {
          "base_uri": "https://localhost:8080/"
        },
        "id": "_aCs3dafkyGg",
        "outputId": "75b9408e-4e09-4db4-c98e-63b1eacc7bb1"
      },
      "execution_count": 24,
      "outputs": [
        {
          "output_type": "execute_result",
          "data": {
            "text/plain": [
              "tensor([[1, 0, 0],\n",
              "        [1, 0, 0]])"
            ]
          },
          "metadata": {},
          "execution_count": 24
        }
      ]
    },
    {
      "cell_type": "code",
      "source": [
        "#absolute\n",
        "c= torch.tensor([1.2,-2.4,3.6])\n",
        "torch.abs(c)"
      ],
      "metadata": {
        "colab": {
          "base_uri": "https://localhost:8080/"
        },
        "id": "RbUYHgOzkyJh",
        "outputId": "f9e5d33a-8967-4f11-cc66-5abf0807ede8"
      },
      "execution_count": 27,
      "outputs": [
        {
          "output_type": "execute_result",
          "data": {
            "text/plain": [
              "tensor([1.2000, 2.4000, 3.6000])"
            ]
          },
          "metadata": {},
          "execution_count": 27
        }
      ]
    },
    {
      "cell_type": "code",
      "source": [
        "print(torch.round(c))\n",
        "print(torch.ceil(c))\n",
        "print(torch.floor(c))\n",
        "print(torch.trunc(c))\n",
        "print(torch.frac(c))\n",
        "torch.clamp(c ,min=-1.0, max=2.0)\n"
      ],
      "metadata": {
        "colab": {
          "base_uri": "https://localhost:8080/"
        },
        "id": "NpmtqAd2kyNb",
        "outputId": "78d6745d-b846-48fb-ded4-313cfb09dd38"
      },
      "execution_count": 30,
      "outputs": [
        {
          "output_type": "stream",
          "name": "stdout",
          "text": [
            "tensor([ 1., -2.,  4.])\n",
            "tensor([ 2., -2.,  4.])\n",
            "tensor([ 1., -3.,  3.])\n",
            "tensor([ 1., -2.,  3.])\n",
            "tensor([ 0.2000, -0.4000,  0.6000])\n"
          ]
        },
        {
          "output_type": "execute_result",
          "data": {
            "text/plain": [
              "tensor([ 1.2000, -1.0000,  2.0000])"
            ]
          },
          "metadata": {},
          "execution_count": 30
        }
      ]
    },
    {
      "cell_type": "code",
      "source": [
        "e =torch.randint(size =(3,2), low= 0, high= 10, dtype=torch.float32)\n",
        "e\n"
      ],
      "metadata": {
        "colab": {
          "base_uri": "https://localhost:8080/"
        },
        "id": "_C9mzPRPoX1j",
        "outputId": "4aa8dd62-63a4-4bca-a5aa-518c53e35898"
      },
      "execution_count": 33,
      "outputs": [
        {
          "output_type": "execute_result",
          "data": {
            "text/plain": [
              "tensor([[3., 6.],\n",
              "        [2., 0.],\n",
              "        [5., 9.]])"
            ]
          },
          "metadata": {},
          "execution_count": 33
        }
      ]
    },
    {
      "cell_type": "code",
      "source": [
        "print(torch.sum(e))\n",
        "print(torch.sum(e, dim=0)) #columns wise\n",
        "print(torch.sum(e, dim=1)) #row wise\n",
        "\n",
        "print(torch.mean(e))\n",
        "print(torch.mean(e, dim=0)) #columns wise\n",
        "print(torch.mean(e, dim=1)) #row wise\n",
        "\n",
        "print(torch.std(e))\n"
      ],
      "metadata": {
        "colab": {
          "base_uri": "https://localhost:8080/"
        },
        "id": "6QjOhFOvoX4C",
        "outputId": "7f57f0e8-1a87-4be9-f9d7-2db07494a740"
      },
      "execution_count": 37,
      "outputs": [
        {
          "output_type": "stream",
          "name": "stdout",
          "text": [
            "tensor(25.)\n",
            "tensor([10., 15.])\n",
            "tensor([ 9.,  2., 14.])\n",
            "tensor(4.1667)\n",
            "tensor([3.3333, 5.0000])\n",
            "tensor([4.5000, 1.0000, 7.0000])\n",
            "tensor(3.1885)\n"
          ]
        }
      ]
    },
    {
      "cell_type": "code",
      "source": [
        "print(torch.median(e))\n",
        "print(torch.max(e) ,torch.min(e))\n",
        "print(torch.prod(e) ,torch.prod(e, dim=0)) #columns wise\n",
        "print(torch.prod(e, dim=1)) #row wise"
      ],
      "metadata": {
        "colab": {
          "base_uri": "https://localhost:8080/"
        },
        "id": "j4TSHI6moX6S",
        "outputId": "191160c8-1f7e-4e58-eb83-9208f7c2b34d"
      },
      "execution_count": 40,
      "outputs": [
        {
          "output_type": "stream",
          "name": "stdout",
          "text": [
            "tensor(3.)\n",
            "tensor(9.) tensor(0.)\n",
            "tensor(0.) tensor([30.,  0.])\n",
            "tensor([18.,  0., 45.])\n"
          ]
        }
      ]
    },
    {
      "cell_type": "code",
      "source": [
        "print(torch.var(e))\n",
        "\n",
        "print(torch.argmax(e))\n",
        "\n",
        "print(torch.argmin(e))"
      ],
      "metadata": {
        "colab": {
          "base_uri": "https://localhost:8080/"
        },
        "id": "BPc9YBOrpdXw",
        "outputId": "001ecc5a-51af-457c-9764-a9e836b3a0f1"
      },
      "execution_count": 41,
      "outputs": [
        {
          "output_type": "stream",
          "name": "stdout",
          "text": [
            "tensor(10.1667)\n",
            "tensor(5)\n",
            "tensor(3)\n"
          ]
        }
      ]
    },
    {
      "cell_type": "code",
      "source": [
        "f= torch.randint(size =(3,2), low= 0, high= 10, dtype=torch.float32)\n",
        "g= torch.randint(size =(2,3), low= 0, high= 10, dtype=torch.float32)\n",
        "print(f)\n",
        "print(g)"
      ],
      "metadata": {
        "colab": {
          "base_uri": "https://localhost:8080/"
        },
        "id": "O8hCd2XipdaT",
        "outputId": "52f56ee4-afbc-46df-d8e3-306614775441"
      },
      "execution_count": 42,
      "outputs": [
        {
          "output_type": "stream",
          "name": "stdout",
          "text": [
            "tensor([[5., 3.],\n",
            "        [3., 5.],\n",
            "        [8., 9.]])\n",
            "tensor([[1., 4., 4.],\n",
            "        [5., 8., 0.]])\n"
          ]
        }
      ]
    },
    {
      "cell_type": "code",
      "source": [
        "print(torch.matmul(f,g))\n",
        "print(torch.mm(f,g))"
      ],
      "metadata": {
        "colab": {
          "base_uri": "https://localhost:8080/"
        },
        "id": "7nOllHsepdc6",
        "outputId": "b390e3f8-60a2-43b3-e9a2-b8f72a8809af"
      },
      "execution_count": 45,
      "outputs": [
        {
          "output_type": "stream",
          "name": "stdout",
          "text": [
            "tensor([[ 20.,  44.,  20.],\n",
            "        [ 28.,  52.,  12.],\n",
            "        [ 53., 104.,  32.]])\n",
            "tensor([[ 20.,  44.,  20.],\n",
            "        [ 28.,  52.,  12.],\n",
            "        [ 53., 104.,  32.]])\n"
          ]
        }
      ]
    },
    {
      "cell_type": "code",
      "source": [
        "vector1= torch.tensor([1,2,3])\n",
        "vector2= torch.tensor([4,5,6])\n",
        "print(torch.dot(vector1,vector2))"
      ],
      "metadata": {
        "colab": {
          "base_uri": "https://localhost:8080/"
        },
        "id": "Fyoh4deDr2cu",
        "outputId": "b174ddf5-90b6-471d-cc06-a83e4941f44a"
      },
      "execution_count": 46,
      "outputs": [
        {
          "output_type": "stream",
          "name": "stdout",
          "text": [
            "tensor(32)\n"
          ]
        }
      ]
    },
    {
      "cell_type": "code",
      "source": [
        "h =torch.randint(size =(3,2), low= 0, high= 10, dtype=torch.float32)\n",
        "print(h)\n",
        "print(h.T)"
      ],
      "metadata": {
        "colab": {
          "base_uri": "https://localhost:8080/"
        },
        "id": "_ujUNg5qr2fo",
        "outputId": "b6b7a4e2-8fa5-46ce-d6a3-a380fba0d440"
      },
      "execution_count": 47,
      "outputs": [
        {
          "output_type": "stream",
          "name": "stdout",
          "text": [
            "tensor([[1., 3.],\n",
            "        [1., 4.],\n",
            "        [7., 8.]])\n",
            "tensor([[1., 1., 7.],\n",
            "        [3., 4., 8.]])\n"
          ]
        }
      ]
    },
    {
      "cell_type": "code",
      "source": [
        "torch.transpose(h,0,1)"
      ],
      "metadata": {
        "colab": {
          "base_uri": "https://localhost:8080/"
        },
        "id": "v9mGQqw4r2kC",
        "outputId": "b0005c04-b0d1-4938-deac-4caef6932c36"
      },
      "execution_count": 50,
      "outputs": [
        {
          "output_type": "execute_result",
          "data": {
            "text/plain": [
              "tensor([[1., 1., 7.],\n",
              "        [3., 4., 8.]])"
            ]
          },
          "metadata": {},
          "execution_count": 50
        }
      ]
    },
    {
      "cell_type": "code",
      "source": [
        "print(torch.det(e))\n",
        "print(torch.inverse(h))\n",
        "print(torch.eig(h))\n",
        "print(torch.svd(h))"
      ],
      "metadata": {
        "colab": {
          "base_uri": "https://localhost:8080/",
          "height": 193
        },
        "id": "liMDsoqvtR99",
        "outputId": "3a869f2c-9e70-44fd-a75a-23c7ea64b628"
      },
      "execution_count": 53,
      "outputs": [
        {
          "output_type": "error",
          "ename": "RuntimeError",
          "evalue": "linalg.det: A must be batches of square matrices, but they are 3 by 2 matrices",
          "traceback": [
            "\u001b[0;31m---------------------------------------------------------------------------\u001b[0m",
            "\u001b[0;31mRuntimeError\u001b[0m                              Traceback (most recent call last)",
            "\u001b[0;32m<ipython-input-53-667d8473f849>\u001b[0m in \u001b[0;36m<cell line: 1>\u001b[0;34m()\u001b[0m\n\u001b[0;32m----> 1\u001b[0;31m \u001b[0mprint\u001b[0m\u001b[0;34m(\u001b[0m\u001b[0mtorch\u001b[0m\u001b[0;34m.\u001b[0m\u001b[0mdet\u001b[0m\u001b[0;34m(\u001b[0m\u001b[0me\u001b[0m\u001b[0;34m)\u001b[0m\u001b[0;34m)\u001b[0m\u001b[0;34m\u001b[0m\u001b[0;34m\u001b[0m\u001b[0m\n\u001b[0m\u001b[1;32m      2\u001b[0m \u001b[0mprint\u001b[0m\u001b[0;34m(\u001b[0m\u001b[0mtorch\u001b[0m\u001b[0;34m.\u001b[0m\u001b[0minverse\u001b[0m\u001b[0;34m(\u001b[0m\u001b[0mh\u001b[0m\u001b[0;34m)\u001b[0m\u001b[0;34m)\u001b[0m\u001b[0;34m\u001b[0m\u001b[0;34m\u001b[0m\u001b[0m\n\u001b[1;32m      3\u001b[0m \u001b[0mprint\u001b[0m\u001b[0;34m(\u001b[0m\u001b[0mtorch\u001b[0m\u001b[0;34m.\u001b[0m\u001b[0meig\u001b[0m\u001b[0;34m(\u001b[0m\u001b[0mh\u001b[0m\u001b[0;34m)\u001b[0m\u001b[0;34m)\u001b[0m\u001b[0;34m\u001b[0m\u001b[0;34m\u001b[0m\u001b[0m\n\u001b[1;32m      4\u001b[0m \u001b[0mprint\u001b[0m\u001b[0;34m(\u001b[0m\u001b[0mtorch\u001b[0m\u001b[0;34m.\u001b[0m\u001b[0msvd\u001b[0m\u001b[0;34m(\u001b[0m\u001b[0mh\u001b[0m\u001b[0;34m)\u001b[0m\u001b[0;34m)\u001b[0m\u001b[0;34m\u001b[0m\u001b[0;34m\u001b[0m\u001b[0m\n",
            "\u001b[0;31mRuntimeError\u001b[0m: linalg.det: A must be batches of square matrices, but they are 3 by 2 matrices"
          ]
        }
      ]
    },
    {
      "cell_type": "code",
      "source": [
        "m= torch.rand(2,3)\n",
        "n= torch.rand(2,3)"
      ],
      "metadata": {
        "id": "fgyZrMPx4pdq"
      },
      "execution_count": 55,
      "outputs": []
    },
    {
      "cell_type": "code",
      "source": [
        "m.add_(n)"
      ],
      "metadata": {
        "colab": {
          "base_uri": "https://localhost:8080/"
        },
        "id": "UmShr2zL4iMZ",
        "outputId": "426f5b25-8140-4e49-8eee-855845491c4c"
      },
      "execution_count": 56,
      "outputs": [
        {
          "output_type": "execute_result",
          "data": {
            "text/plain": [
              "tensor([[0.6671, 1.3978, 0.9241],\n",
              "        [1.0886, 0.9917, 0.8005]])"
            ]
          },
          "metadata": {},
          "execution_count": 56
        }
      ]
    },
    {
      "cell_type": "code",
      "source": [
        "torch.relu(m)"
      ],
      "metadata": {
        "colab": {
          "base_uri": "https://localhost:8080/"
        },
        "id": "CIxoWyqf4iWd",
        "outputId": "7e431e9c-627e-4281-ed9c-bec8d8c6f010"
      },
      "execution_count": 57,
      "outputs": [
        {
          "output_type": "execute_result",
          "data": {
            "text/plain": [
              "tensor([[0.6671, 1.3978, 0.9241],\n",
              "        [1.0886, 0.9917, 0.8005]])"
            ]
          },
          "metadata": {},
          "execution_count": 57
        }
      ]
    },
    {
      "cell_type": "code",
      "source": [
        "m.relu_ #_ leads to inplace"
      ],
      "metadata": {
        "colab": {
          "base_uri": "https://localhost:8080/"
        },
        "id": "A2VnXtUg4iZX",
        "outputId": "3dc03622-b551-4a80-c533-9eb961f8545a"
      },
      "execution_count": 58,
      "outputs": [
        {
          "output_type": "execute_result",
          "data": {
            "text/plain": [
              "<function Tensor.relu_>"
            ]
          },
          "metadata": {},
          "execution_count": 58
        }
      ]
    },
    {
      "cell_type": "markdown",
      "source": [
        "copying"
      ],
      "metadata": {
        "id": "aRjWdvdl5G8N"
      }
    },
    {
      "cell_type": "code",
      "source": [
        "#assignment\n",
        "#  b=a\n",
        "#id(a)= id(b)\n",
        "\n",
        "#b= a.clone(a)\n"
      ],
      "metadata": {
        "id": "UJiGobXP4icB"
      },
      "execution_count": null,
      "outputs": []
    },
    {
      "cell_type": "code",
      "source": [
        "#reshape\n",
        "print(m.reshape(3,2))\n",
        "print(m.flatten())"
      ],
      "metadata": {
        "colab": {
          "base_uri": "https://localhost:8080/"
        },
        "id": "lD4mg9Hs4ifV",
        "outputId": "e3abbae2-66c7-4794-8d6d-fcde122e98d0"
      },
      "execution_count": 60,
      "outputs": [
        {
          "output_type": "stream",
          "name": "stdout",
          "text": [
            "tensor([[0.6671, 1.3978],\n",
            "        [0.9241, 1.0886],\n",
            "        [0.9917, 0.8005]])\n",
            "tensor([0.6671, 1.3978, 0.9241, 1.0886, 0.9917, 0.8005])\n"
          ]
        }
      ]
    },
    {
      "cell_type": "code",
      "source": [
        "b =torch.rand(2,3,4)\n",
        "b"
      ],
      "metadata": {
        "colab": {
          "base_uri": "https://localhost:8080/"
        },
        "id": "_GTqCjKH6WuM",
        "outputId": "9ca15a68-8747-461b-a903-d8d736bfbe4c"
      },
      "execution_count": 61,
      "outputs": [
        {
          "output_type": "execute_result",
          "data": {
            "text/plain": [
              "tensor([[[0.7442, 0.5285, 0.6642, 0.6099],\n",
              "         [0.6818, 0.7479, 0.0369, 0.7517],\n",
              "         [0.1484, 0.1227, 0.5304, 0.4148]],\n",
              "\n",
              "        [[0.7937, 0.2104, 0.0555, 0.8639],\n",
              "         [0.4259, 0.7812, 0.6607, 0.1251],\n",
              "         [0.6004, 0.6201, 0.1652, 0.2628]]])"
            ]
          },
          "metadata": {},
          "execution_count": 61
        }
      ]
    },
    {
      "cell_type": "code",
      "source": [
        "b.permute(2,0,1).shape"
      ],
      "metadata": {
        "colab": {
          "base_uri": "https://localhost:8080/"
        },
        "id": "DlqIapqI6Ww1",
        "outputId": "e421e4ef-23e2-4733-a35f-77105b972091"
      },
      "execution_count": 63,
      "outputs": [
        {
          "output_type": "execute_result",
          "data": {
            "text/plain": [
              "torch.Size([4, 2, 3])"
            ]
          },
          "metadata": {},
          "execution_count": 63
        }
      ]
    },
    {
      "cell_type": "code",
      "source": [
        "#unsqueeze\n",
        "c =torch.rand(226,226,3)\n",
        "c.unsqueeze(0).shape"
      ],
      "metadata": {
        "colab": {
          "base_uri": "https://localhost:8080/"
        },
        "id": "zvhrzl4u6Wzt",
        "outputId": "cdaefd98-699d-4ca6-d3dc-a3427e7ce1a8"
      },
      "execution_count": 64,
      "outputs": [
        {
          "output_type": "execute_result",
          "data": {
            "text/plain": [
              "torch.Size([1, 226, 226, 3])"
            ]
          },
          "metadata": {},
          "execution_count": 64
        }
      ]
    },
    {
      "cell_type": "code",
      "source": [
        "c.unsqueeze(1).shape   #adds dims"
      ],
      "metadata": {
        "colab": {
          "base_uri": "https://localhost:8080/"
        },
        "id": "7jxjFKCO68Ij",
        "outputId": "db1c8c7f-2942-45dc-d5fc-dc14649e7d97"
      },
      "execution_count": 66,
      "outputs": [
        {
          "output_type": "execute_result",
          "data": {
            "text/plain": [
              "torch.Size([226, 1, 226, 3])"
            ]
          },
          "metadata": {},
          "execution_count": 66
        }
      ]
    },
    {
      "cell_type": "code",
      "source": [
        "#squeeze\n",
        "c.squeeze(0).shape"
      ],
      "metadata": {
        "colab": {
          "base_uri": "https://localhost:8080/"
        },
        "id": "6-h9-RK37AlK",
        "outputId": "1df8ba5d-18be-4f40-8f8a-6ca9478c121c"
      },
      "execution_count": 67,
      "outputs": [
        {
          "output_type": "execute_result",
          "data": {
            "text/plain": [
              "torch.Size([226, 226, 3])"
            ]
          },
          "metadata": {},
          "execution_count": 67
        }
      ]
    },
    {
      "cell_type": "code",
      "source": [],
      "metadata": {
        "id": "ULGqvyUL7An1"
      },
      "execution_count": null,
      "outputs": []
    }
  ]
}