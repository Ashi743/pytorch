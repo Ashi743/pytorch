{
  "nbformat": 4,
  "nbformat_minor": 0,
  "metadata": {
    "colab": {
      "provenance": [],
      "gpuType": "T4",
      "authorship_tag": "ABX9TyM8ZWbRV7Mm4lCpTl2fSbEZ",
      "include_colab_link": true
    },
    "kernelspec": {
      "name": "python3",
      "display_name": "Python 3"
    },
    "language_info": {
      "name": "python"
    },
    "accelerator": "GPU"
  },
  "cells": [
    {
      "cell_type": "markdown",
      "metadata": {
        "id": "view-in-github",
        "colab_type": "text"
      },
      "source": [
        "<a href=\"https://colab.research.google.com/github/Ashi743/pytorch/blob/main/ANN_HYPERPARAM_optuna.ipynb\" target=\"_parent\"><img src=\"https://colab.research.google.com/assets/colab-badge.svg\" alt=\"Open In Colab\"/></a>"
      ]
    },
    {
      "cell_type": "code",
      "execution_count": 71,
      "metadata": {
        "colab": {
          "base_uri": "https://localhost:8080/"
        },
        "id": "HpylV4isdsS4",
        "outputId": "f20f0733-aa75-42a7-81d1-7cf2592fbc72"
      },
      "outputs": [
        {
          "output_type": "stream",
          "name": "stdout",
          "text": [
            "/root/.cache/kagglehub/datasets/zalando-research/fashionmnist/versions/4/fashion-mnist_train.csv\n",
            "/root/.cache/kagglehub/datasets/zalando-research/fashionmnist/versions/4/fashion-mnist_test.csv\n"
          ]
        }
      ],
      "source": [
        "import torch\n",
        "from torch import nn\n",
        "import pandas  as pd\n",
        "import kagglehub\n",
        "import os\n",
        "\n",
        "# Download latest version\n",
        "path = kagglehub.dataset_download(\"zalando-research/fashionmnist\")\n",
        "\n",
        "#print(\"Path to dataset files:\", path)\n",
        "\n",
        "for filename in os.listdir(path):\n",
        "  if filename.endswith('csv'):\n",
        "\n",
        "    csv_filepath= os.path.join(path, filename)\n",
        "\n",
        "    print(csv_filepath)"
      ]
    },
    {
      "cell_type": "code",
      "source": [
        "#check gpu\n",
        "device= torch.device(\"cuda\" if torch.cuda.is_available() else 'cpu')\n",
        "device"
      ],
      "metadata": {
        "colab": {
          "base_uri": "https://localhost:8080/"
        },
        "id": "k5iBefBHvSiU",
        "outputId": "c2695210-cec2-40bc-fd9d-25b2e3f244de"
      },
      "execution_count": 72,
      "outputs": [
        {
          "output_type": "execute_result",
          "data": {
            "text/plain": [
              "device(type='cuda')"
            ]
          },
          "metadata": {},
          "execution_count": 72
        }
      ]
    },
    {
      "cell_type": "code",
      "source": [
        "train= pd.read_csv(\"/root/.cache/kagglehub/datasets/zalando-research/fashionmnist/versions/4/fashion-mnist_train.csv\")\n",
        "test = pd.read_csv(\"/root/.cache/kagglehub/datasets/zalando-research/fashionmnist/versions/4/fashion-mnist_test.csv\")"
      ],
      "metadata": {
        "id": "H80nosTwqrrh"
      },
      "execution_count": 73,
      "outputs": []
    },
    {
      "cell_type": "code",
      "source": [
        "#read_data\n",
        "print(train.shape, test.shape)\n",
        "print(train.label.unique() ,train.label.nunique())\n",
        "train.head()"
      ],
      "metadata": {
        "colab": {
          "base_uri": "https://localhost:8080/",
          "height": 292
        },
        "id": "f0lJii7urPXN",
        "outputId": "31275004-f7cd-42e8-a705-6e6b75d6459f"
      },
      "execution_count": 74,
      "outputs": [
        {
          "output_type": "stream",
          "name": "stdout",
          "text": [
            "(60000, 785) (10000, 785)\n",
            "[2 9 6 0 3 4 5 8 7 1] 10\n"
          ]
        },
        {
          "output_type": "execute_result",
          "data": {
            "text/plain": [
              "   label  pixel1  pixel2  pixel3  pixel4  pixel5  pixel6  pixel7  pixel8  \\\n",
              "0      2       0       0       0       0       0       0       0       0   \n",
              "1      9       0       0       0       0       0       0       0       0   \n",
              "2      6       0       0       0       0       0       0       0       5   \n",
              "3      0       0       0       0       1       2       0       0       0   \n",
              "4      3       0       0       0       0       0       0       0       0   \n",
              "\n",
              "   pixel9  ...  pixel775  pixel776  pixel777  pixel778  pixel779  pixel780  \\\n",
              "0       0  ...         0         0         0         0         0         0   \n",
              "1       0  ...         0         0         0         0         0         0   \n",
              "2       0  ...         0         0         0        30        43         0   \n",
              "3       0  ...         3         0         0         0         0         1   \n",
              "4       0  ...         0         0         0         0         0         0   \n",
              "\n",
              "   pixel781  pixel782  pixel783  pixel784  \n",
              "0         0         0         0         0  \n",
              "1         0         0         0         0  \n",
              "2         0         0         0         0  \n",
              "3         0         0         0         0  \n",
              "4         0         0         0         0  \n",
              "\n",
              "[5 rows x 785 columns]"
            ],
            "text/html": [
              "\n",
              "  <div id=\"df-cc096cce-7f19-46a4-a3a1-ffc635720ffb\" class=\"colab-df-container\">\n",
              "    <div>\n",
              "<style scoped>\n",
              "    .dataframe tbody tr th:only-of-type {\n",
              "        vertical-align: middle;\n",
              "    }\n",
              "\n",
              "    .dataframe tbody tr th {\n",
              "        vertical-align: top;\n",
              "    }\n",
              "\n",
              "    .dataframe thead th {\n",
              "        text-align: right;\n",
              "    }\n",
              "</style>\n",
              "<table border=\"1\" class=\"dataframe\">\n",
              "  <thead>\n",
              "    <tr style=\"text-align: right;\">\n",
              "      <th></th>\n",
              "      <th>label</th>\n",
              "      <th>pixel1</th>\n",
              "      <th>pixel2</th>\n",
              "      <th>pixel3</th>\n",
              "      <th>pixel4</th>\n",
              "      <th>pixel5</th>\n",
              "      <th>pixel6</th>\n",
              "      <th>pixel7</th>\n",
              "      <th>pixel8</th>\n",
              "      <th>pixel9</th>\n",
              "      <th>...</th>\n",
              "      <th>pixel775</th>\n",
              "      <th>pixel776</th>\n",
              "      <th>pixel777</th>\n",
              "      <th>pixel778</th>\n",
              "      <th>pixel779</th>\n",
              "      <th>pixel780</th>\n",
              "      <th>pixel781</th>\n",
              "      <th>pixel782</th>\n",
              "      <th>pixel783</th>\n",
              "      <th>pixel784</th>\n",
              "    </tr>\n",
              "  </thead>\n",
              "  <tbody>\n",
              "    <tr>\n",
              "      <th>0</th>\n",
              "      <td>2</td>\n",
              "      <td>0</td>\n",
              "      <td>0</td>\n",
              "      <td>0</td>\n",
              "      <td>0</td>\n",
              "      <td>0</td>\n",
              "      <td>0</td>\n",
              "      <td>0</td>\n",
              "      <td>0</td>\n",
              "      <td>0</td>\n",
              "      <td>...</td>\n",
              "      <td>0</td>\n",
              "      <td>0</td>\n",
              "      <td>0</td>\n",
              "      <td>0</td>\n",
              "      <td>0</td>\n",
              "      <td>0</td>\n",
              "      <td>0</td>\n",
              "      <td>0</td>\n",
              "      <td>0</td>\n",
              "      <td>0</td>\n",
              "    </tr>\n",
              "    <tr>\n",
              "      <th>1</th>\n",
              "      <td>9</td>\n",
              "      <td>0</td>\n",
              "      <td>0</td>\n",
              "      <td>0</td>\n",
              "      <td>0</td>\n",
              "      <td>0</td>\n",
              "      <td>0</td>\n",
              "      <td>0</td>\n",
              "      <td>0</td>\n",
              "      <td>0</td>\n",
              "      <td>...</td>\n",
              "      <td>0</td>\n",
              "      <td>0</td>\n",
              "      <td>0</td>\n",
              "      <td>0</td>\n",
              "      <td>0</td>\n",
              "      <td>0</td>\n",
              "      <td>0</td>\n",
              "      <td>0</td>\n",
              "      <td>0</td>\n",
              "      <td>0</td>\n",
              "    </tr>\n",
              "    <tr>\n",
              "      <th>2</th>\n",
              "      <td>6</td>\n",
              "      <td>0</td>\n",
              "      <td>0</td>\n",
              "      <td>0</td>\n",
              "      <td>0</td>\n",
              "      <td>0</td>\n",
              "      <td>0</td>\n",
              "      <td>0</td>\n",
              "      <td>5</td>\n",
              "      <td>0</td>\n",
              "      <td>...</td>\n",
              "      <td>0</td>\n",
              "      <td>0</td>\n",
              "      <td>0</td>\n",
              "      <td>30</td>\n",
              "      <td>43</td>\n",
              "      <td>0</td>\n",
              "      <td>0</td>\n",
              "      <td>0</td>\n",
              "      <td>0</td>\n",
              "      <td>0</td>\n",
              "    </tr>\n",
              "    <tr>\n",
              "      <th>3</th>\n",
              "      <td>0</td>\n",
              "      <td>0</td>\n",
              "      <td>0</td>\n",
              "      <td>0</td>\n",
              "      <td>1</td>\n",
              "      <td>2</td>\n",
              "      <td>0</td>\n",
              "      <td>0</td>\n",
              "      <td>0</td>\n",
              "      <td>0</td>\n",
              "      <td>...</td>\n",
              "      <td>3</td>\n",
              "      <td>0</td>\n",
              "      <td>0</td>\n",
              "      <td>0</td>\n",
              "      <td>0</td>\n",
              "      <td>1</td>\n",
              "      <td>0</td>\n",
              "      <td>0</td>\n",
              "      <td>0</td>\n",
              "      <td>0</td>\n",
              "    </tr>\n",
              "    <tr>\n",
              "      <th>4</th>\n",
              "      <td>3</td>\n",
              "      <td>0</td>\n",
              "      <td>0</td>\n",
              "      <td>0</td>\n",
              "      <td>0</td>\n",
              "      <td>0</td>\n",
              "      <td>0</td>\n",
              "      <td>0</td>\n",
              "      <td>0</td>\n",
              "      <td>0</td>\n",
              "      <td>...</td>\n",
              "      <td>0</td>\n",
              "      <td>0</td>\n",
              "      <td>0</td>\n",
              "      <td>0</td>\n",
              "      <td>0</td>\n",
              "      <td>0</td>\n",
              "      <td>0</td>\n",
              "      <td>0</td>\n",
              "      <td>0</td>\n",
              "      <td>0</td>\n",
              "    </tr>\n",
              "  </tbody>\n",
              "</table>\n",
              "<p>5 rows × 785 columns</p>\n",
              "</div>\n",
              "    <div class=\"colab-df-buttons\">\n",
              "\n",
              "  <div class=\"colab-df-container\">\n",
              "    <button class=\"colab-df-convert\" onclick=\"convertToInteractive('df-cc096cce-7f19-46a4-a3a1-ffc635720ffb')\"\n",
              "            title=\"Convert this dataframe to an interactive table.\"\n",
              "            style=\"display:none;\">\n",
              "\n",
              "  <svg xmlns=\"http://www.w3.org/2000/svg\" height=\"24px\" viewBox=\"0 -960 960 960\">\n",
              "    <path d=\"M120-120v-720h720v720H120Zm60-500h600v-160H180v160Zm220 220h160v-160H400v160Zm0 220h160v-160H400v160ZM180-400h160v-160H180v160Zm440 0h160v-160H620v160ZM180-180h160v-160H180v160Zm440 0h160v-160H620v160Z\"/>\n",
              "  </svg>\n",
              "    </button>\n",
              "\n",
              "  <style>\n",
              "    .colab-df-container {\n",
              "      display:flex;\n",
              "      gap: 12px;\n",
              "    }\n",
              "\n",
              "    .colab-df-convert {\n",
              "      background-color: #E8F0FE;\n",
              "      border: none;\n",
              "      border-radius: 50%;\n",
              "      cursor: pointer;\n",
              "      display: none;\n",
              "      fill: #1967D2;\n",
              "      height: 32px;\n",
              "      padding: 0 0 0 0;\n",
              "      width: 32px;\n",
              "    }\n",
              "\n",
              "    .colab-df-convert:hover {\n",
              "      background-color: #E2EBFA;\n",
              "      box-shadow: 0px 1px 2px rgba(60, 64, 67, 0.3), 0px 1px 3px 1px rgba(60, 64, 67, 0.15);\n",
              "      fill: #174EA6;\n",
              "    }\n",
              "\n",
              "    .colab-df-buttons div {\n",
              "      margin-bottom: 4px;\n",
              "    }\n",
              "\n",
              "    [theme=dark] .colab-df-convert {\n",
              "      background-color: #3B4455;\n",
              "      fill: #D2E3FC;\n",
              "    }\n",
              "\n",
              "    [theme=dark] .colab-df-convert:hover {\n",
              "      background-color: #434B5C;\n",
              "      box-shadow: 0px 1px 3px 1px rgba(0, 0, 0, 0.15);\n",
              "      filter: drop-shadow(0px 1px 2px rgba(0, 0, 0, 0.3));\n",
              "      fill: #FFFFFF;\n",
              "    }\n",
              "  </style>\n",
              "\n",
              "    <script>\n",
              "      const buttonEl =\n",
              "        document.querySelector('#df-cc096cce-7f19-46a4-a3a1-ffc635720ffb button.colab-df-convert');\n",
              "      buttonEl.style.display =\n",
              "        google.colab.kernel.accessAllowed ? 'block' : 'none';\n",
              "\n",
              "      async function convertToInteractive(key) {\n",
              "        const element = document.querySelector('#df-cc096cce-7f19-46a4-a3a1-ffc635720ffb');\n",
              "        const dataTable =\n",
              "          await google.colab.kernel.invokeFunction('convertToInteractive',\n",
              "                                                    [key], {});\n",
              "        if (!dataTable) return;\n",
              "\n",
              "        const docLinkHtml = 'Like what you see? Visit the ' +\n",
              "          '<a target=\"_blank\" href=https://colab.research.google.com/notebooks/data_table.ipynb>data table notebook</a>'\n",
              "          + ' to learn more about interactive tables.';\n",
              "        element.innerHTML = '';\n",
              "        dataTable['output_type'] = 'display_data';\n",
              "        await google.colab.output.renderOutput(dataTable, element);\n",
              "        const docLink = document.createElement('div');\n",
              "        docLink.innerHTML = docLinkHtml;\n",
              "        element.appendChild(docLink);\n",
              "      }\n",
              "    </script>\n",
              "  </div>\n",
              "\n",
              "\n",
              "<div id=\"df-3f477475-67bd-4f68-8921-3ccd34be2cee\">\n",
              "  <button class=\"colab-df-quickchart\" onclick=\"quickchart('df-3f477475-67bd-4f68-8921-3ccd34be2cee')\"\n",
              "            title=\"Suggest charts\"\n",
              "            style=\"display:none;\">\n",
              "\n",
              "<svg xmlns=\"http://www.w3.org/2000/svg\" height=\"24px\"viewBox=\"0 0 24 24\"\n",
              "     width=\"24px\">\n",
              "    <g>\n",
              "        <path d=\"M19 3H5c-1.1 0-2 .9-2 2v14c0 1.1.9 2 2 2h14c1.1 0 2-.9 2-2V5c0-1.1-.9-2-2-2zM9 17H7v-7h2v7zm4 0h-2V7h2v10zm4 0h-2v-4h2v4z\"/>\n",
              "    </g>\n",
              "</svg>\n",
              "  </button>\n",
              "\n",
              "<style>\n",
              "  .colab-df-quickchart {\n",
              "      --bg-color: #E8F0FE;\n",
              "      --fill-color: #1967D2;\n",
              "      --hover-bg-color: #E2EBFA;\n",
              "      --hover-fill-color: #174EA6;\n",
              "      --disabled-fill-color: #AAA;\n",
              "      --disabled-bg-color: #DDD;\n",
              "  }\n",
              "\n",
              "  [theme=dark] .colab-df-quickchart {\n",
              "      --bg-color: #3B4455;\n",
              "      --fill-color: #D2E3FC;\n",
              "      --hover-bg-color: #434B5C;\n",
              "      --hover-fill-color: #FFFFFF;\n",
              "      --disabled-bg-color: #3B4455;\n",
              "      --disabled-fill-color: #666;\n",
              "  }\n",
              "\n",
              "  .colab-df-quickchart {\n",
              "    background-color: var(--bg-color);\n",
              "    border: none;\n",
              "    border-radius: 50%;\n",
              "    cursor: pointer;\n",
              "    display: none;\n",
              "    fill: var(--fill-color);\n",
              "    height: 32px;\n",
              "    padding: 0;\n",
              "    width: 32px;\n",
              "  }\n",
              "\n",
              "  .colab-df-quickchart:hover {\n",
              "    background-color: var(--hover-bg-color);\n",
              "    box-shadow: 0 1px 2px rgba(60, 64, 67, 0.3), 0 1px 3px 1px rgba(60, 64, 67, 0.15);\n",
              "    fill: var(--button-hover-fill-color);\n",
              "  }\n",
              "\n",
              "  .colab-df-quickchart-complete:disabled,\n",
              "  .colab-df-quickchart-complete:disabled:hover {\n",
              "    background-color: var(--disabled-bg-color);\n",
              "    fill: var(--disabled-fill-color);\n",
              "    box-shadow: none;\n",
              "  }\n",
              "\n",
              "  .colab-df-spinner {\n",
              "    border: 2px solid var(--fill-color);\n",
              "    border-color: transparent;\n",
              "    border-bottom-color: var(--fill-color);\n",
              "    animation:\n",
              "      spin 1s steps(1) infinite;\n",
              "  }\n",
              "\n",
              "  @keyframes spin {\n",
              "    0% {\n",
              "      border-color: transparent;\n",
              "      border-bottom-color: var(--fill-color);\n",
              "      border-left-color: var(--fill-color);\n",
              "    }\n",
              "    20% {\n",
              "      border-color: transparent;\n",
              "      border-left-color: var(--fill-color);\n",
              "      border-top-color: var(--fill-color);\n",
              "    }\n",
              "    30% {\n",
              "      border-color: transparent;\n",
              "      border-left-color: var(--fill-color);\n",
              "      border-top-color: var(--fill-color);\n",
              "      border-right-color: var(--fill-color);\n",
              "    }\n",
              "    40% {\n",
              "      border-color: transparent;\n",
              "      border-right-color: var(--fill-color);\n",
              "      border-top-color: var(--fill-color);\n",
              "    }\n",
              "    60% {\n",
              "      border-color: transparent;\n",
              "      border-right-color: var(--fill-color);\n",
              "    }\n",
              "    80% {\n",
              "      border-color: transparent;\n",
              "      border-right-color: var(--fill-color);\n",
              "      border-bottom-color: var(--fill-color);\n",
              "    }\n",
              "    90% {\n",
              "      border-color: transparent;\n",
              "      border-bottom-color: var(--fill-color);\n",
              "    }\n",
              "  }\n",
              "</style>\n",
              "\n",
              "  <script>\n",
              "    async function quickchart(key) {\n",
              "      const quickchartButtonEl =\n",
              "        document.querySelector('#' + key + ' button');\n",
              "      quickchartButtonEl.disabled = true;  // To prevent multiple clicks.\n",
              "      quickchartButtonEl.classList.add('colab-df-spinner');\n",
              "      try {\n",
              "        const charts = await google.colab.kernel.invokeFunction(\n",
              "            'suggestCharts', [key], {});\n",
              "      } catch (error) {\n",
              "        console.error('Error during call to suggestCharts:', error);\n",
              "      }\n",
              "      quickchartButtonEl.classList.remove('colab-df-spinner');\n",
              "      quickchartButtonEl.classList.add('colab-df-quickchart-complete');\n",
              "    }\n",
              "    (() => {\n",
              "      let quickchartButtonEl =\n",
              "        document.querySelector('#df-3f477475-67bd-4f68-8921-3ccd34be2cee button');\n",
              "      quickchartButtonEl.style.display =\n",
              "        google.colab.kernel.accessAllowed ? 'block' : 'none';\n",
              "    })();\n",
              "  </script>\n",
              "</div>\n",
              "\n",
              "    </div>\n",
              "  </div>\n"
            ],
            "application/vnd.google.colaboratory.intrinsic+json": {
              "type": "dataframe",
              "variable_name": "train"
            }
          },
          "metadata": {},
          "execution_count": 74
        }
      ]
    },
    {
      "cell_type": "code",
      "source": [
        "import matplotlib.pyplot as plt\n",
        "fig, ax= plt.subplots(ncols=4, nrows= 4, figsize= (10,10))\n",
        "for i, ax in enumerate(ax.flatten()):  #to flatten 4x4 into 0-15\n",
        "  img= train.iloc[i, 1:].values.reshape(28,28)\n",
        "  ax.imshow(img, cmap= 'grey')\n",
        "  ax.axis('off')\n",
        "  ax.set_title(train.iloc[i,0])\n",
        "plt.tight_layout()\n",
        "plt.show()"
      ],
      "metadata": {
        "colab": {
          "base_uri": "https://localhost:8080/",
          "height": 1000
        },
        "id": "g1CDaxULrgKz",
        "outputId": "2ad142b2-3027-4402-f5e1-a65d3e2c9d9d"
      },
      "execution_count": 75,
      "outputs": [
        {
          "output_type": "display_data",
          "data": {
            "text/plain": [
              "<Figure size 1000x1000 with 16 Axes>"
            ],
            "image/png": "[encoded data removed]"
          },
          "metadata": {}
        }
      ]
    },
    {
      "cell_type": "code",
      "source": [
        "X_train= train.iloc[:, 1:].values   # to get values not the df\n",
        "Y_train= train.iloc[:, 0 ].values\n",
        "\n",
        "X_test= test.iloc[:, 1:].values   # to get values not the df\n",
        "Y_test= test.iloc[:, 0 ].values"
      ],
      "metadata": {
        "id": "Lx1IV5bbrlX5"
      },
      "execution_count": 76,
      "outputs": []
    },
    {
      "cell_type": "code",
      "source": [
        "#scaling\n",
        "\n",
        "X_train_scaled= X_train/255\n",
        "X_test_scaled = X_test/255"
      ],
      "metadata": {
        "id": "CNfNwfymuMi5"
      },
      "execution_count": 77,
      "outputs": []
    },
    {
      "cell_type": "code",
      "source": [
        "from torch.utils.data import DataLoader, Dataset\n",
        "import torch.optim as optim"
      ],
      "metadata": {
        "id": "gF15fBvIu_Mb"
      },
      "execution_count": 78,
      "outputs": []
    },
    {
      "cell_type": "code",
      "source": [
        "#custom dataset\n",
        "class customdataset(Dataset):\n",
        "  def __init__(self, features, label):\n",
        "    self.features= torch.tensor(features, dtype =torch.float32)\n",
        "    self.label   = torch.tensor(label   , dtype =torch.long)\n",
        "  def __len__(self):\n",
        "    return len(self.features)\n",
        "  def __getitem__(self, index):\n",
        "    return self.features[index], self.label[index]"
      ],
      "metadata": {
        "id": "o9167PFBvAXg"
      },
      "execution_count": 79,
      "outputs": []
    },
    {
      "cell_type": "code",
      "source": [
        "#dataset\n",
        "train_dataset= customdataset(X_train_scaled, Y_train)\n",
        "test_dataset = customdataset(X_test_scaled , Y_test)"
      ],
      "metadata": {
        "id": "2GTU1QjixSoi"
      },
      "execution_count": 80,
      "outputs": []
    },
    {
      "cell_type": "code",
      "source": [
        "\n"
      ],
      "metadata": {
        "id": "c135gYCl69F9"
      },
      "execution_count": 80,
      "outputs": []
    },
    {
      "cell_type": "code",
      "source": [
        "train_dataset\n",
        "len(train_dataset)"
      ],
      "metadata": {
        "colab": {
          "base_uri": "https://localhost:8080/"
        },
        "id": "5yj30dk2xfad",
        "outputId": "08d79e2d-e939-4cb6-fc5a-bfe465f0ecea"
      },
      "execution_count": 81,
      "outputs": [
        {
          "output_type": "execute_result",
          "data": {
            "text/plain": [
              "60000"
            ]
          },
          "metadata": {},
          "execution_count": 81
        }
      ]
    },
    {
      "cell_type": "markdown",
      "source": [
        "**hyperparameter**"
      ],
      "metadata": {
        "id": "QzIFjvSHxweS"
      }
    },
    {
      "cell_type": "code",
      "source": [
        "#model\n",
        "class mymodelnn(nn.Module):\n",
        "  def __init__(self, input_dim, output_dim ,num_hidden_layers, neurons_perlayer, dropout_rate):\n",
        "    super().__init__()\n",
        "\n",
        "    layers= [] #dynamic list to store layers and dropouts\n",
        "    for i in range(num_hidden_layers):\n",
        "      layers.append(nn.Linear(input_dim, neurons_perlayer))            #784, 128 initially\n",
        "      #batch_norm\n",
        "      layers.append(nn.BatchNorm1d(neurons_perlayer))\n",
        "      #activation\n",
        "      layers.append(nn.ReLU())\n",
        "      #dropout\n",
        "      layers.append(nn.Dropout(dropout_rate))\n",
        "      input_dim= neurons_perlayer\n",
        "\n",
        "    layers.append(nn.Linear(neurons_perlayer, output_dim))\n",
        "\n",
        "    #model\n",
        "    self.model = nn.Sequential(*layers)       #unpack of layers\n",
        "\n",
        "  def forward(self, x):\n",
        "    return self.model(x)"
      ],
      "metadata": {
        "id": "KJ4O9mi507xo"
      },
      "execution_count": 82,
      "outputs": []
    },
    {
      "cell_type": "code",
      "source": [
        "def objective(trial):\n",
        "  #search space parameters\n",
        "  num_hidden_layers= trial.suggest_int('num_hidden_layers' ,1,5)\n",
        "  neurons_perlayer = trial.suggest_int('neurons_perlayer'  ,1,128, step= 8)\n",
        "\n",
        "  epochs           = trial.suggest_int(\"epochs\", 10,50, step=10)\n",
        "  learning_rate    = trial.suggest_float(\"learning_rate\", 1e-5, 1e-1 ,log= True)\n",
        "  dropout_rate     = trial.suggest_float(\"dropout_rate\", 0.1, 0.7 ,step= 0.1)\n",
        "  batch_size       = trial.suggest_categorical(\"batch_size\", [16,32,64,128])\n",
        "  optimizer_name   = trial.suggest_categorical(\"optimizer_name\", ['Adam' ,'SGD', 'RMSprop'])\n",
        "  weight_decay     = trial.suggest_float(\"weight_decay\", 1e-5, 1e-3 ,log= True)\n",
        "\n",
        "  #create datalodaer\n",
        "  train_dataloader= DataLoader(train_dataset, batch_size= batch_size, shuffle=True, pin_memory=True)\n",
        "  test_dataloader = DataLoader(test_dataset , batch_size= batch_size, shuffle=False,pin_memory=True)   #prediction needs constant data\n",
        "\n",
        "  #model init\n",
        "  input_dim = 784\n",
        "  output_dim= 10   #10 labels\n",
        "  model= mymodelnn(input_dim, output_dim,num_hidden_layers, neurons_perlayer ,dropout_rate)\n",
        "  #MOVE TO GPU\n",
        "  model.to(device)\n",
        "\n",
        "  #parameters init\n",
        "                #learning_rate= 0.01\n",
        "                #epochs= 50\n",
        "\n",
        "\n",
        "  #optimizer init\n",
        "  loss_= nn.CrossEntropyLoss()\n",
        "            #optimizer= optim.SGD(model.parameters(), lr= 0.1, weight_decay= 1e-4)\n",
        "\n",
        "\n",
        "  if optimizer_name=='Adam':\n",
        "    optimizer= optim.Adam(      model.parameters(),     lr= learning_rate,    weight_decay= weight_decay)\n",
        "\n",
        "  elif optimizer_name=='SGD':\n",
        "    optimizer= optim.SGD(       model.parameters(),     lr= learning_rate,    weight_decay= weight_decay)\n",
        "\n",
        "  else:\n",
        "    optimizer= optim.RMSprop(   model.parameters(),     lr= learning_rate,    weight_decay= weight_decay)\n",
        "\n",
        "  #train loop\n",
        "  for epoch in range(epochs):\n",
        "    total_epoch_loss= 0\n",
        "    for batch_features, batch_labels in train_dataloader:\n",
        "      #MOVE TO GPU\n",
        "      batch_features, batch_labels = batch_features.to(device), batch_labels.to(device)\n",
        "      output= model(batch_features)\n",
        "\n",
        "      loss= loss_(output, batch_labels)\n",
        "\n",
        "      optimizer.zero_grad()\n",
        "      loss.backward()\n",
        "      optimizer.step()\n",
        "\n",
        "      #total_epoch_loss= total_epoch_loss+loss.item()\n",
        "\n",
        "    #avg_loss= total_epoch_loss/len(train_dataloader)\n",
        "    #print(f'epoch: {epoch+1}, loss: {avg_loss}')\n",
        "\n",
        "  #eval loop\n",
        "  model.eval()\n",
        "  total= 0\n",
        "  correct= 0\n",
        "  with torch.no_grad():\n",
        "    for batch_features, batch_labels in test_dataloader:\n",
        "      #MOVE TO GPU\n",
        "      batch_features, batch_labels = batch_features.to(device), batch_labels.to(device)\n",
        "      output= model(batch_features)\n",
        "\n",
        "      _, predicted= torch.max(output, 1)\n",
        "      total+=batch_labels.shape[0]\n",
        "      correct+=(predicted == batch_labels).sum().item()\n",
        "    accuracy = correct/total\n",
        "\n",
        "  return accuracy"
      ],
      "metadata": {
        "id": "gGv0iFF3xgfm"
      },
      "execution_count": 91,
      "outputs": []
    },
    {
      "cell_type": "code",
      "source": [
        "!pip install optuna"
      ],
      "metadata": {
        "colab": {
          "base_uri": "https://localhost:8080/"
        },
        "id": "eA1_6wwX7w8B",
        "outputId": "2d6bf124-f2b3-4e84-a14c-864a33118829"
      },
      "execution_count": 88,
      "outputs": [
        {
          "output_type": "stream",
          "name": "stdout",
          "text": [
            "Requirement already satisfied: optuna in /usr/local/lib/python3.11/dist-packages (4.1.0)\n",
            "Requirement already satisfied: alembic>=1.5.0 in /usr/local/lib/python3.11/dist-packages (from optuna) (1.14.0)\n",
            "Requirement already satisfied: colorlog in /usr/local/lib/python3.11/dist-packages (from optuna) (6.9.0)\n",
            "Requirement already satisfied: numpy in /usr/local/lib/python3.11/dist-packages (from optuna) (1.26.4)\n",
            "Requirement already satisfied: packaging>=20.0 in /usr/local/lib/python3.11/dist-packages (from optuna) (24.2)\n",
            "Requirement already satisfied: sqlalchemy>=1.4.2 in /usr/local/lib/python3.11/dist-packages (from optuna) (2.0.37)\n",
            "Requirement already satisfied: tqdm in /usr/local/lib/python3.11/dist-packages (from optuna) (4.67.1)\n",
            "Requirement already satisfied: PyYAML in /usr/local/lib/python3.11/dist-packages (from optuna) (6.0.2)\n",
            "Requirement already satisfied: Mako in /usr/local/lib/python3.11/dist-packages (from alembic>=1.5.0->optuna) (1.3.8)\n",
            "Requirement already satisfied: typing-extensions>=4 in /usr/local/lib/python3.11/dist-packages (from alembic>=1.5.0->optuna) (4.12.2)\n",
            "Requirement already satisfied: greenlet!=0.4.17 in /usr/local/lib/python3.11/dist-packages (from sqlalchemy>=1.4.2->optuna) (3.1.1)\n",
            "Requirement already satisfied: MarkupSafe>=0.9.2 in /usr/local/lib/python3.11/dist-packages (from Mako->alembic>=1.5.0->optuna) (3.0.2)\n"
          ]
        }
      ]
    },
    {
      "cell_type": "code",
      "source": [
        "import optuna\n",
        "import warnings\n",
        "#warnings.filterwarnings('ignore')"
      ],
      "metadata": {
        "id": "S4vLumtJ70GS"
      },
      "execution_count": 89,
      "outputs": []
    },
    {
      "cell_type": "code",
      "source": [
        "#study\n",
        "study= optuna.create_study(direction='maximize')\n",
        "study.optimize(objective, n_trials= 50)"
      ],
      "metadata": {
        "colab": {
          "base_uri": "https://localhost:8080/"
        },
        "id": "E02kHj2W74Hu",
        "outputId": "ead9f935-2fdc-4456-ca32-021ec4cd07aa"
      },
      "execution_count": 92,
      "outputs": [
        {
          "output_type": "stream",
          "name": "stderr",
          "text": [
            "[I 2025-01-19 15:07:21,289] A new study created in memory with name: no-name-bdbb014f-f80f-4960-a8de-d0603d9d8b42\n",
            "[I 2025-01-19 15:09:42,296] Trial 0 finished with value: 0.8327 and parameters: {'num_hidden_layers': 3, 'neurons_perlayer': 41, 'epochs': 40, 'learning_rate': 0.00025270243661029105, 'dropout_rate': 0.2, 'batch_size': 64, 'optimizer_name': 'SGD', 'weight_decay': 1.846896548965683e-05}. Best is trial 0 with value: 0.8327.\n",
            "[I 2025-01-19 15:12:30,433] Trial 1 finished with value: 0.7429 and parameters: {'num_hidden_layers': 4, 'neurons_perlayer': 41, 'epochs': 40, 'learning_rate': 2.538177881327587e-05, 'dropout_rate': 0.5, 'batch_size': 64, 'optimizer_name': 'Adam', 'weight_decay': 1.316175714432329e-05}. Best is trial 0 with value: 0.8327.\n",
            "[I 2025-01-19 15:13:29,550] Trial 2 finished with value: 0.8858 and parameters: {'num_hidden_layers': 1, 'neurons_perlayer': 121, 'epochs': 20, 'learning_rate': 0.00011356234217079464, 'dropout_rate': 0.4, 'batch_size': 64, 'optimizer_name': 'Adam', 'weight_decay': 0.00011948007735543667}. Best is trial 2 with value: 0.8858.\n",
            "[I 2025-01-19 15:15:32,961] Trial 3 finished with value: 0.4411 and parameters: {'num_hidden_layers': 4, 'neurons_perlayer': 17, 'epochs': 30, 'learning_rate': 0.001505003488786403, 'dropout_rate': 0.6, 'batch_size': 64, 'optimizer_name': 'RMSprop', 'weight_decay': 9.285686913943205e-05}. Best is trial 2 with value: 0.8858.\n",
            "[I 2025-01-19 15:20:09,880] Trial 4 finished with value: 0.8797 and parameters: {'num_hidden_layers': 4, 'neurons_perlayer': 113, 'epochs': 40, 'learning_rate': 1.5420751011770406e-05, 'dropout_rate': 0.30000000000000004, 'batch_size': 32, 'optimizer_name': 'RMSprop', 'weight_decay': 2.9240225809297223e-05}. Best is trial 2 with value: 0.8858.\n",
            "[I 2025-01-19 15:22:49,619] Trial 5 finished with value: 0.6844 and parameters: {'num_hidden_layers': 2, 'neurons_perlayer': 57, 'epochs': 30, 'learning_rate': 0.051624545592210226, 'dropout_rate': 0.2, 'batch_size': 32, 'optimizer_name': 'RMSprop', 'weight_decay': 0.0008583836200934433}. Best is trial 2 with value: 0.8858.\n",
            "[I 2025-01-19 15:28:00,022] Trial 6 finished with value: 0.8731 and parameters: {'num_hidden_layers': 1, 'neurons_perlayer': 97, 'epochs': 40, 'learning_rate': 0.002356725231102581, 'dropout_rate': 0.1, 'batch_size': 16, 'optimizer_name': 'Adam', 'weight_decay': 0.0001092594435947029}. Best is trial 2 with value: 0.8858.\n",
            "[I 2025-01-19 15:31:44,213] Trial 7 finished with value: 0.8188 and parameters: {'num_hidden_layers': 5, 'neurons_perlayer': 121, 'epochs': 50, 'learning_rate': 0.00790152797150893, 'dropout_rate': 0.5, 'batch_size': 64, 'optimizer_name': 'RMSprop', 'weight_decay': 8.24935388861613e-05}. Best is trial 2 with value: 0.8858.\n",
            "[I 2025-01-19 15:33:27,223] Trial 8 finished with value: 0.8815 and parameters: {'num_hidden_layers': 1, 'neurons_perlayer': 89, 'epochs': 50, 'learning_rate': 0.0060632144918499565, 'dropout_rate': 0.2, 'batch_size': 128, 'optimizer_name': 'RMSprop', 'weight_decay': 4.5459847265404774e-05}. Best is trial 2 with value: 0.8858.\n",
            "[I 2025-01-19 15:35:35,533] Trial 9 finished with value: 0.6361 and parameters: {'num_hidden_layers': 4, 'neurons_perlayer': 41, 'epochs': 50, 'learning_rate': 7.229583088995158e-05, 'dropout_rate': 0.2, 'batch_size': 128, 'optimizer_name': 'SGD', 'weight_decay': 5.678016441114397e-05}. Best is trial 2 with value: 0.8858.\n",
            "[I 2025-01-19 15:37:09,715] Trial 10 finished with value: 0.8408 and parameters: {'num_hidden_layers': 2, 'neurons_perlayer': 81, 'epochs': 10, 'learning_rate': 0.0002720063818915962, 'dropout_rate': 0.7, 'batch_size': 16, 'optimizer_name': 'Adam', 'weight_decay': 0.0002677721107312376}. Best is trial 2 with value: 0.8858.\n",
            "[I 2025-01-19 15:37:30,848] Trial 11 finished with value: 0.8185 and parameters: {'num_hidden_layers': 1, 'neurons_perlayer': 89, 'epochs': 10, 'learning_rate': 0.013613731102169053, 'dropout_rate': 0.4, 'batch_size': 128, 'optimizer_name': 'Adam', 'weight_decay': 0.00020425574174407003}. Best is trial 2 with value: 0.8858.\n",
            "[I 2025-01-19 15:38:12,123] Trial 12 finished with value: 0.8797 and parameters: {'num_hidden_layers': 1, 'neurons_perlayer': 105, 'epochs': 20, 'learning_rate': 0.0003100420218408843, 'dropout_rate': 0.4, 'batch_size': 128, 'optimizer_name': 'RMSprop', 'weight_decay': 3.3629644762094246e-05}. Best is trial 2 with value: 0.8858.\n",
            "[I 2025-01-19 15:38:58,483] Trial 13 finished with value: 0.8644 and parameters: {'num_hidden_layers': 2, 'neurons_perlayer': 73, 'epochs': 20, 'learning_rate': 0.004614974748818491, 'dropout_rate': 0.30000000000000004, 'batch_size': 128, 'optimizer_name': 'Adam', 'weight_decay': 0.00023371956630383845}. Best is trial 2 with value: 0.8858.\n",
            "[I 2025-01-19 15:39:52,654] Trial 14 finished with value: 0.8797 and parameters: {'num_hidden_layers': 1, 'neurons_perlayer': 121, 'epochs': 20, 'learning_rate': 0.07832782423509996, 'dropout_rate': 0.1, 'batch_size': 64, 'optimizer_name': 'SGD', 'weight_decay': 0.0006358337123304556}. Best is trial 2 with value: 0.8858.\n",
            "[I 2025-01-19 15:41:01,059] Trial 15 finished with value: 0.8954 and parameters: {'num_hidden_layers': 2, 'neurons_perlayer': 97, 'epochs': 30, 'learning_rate': 0.0006550290033136984, 'dropout_rate': 0.30000000000000004, 'batch_size': 128, 'optimizer_name': 'RMSprop', 'weight_decay': 4.9111741130756786e-05}. Best is trial 15 with value: 0.8954.\n",
            "[I 2025-01-19 15:45:44,883] Trial 16 finished with value: 0.8775 and parameters: {'num_hidden_layers': 2, 'neurons_perlayer': 105, 'epochs': 30, 'learning_rate': 9.784869319502292e-05, 'dropout_rate': 0.5, 'batch_size': 16, 'optimizer_name': 'Adam', 'weight_decay': 0.00016289242319414776}. Best is trial 15 with value: 0.8954.\n",
            "[I 2025-01-19 15:47:32,969] Trial 17 finished with value: 0.8794 and parameters: {'num_hidden_layers': 2, 'neurons_perlayer': 73, 'epochs': 20, 'learning_rate': 0.0006783341641182259, 'dropout_rate': 0.30000000000000004, 'batch_size': 32, 'optimizer_name': 'Adam', 'weight_decay': 0.00041765114130329394}. Best is trial 15 with value: 0.8954.\n",
            "[I 2025-01-19 15:47:57,545] Trial 18 finished with value: 0.8664 and parameters: {'num_hidden_layers': 3, 'neurons_perlayer': 121, 'epochs': 10, 'learning_rate': 6.131238054334301e-05, 'dropout_rate': 0.4, 'batch_size': 128, 'optimizer_name': 'RMSprop', 'weight_decay': 6.204899845183059e-05}. Best is trial 15 with value: 0.8954.\n",
            "[I 2025-01-19 15:49:07,727] Trial 19 finished with value: 0.3608 and parameters: {'num_hidden_layers': 3, 'neurons_perlayer': 9, 'epochs': 20, 'learning_rate': 0.0007858084553824068, 'dropout_rate': 0.6, 'batch_size': 64, 'optimizer_name': 'SGD', 'weight_decay': 0.0001301180100169824}. Best is trial 15 with value: 0.8954.\n",
            "[I 2025-01-19 15:50:15,847] Trial 20 finished with value: 0.8633 and parameters: {'num_hidden_layers': 2, 'neurons_perlayer': 105, 'epochs': 30, 'learning_rate': 1.027627904700899e-05, 'dropout_rate': 0.30000000000000004, 'batch_size': 128, 'optimizer_name': 'RMSprop', 'weight_decay': 2.321768156007486e-05}. Best is trial 15 with value: 0.8954.\n",
            "[I 2025-01-19 15:51:57,327] Trial 21 finished with value: 0.8468 and parameters: {'num_hidden_layers': 1, 'neurons_perlayer': 89, 'epochs': 50, 'learning_rate': 0.032722946894539806, 'dropout_rate': 0.2, 'batch_size': 128, 'optimizer_name': 'RMSprop', 'weight_decay': 4.6389743981763924e-05}. Best is trial 15 with value: 0.8954.\n",
            "[I 2025-01-19 15:52:58,618] Trial 22 finished with value: 0.8822 and parameters: {'num_hidden_layers': 1, 'neurons_perlayer': 65, 'epochs': 30, 'learning_rate': 0.0033532558188465746, 'dropout_rate': 0.30000000000000004, 'batch_size': 128, 'optimizer_name': 'RMSprop', 'weight_decay': 4.081587507420714e-05}. Best is trial 15 with value: 0.8954.\n",
            "[I 2025-01-19 15:54:00,525] Trial 23 finished with value: 0.878 and parameters: {'num_hidden_layers': 1, 'neurons_perlayer': 57, 'epochs': 30, 'learning_rate': 0.002602788220652887, 'dropout_rate': 0.30000000000000004, 'batch_size': 128, 'optimizer_name': 'RMSprop', 'weight_decay': 1.0105241922467436e-05}. Best is trial 15 with value: 0.8954.\n",
            "[I 2025-01-19 15:55:07,973] Trial 24 finished with value: 0.8818 and parameters: {'num_hidden_layers': 2, 'neurons_perlayer': 65, 'epochs': 30, 'learning_rate': 0.0004867685476538058, 'dropout_rate': 0.4, 'batch_size': 128, 'optimizer_name': 'RMSprop', 'weight_decay': 7.469469121845323e-05}. Best is trial 15 with value: 0.8954.\n",
            "[I 2025-01-19 15:56:06,253] Trial 25 finished with value: 0.8528 and parameters: {'num_hidden_layers': 1, 'neurons_perlayer': 25, 'epochs': 20, 'learning_rate': 0.0001535378507411171, 'dropout_rate': 0.5, 'batch_size': 64, 'optimizer_name': 'Adam', 'weight_decay': 3.846934428378061e-05}. Best is trial 15 with value: 0.8954.\n",
            "[I 2025-01-19 15:58:44,046] Trial 26 finished with value: 0.8853 and parameters: {'num_hidden_layers': 2, 'neurons_perlayer': 97, 'epochs': 30, 'learning_rate': 3.17360232467969e-05, 'dropout_rate': 0.30000000000000004, 'batch_size': 32, 'optimizer_name': 'RMSprop', 'weight_decay': 1.88097360354763e-05}. Best is trial 15 with value: 0.8954.\n",
            "[I 2025-01-19 16:02:47,748] Trial 27 finished with value: 0.8835 and parameters: {'num_hidden_layers': 3, 'neurons_perlayer': 113, 'epochs': 40, 'learning_rate': 3.5155910584903105e-05, 'dropout_rate': 0.4, 'batch_size': 32, 'optimizer_name': 'RMSprop', 'weight_decay': 1.9884677543630648e-05}. Best is trial 15 with value: 0.8954.\n",
            "[I 2025-01-19 16:04:27,102] Trial 28 finished with value: 0.6881 and parameters: {'num_hidden_layers': 2, 'neurons_perlayer': 97, 'epochs': 20, 'learning_rate': 3.655112572406446e-05, 'dropout_rate': 0.6, 'batch_size': 32, 'optimizer_name': 'SGD', 'weight_decay': 1.4425549617869862e-05}. Best is trial 15 with value: 0.8954.\n",
            "[I 2025-01-19 16:08:37,345] Trial 29 finished with value: 0.9023 and parameters: {'num_hidden_layers': 3, 'neurons_perlayer': 113, 'epochs': 40, 'learning_rate': 0.00014995363526038364, 'dropout_rate': 0.2, 'batch_size': 32, 'optimizer_name': 'Adam', 'weight_decay': 2.7113074573527705e-05}. Best is trial 29 with value: 0.9023.\n",
            "[I 2025-01-19 16:12:47,340] Trial 30 finished with value: 0.9028 and parameters: {'num_hidden_layers': 3, 'neurons_perlayer': 113, 'epochs': 40, 'learning_rate': 0.000154292894517508, 'dropout_rate': 0.1, 'batch_size': 32, 'optimizer_name': 'Adam', 'weight_decay': 0.0003196938275174333}. Best is trial 30 with value: 0.9028.\n",
            "[I 2025-01-19 16:16:55,742] Trial 31 finished with value: 0.899 and parameters: {'num_hidden_layers': 3, 'neurons_perlayer': 113, 'epochs': 40, 'learning_rate': 0.00016140730082436037, 'dropout_rate': 0.1, 'batch_size': 32, 'optimizer_name': 'Adam', 'weight_decay': 0.00035583965796284024}. Best is trial 30 with value: 0.9028.\n",
            "[I 2025-01-19 16:21:05,085] Trial 32 finished with value: 0.8978 and parameters: {'num_hidden_layers': 3, 'neurons_perlayer': 113, 'epochs': 40, 'learning_rate': 0.0001913733516627741, 'dropout_rate': 0.1, 'batch_size': 32, 'optimizer_name': 'Adam', 'weight_decay': 0.0004409519484166384}. Best is trial 30 with value: 0.9028.\n",
            "[I 2025-01-19 16:25:14,476] Trial 33 finished with value: 0.9011 and parameters: {'num_hidden_layers': 3, 'neurons_perlayer': 113, 'epochs': 40, 'learning_rate': 0.0001479889086878954, 'dropout_rate': 0.1, 'batch_size': 32, 'optimizer_name': 'Adam', 'weight_decay': 0.00046442421540760545}. Best is trial 30 with value: 0.9028.\n",
            "[I 2025-01-19 16:29:22,841] Trial 34 finished with value: 0.9003 and parameters: {'num_hidden_layers': 3, 'neurons_perlayer': 113, 'epochs': 40, 'learning_rate': 0.00032780643589932877, 'dropout_rate': 0.1, 'batch_size': 32, 'optimizer_name': 'Adam', 'weight_decay': 0.00035546189577277015}. Best is trial 30 with value: 0.9028.\n",
            "[I 2025-01-19 16:34:03,915] Trial 35 finished with value: 0.8989 and parameters: {'num_hidden_layers': 4, 'neurons_perlayer': 105, 'epochs': 40, 'learning_rate': 0.00032877525511285533, 'dropout_rate': 0.1, 'batch_size': 32, 'optimizer_name': 'Adam', 'weight_decay': 0.0006333660694477324}. Best is trial 30 with value: 0.9028.\n",
            "[I 2025-01-19 16:38:12,169] Trial 36 finished with value: 0.8824 and parameters: {'num_hidden_layers': 3, 'neurons_perlayer': 121, 'epochs': 40, 'learning_rate': 0.0012066556297553727, 'dropout_rate': 0.2, 'batch_size': 32, 'optimizer_name': 'Adam', 'weight_decay': 0.00031060596337534075}. Best is trial 30 with value: 0.9028.\n",
            "[I 2025-01-19 16:44:04,066] Trial 37 finished with value: 0.9022 and parameters: {'num_hidden_layers': 4, 'neurons_perlayer': 113, 'epochs': 50, 'learning_rate': 6.341112116047794e-05, 'dropout_rate': 0.1, 'batch_size': 32, 'optimizer_name': 'Adam', 'weight_decay': 0.0009815999279589032}. Best is trial 30 with value: 0.9028.\n",
            "[I 2025-01-19 16:50:35,383] Trial 38 finished with value: 0.8986 and parameters: {'num_hidden_layers': 5, 'neurons_perlayer': 81, 'epochs': 50, 'learning_rate': 6.167543883789085e-05, 'dropout_rate': 0.1, 'batch_size': 32, 'optimizer_name': 'Adam', 'weight_decay': 0.0009742735829547483}. Best is trial 30 with value: 0.9028.\n",
            "[I 2025-01-19 16:56:28,003] Trial 39 finished with value: 0.8893 and parameters: {'num_hidden_layers': 4, 'neurons_perlayer': 105, 'epochs': 50, 'learning_rate': 1.7911261726631136e-05, 'dropout_rate': 0.2, 'batch_size': 32, 'optimizer_name': 'Adam', 'weight_decay': 0.0007260662697959159}. Best is trial 30 with value: 0.9028.\n",
            "[I 2025-01-19 17:02:20,755] Trial 40 finished with value: 0.8762 and parameters: {'num_hidden_layers': 4, 'neurons_perlayer': 33, 'epochs': 50, 'learning_rate': 0.00011508940131323116, 'dropout_rate': 0.2, 'batch_size': 32, 'optimizer_name': 'Adam', 'weight_decay': 0.00045008403473643146}. Best is trial 30 with value: 0.9028.\n",
            "[I 2025-01-19 17:06:29,135] Trial 41 finished with value: 0.8966 and parameters: {'num_hidden_layers': 3, 'neurons_perlayer': 113, 'epochs': 40, 'learning_rate': 0.0004876049722695321, 'dropout_rate': 0.1, 'batch_size': 32, 'optimizer_name': 'Adam', 'weight_decay': 0.0005477033579250704}. Best is trial 30 with value: 0.9028.\n",
            "[I 2025-01-19 17:10:37,686] Trial 42 finished with value: 0.8985 and parameters: {'num_hidden_layers': 3, 'neurons_perlayer': 113, 'epochs': 40, 'learning_rate': 9.887076834553855e-05, 'dropout_rate': 0.1, 'batch_size': 32, 'optimizer_name': 'Adam', 'weight_decay': 0.0008223504164334184}. Best is trial 30 with value: 0.9028.\n",
            "[I 2025-01-19 17:15:48,977] Trial 43 finished with value: 0.9045 and parameters: {'num_hidden_layers': 3, 'neurons_perlayer': 121, 'epochs': 50, 'learning_rate': 0.0002204656367006667, 'dropout_rate': 0.1, 'batch_size': 32, 'optimizer_name': 'Adam', 'weight_decay': 0.00017508314825707586}. Best is trial 43 with value: 0.9045.\n",
            "[I 2025-01-19 17:21:44,141] Trial 44 finished with value: 0.9013 and parameters: {'num_hidden_layers': 4, 'neurons_perlayer': 121, 'epochs': 50, 'learning_rate': 4.5830377909124844e-05, 'dropout_rate': 0.2, 'batch_size': 32, 'optimizer_name': 'Adam', 'weight_decay': 0.0001757817212584191}. Best is trial 43 with value: 0.9045.\n",
            "[I 2025-01-19 17:27:52,451] Trial 45 finished with value: 0.9017 and parameters: {'num_hidden_layers': 4, 'neurons_perlayer': 121, 'epochs': 50, 'learning_rate': 5.2448555423115734e-05, 'dropout_rate': 0.2, 'batch_size': 32, 'optimizer_name': 'Adam', 'weight_decay': 0.00016949135140265428}. Best is trial 43 with value: 0.9045.\n",
            "[I 2025-01-19 17:39:04,774] Trial 46 finished with value: 0.8934 and parameters: {'num_hidden_layers': 4, 'neurons_perlayer': 121, 'epochs': 50, 'learning_rate': 1.7770567734198884e-05, 'dropout_rate': 0.2, 'batch_size': 16, 'optimizer_name': 'Adam', 'weight_decay': 0.00012991223864273273}. Best is trial 43 with value: 0.9045.\n",
            "[I 2025-01-19 17:46:00,062] Trial 47 finished with value: 0.8994 and parameters: {'num_hidden_layers': 5, 'neurons_perlayer': 97, 'epochs': 50, 'learning_rate': 0.00022514759597582414, 'dropout_rate': 0.2, 'batch_size': 32, 'optimizer_name': 'Adam', 'weight_decay': 0.00010178013987963903}. Best is trial 43 with value: 0.9045.\n",
            "[I 2025-01-19 17:52:13,281] Trial 48 finished with value: 0.9001 and parameters: {'num_hidden_layers': 4, 'neurons_perlayer': 105, 'epochs': 50, 'learning_rate': 7.400250171552233e-05, 'dropout_rate': 0.1, 'batch_size': 32, 'optimizer_name': 'Adam', 'weight_decay': 0.0002527713825571722}. Best is trial 43 with value: 0.9045.\n",
            "[I 2025-01-19 18:02:29,044] Trial 49 finished with value: 0.8039 and parameters: {'num_hidden_layers': 4, 'neurons_perlayer': 49, 'epochs': 50, 'learning_rate': 2.210072491935854e-05, 'dropout_rate': 0.1, 'batch_size': 16, 'optimizer_name': 'SGD', 'weight_decay': 0.00016447301287215044}. Best is trial 43 with value: 0.9045.\n"
          ]
        }
      ]
    },
    {
      "cell_type": "code",
      "source": [
        "study.best_value, study.best_params"
      ],
      "metadata": {
        "colab": {
          "base_uri": "https://localhost:8080/"
        },
        "id": "qwO2nmAH8LHH",
        "outputId": "80080a22-d7a4-442b-c9ed-9ad44941800c"
      },
      "execution_count": 93,
      "outputs": [
        {
          "output_type": "execute_result",
          "data": {
            "text/plain": [
              "(0.9045,\n",
              " {'num_hidden_layers': 3,\n",
              "  'neurons_perlayer': 121,\n",
              "  'epochs': 50,\n",
              "  'learning_rate': 0.0002204656367006667,\n",
              "  'dropout_rate': 0.1,\n",
              "  'batch_size': 32,\n",
              "  'optimizer_name': 'Adam',\n",
              "  'weight_decay': 0.00017508314825707586})"
            ]
          },
          "metadata": {},
          "execution_count": 93
        }
      ]
    },
    {
      "cell_type": "code",
      "source": [
        "from optuna.visualization import plot_parallel_coordinate\n",
        "plot_parallel_coordinate(study).show()"
      ],
      "metadata": {
        "colab": {
          "base_uri": "https://localhost:8080/",
          "height": 542
        },
        "id": "j-RNgJPhDMTT",
        "outputId": "a4ee7cf8-c4a5-43cf-f536-a8c5d820c295"
      },
      "execution_count": 94,
      "outputs": [
        {
          "output_type": "display_data",
          "data": {
            "text/html": [
              "<html>\n",
              "<head><meta charset=\"utf-8\" /></head>\n",
              "<body>\n",
              "    <div>            <script src=\"https://cdnjs.cloudflare.com/ajax/libs/mathjax/2.7.5/MathJax.js?config=TeX-AMS-MML_SVG\"></script><script type=\"text/javascript\">if (window.MathJax && window.MathJax.Hub && window.MathJax.Hub.Config) {window.MathJax.Hub.Config({SVG: {font: \"STIX-Web\"}});}</script>                <script type=\"text/javascript\">window.PlotlyConfig = {MathJaxConfig: 'local'};</script>\n",
              "        <script charset=\"utf-8\" src=\"https://cdn.plot.ly/plotly-2.35.2.min.js\"></script>                <div id=\"75a08c1a-e046-4568-aec4-e8abd007b1f3\" class=\"plotly-graph-div\" style=\"height:525px; width:100%;\"></div>            <script type=\"text/javascript\">                                    window.PLOTLYENV=window.PLOTLYENV || {};                                    if (document.getElementById(\"75a08c1a-e046-4568-aec4-e8abd007b1f3\")) {                    Plotly.newPlot(                        \"75a08c1a-e046-4568-aec4-e8abd007b1f3\",                        [{\"dimensions\":[{\"label\":\"Objective Value\",\"range\":[0.3608,0.9045],\"values\":[0.8731,0.8408,0.8775,0.8934,0.8039,0.8797,0.6844,0.8794,0.8853,0.8835,0.6881,0.9023,0.9028,0.899,0.8978,0.9011,0.9003,0.8989,0.8824,0.9022,0.8986,0.8893,0.8762,0.8966,0.8985,0.9045,0.9013,0.9017,0.8994,0.9001,0.8327,0.7429,0.8858,0.4411,0.8188,0.8797,0.3608,0.8528,0.8815,0.6361,0.8185,0.8797,0.8644,0.8954,0.8664,0.8633,0.8468,0.8822,0.878,0.8818]},{\"label\":\"batch_size\",\"range\":[0,3],\"ticktext\":[\"16\",\"32\",\"64\",\"128\"],\"tickvals\":[0,1,2,3],\"values\":[0,0,0,0,0,1,1,1,1,1,1,1,1,1,1,1,1,1,1,1,1,1,1,1,1,1,1,1,1,1,2,2,2,2,2,2,2,2,3,3,3,3,3,3,3,3,3,3,3,3]},{\"label\":\"dropout_rate\",\"range\":[0.1,0.7],\"values\":[0.1,0.7,0.5,0.2,0.1,0.30000000000000004,0.2,0.30000000000000004,0.30000000000000004,0.4,0.6,0.2,0.1,0.1,0.1,0.1,0.1,0.1,0.2,0.1,0.1,0.2,0.2,0.1,0.1,0.1,0.2,0.2,0.2,0.1,0.2,0.5,0.4,0.6,0.5,0.1,0.6,0.5,0.2,0.2,0.4,0.4,0.30000000000000004,0.30000000000000004,0.4,0.30000000000000004,0.2,0.30000000000000004,0.30000000000000004,0.4]},{\"label\":\"epochs\",\"range\":[10,50],\"values\":[40,10,30,50,50,40,30,20,30,40,20,40,40,40,40,40,40,40,40,50,50,50,50,40,40,50,50,50,50,50,40,40,20,30,50,20,20,20,50,50,10,20,20,30,10,30,50,30,30,30]},{\"label\":\"learning_rate\",\"range\":[-4.988164111204954,-1.106083936981123],\"ticktext\":[\"1.03e-05\",\"0.0001\",\"0.001\",\"0.01\",\"0.0783\"],\"tickvals\":[-4.988164111204954,-4,-3,-2,-1.106083936981123],\"values\":[-2.6276910486050835,-3.5654209063048095,-4.009444970128415,-4.750298697130483,-4.655593480916071,-4.811894475031795,-1.2871437580505871,-3.1685563092590523,-4.498447494410893,-4.454001648777491,-4.437099242831412,-3.824043001365688,-3.811654073566739,-3.792076825028925,-3.718118536943425,-3.8297708324168354,-3.4843825240781303,-3.483100876570996,-2.9184166565275964,-4.197834568063561,-4.209887751701276,-4.746873819979385,-3.9389646690992923,-3.3119318743862847,-4.004932090836971,-3.656659093063638,-4.3388465616255845,-4.280266468965356,-3.6475326858762998,-4.130753598338189,-3.597390570500733,-4.595477944821333,-3.9447656589309448,-2.82246249332002,-2.1022889181488864,-1.106083936981123,-3.104683302444338,-3.813784543042744,-2.2172970679221917,-4.140886746601657,-1.866022831812623,-3.508579439659908,-2.3358306709064967,-3.18373946993153,-4.212451821423459,-4.988164111204954,-1.4851475924576834,-2.474533313115944,-2.5845611674049973,-3.3126774912917867]},{\"label\":\"neurons_perlayer\",\"range\":[9,121],\"values\":[97,81,105,121,49,113,57,73,97,113,97,113,113,113,113,113,113,105,121,113,81,105,33,113,113,121,121,121,97,105,41,41,121,17,121,121,9,25,89,41,89,105,73,97,121,105,89,65,57,65]},{\"label\":\"num_hidden_layers\",\"range\":[1,5],\"values\":[1,2,2,4,4,4,2,2,2,3,2,3,3,3,3,3,3,4,3,4,5,4,4,3,3,3,4,4,5,4,3,4,1,4,5,1,3,1,1,4,1,1,2,2,3,2,1,1,1,2]},{\"label\":\"optimizer_name\",\"range\":[0,2],\"ticktext\":[\"SGD\",\"Adam\",\"RMSprop\"],\"tickvals\":[0,1,2],\"values\":[1,1,1,1,0,2,2,1,2,2,0,1,1,1,1,1,1,1,1,1,1,1,1,1,1,1,1,1,1,1,0,1,1,2,2,0,0,1,2,0,1,2,1,2,2,2,2,2,2,2]},{\"label\":\"weight_decay\",\"range\":[-4.995453284886431,-3.008065482154577],\"ticktext\":[\"1.01e-05\",\"0.0001\",\"0.000982\"],\"tickvals\":[-4.995453284886431,-4,-3.008065482154577],\"values\":[-3.9615410154667368,-3.5722346580419506,-3.788099116069022,-3.8863499334178604,-3.78390535195235,-4.534019277837533,-3.0663185782868676,-3.3791863274724285,-4.72561729903444,-4.701481447280834,-4.840867631103892,-4.566821231419669,-3.4952657487799126,-3.448745651882691,-3.3556087340571192,-3.3330851439211395,-3.449206947233958,-3.19834520627248,-3.507790210435721,-3.008065482154577,-3.011319073014711,-3.139023738400174,-3.346706391968969,-3.261454596438645,-3.084943083317839,-3.756755652723861,-3.755026287222015,-3.7708524575430884,-3.992336956597784,-3.5972720961373525,-4.733557430207631,-4.880686126896708,-3.9227045048909055,-4.032185963555811,-4.083580065219432,-3.196656449225678,-3.885662587299593,-4.414885216250054,-4.342372027737826,-4.245803354276713,-3.6898257263611898,-4.473277720216648,-3.6313049282492615,-4.3088146687990445,-4.207265224162895,-4.634181149624859,-4.333578024282577,-4.389170887984224,-4.995453284886431,-4.126710263732949]}],\"labelangle\":30,\"labelside\":\"bottom\",\"line\":{\"color\":[0.8731,0.8408,0.8775,0.8934,0.8039,0.8797,0.6844,0.8794,0.8853,0.8835,0.6881,0.9023,0.9028,0.899,0.8978,0.9011,0.9003,0.8989,0.8824,0.9022,0.8986,0.8893,0.8762,0.8966,0.8985,0.9045,0.9013,0.9017,0.8994,0.9001,0.8327,0.7429,0.8858,0.4411,0.8188,0.8797,0.3608,0.8528,0.8815,0.6361,0.8185,0.8797,0.8644,0.8954,0.8664,0.8633,0.8468,0.8822,0.878,0.8818],\"colorbar\":{\"title\":{\"text\":\"Objective Value\"}},\"colorscale\":[[0.0,\"rgb(247,251,255)\"],[0.125,\"rgb(222,235,247)\"],[0.25,\"rgb(198,219,239)\"],[0.375,\"rgb(158,202,225)\"],[0.5,\"rgb(107,174,214)\"],[0.625,\"rgb(66,146,198)\"],[0.75,\"rgb(33,113,181)\"],[0.875,\"rgb(8,81,156)\"],[1.0,\"rgb(8,48,107)\"]],\"reversescale\":false,\"showscale\":true},\"type\":\"parcoords\"}],                        {\"title\":{\"text\":\"Parallel Coordinate Plot\"},\"template\":{\"data\":{\"histogram2dcontour\":[{\"type\":\"histogram2dcontour\",\"colorbar\":{\"outlinewidth\":0,\"ticks\":\"\"},\"colorscale\":[[0.0,\"#0d0887\"],[0.1111111111111111,\"#46039f\"],[0.2222222222222222,\"#7201a8\"],[0.3333333333333333,\"#9c179e\"],[0.4444444444444444,\"#bd3786\"],[0.5555555555555556,\"#d8576b\"],[0.6666666666666666,\"#ed7953\"],[0.7777777777777778,\"#fb9f3a\"],[0.8888888888888888,\"#fdca26\"],[1.0,\"#f0f921\"]]}],\"choropleth\":[{\"type\":\"choropleth\",\"colorbar\":{\"outlinewidth\":0,\"ticks\":\"\"}}],\"histogram2d\":[{\"type\":\"histogram2d\",\"colorbar\":{\"outlinewidth\":0,\"ticks\":\"\"},\"colorscale\":[[0.0,\"#0d0887\"],[0.1111111111111111,\"#46039f\"],[0.2222222222222222,\"#7201a8\"],[0.3333333333333333,\"#9c179e\"],[0.4444444444444444,\"#bd3786\"],[0.5555555555555556,\"#d8576b\"],[0.6666666666666666,\"#ed7953\"],[0.7777777777777778,\"#fb9f3a\"],[0.8888888888888888,\"#fdca26\"],[1.0,\"#f0f921\"]]}],\"heatmap\":[{\"type\":\"heatmap\",\"colorbar\":{\"outlinewidth\":0,\"ticks\":\"\"},\"colorscale\":[[0.0,\"#0d0887\"],[0.1111111111111111,\"#46039f\"],[0.2222222222222222,\"#7201a8\"],[0.3333333333333333,\"#9c179e\"],[0.4444444444444444,\"#bd3786\"],[0.5555555555555556,\"#d8576b\"],[0.6666666666666666,\"#ed7953\"],[0.7777777777777778,\"#fb9f3a\"],[0.8888888888888888,\"#fdca26\"],[1.0,\"#f0f921\"]]}],\"heatmapgl\":[{\"type\":\"heatmapgl\",\"colorbar\":{\"outlinewidth\":0,\"ticks\":\"\"},\"colorscale\":[[0.0,\"#0d0887\"],[0.1111111111111111,\"#46039f\"],[0.2222222222222222,\"#7201a8\"],[0.3333333333333333,\"#9c179e\"],[0.4444444444444444,\"#bd3786\"],[0.5555555555555556,\"#d8576b\"],[0.6666666666666666,\"#ed7953\"],[0.7777777777777778,\"#fb9f3a\"],[0.8888888888888888,\"#fdca26\"],[1.0,\"#f0f921\"]]}],\"contourcarpet\":[{\"type\":\"contourcarpet\",\"colorbar\":{\"outlinewidth\":0,\"ticks\":\"\"}}],\"contour\":[{\"type\":\"contour\",\"colorbar\":{\"outlinewidth\":0,\"ticks\":\"\"},\"colorscale\":[[0.0,\"#0d0887\"],[0.1111111111111111,\"#46039f\"],[0.2222222222222222,\"#7201a8\"],[0.3333333333333333,\"#9c179e\"],[0.4444444444444444,\"#bd3786\"],[0.5555555555555556,\"#d8576b\"],[0.6666666666666666,\"#ed7953\"],[0.7777777777777778,\"#fb9f3a\"],[0.8888888888888888,\"#fdca26\"],[1.0,\"#f0f921\"]]}],\"surface\":[{\"type\":\"surface\",\"colorbar\":{\"outlinewidth\":0,\"ticks\":\"\"},\"colorscale\":[[0.0,\"#0d0887\"],[0.1111111111111111,\"#46039f\"],[0.2222222222222222,\"#7201a8\"],[0.3333333333333333,\"#9c179e\"],[0.4444444444444444,\"#bd3786\"],[0.5555555555555556,\"#d8576b\"],[0.6666666666666666,\"#ed7953\"],[0.7777777777777778,\"#fb9f3a\"],[0.8888888888888888,\"#fdca26\"],[1.0,\"#f0f921\"]]}],\"mesh3d\":[{\"type\":\"mesh3d\",\"colorbar\":{\"outlinewidth\":0,\"ticks\":\"\"}}],\"scatter\":[{\"fillpattern\":{\"fillmode\":\"overlay\",\"size\":10,\"solidity\":0.2},\"type\":\"scatter\"}],\"parcoords\":[{\"type\":\"parcoords\",\"line\":{\"colorbar\":{\"outlinewidth\":0,\"ticks\":\"\"}}}],\"scatterpolargl\":[{\"type\":\"scatterpolargl\",\"marker\":{\"colorbar\":{\"outlinewidth\":0,\"ticks\":\"\"}}}],\"bar\":[{\"error_x\":{\"color\":\"#2a3f5f\"},\"error_y\":{\"color\":\"#2a3f5f\"},\"marker\":{\"line\":{\"color\":\"#E5ECF6\",\"width\":0.5},\"pattern\":{\"fillmode\":\"overlay\",\"size\":10,\"solidity\":0.2}},\"type\":\"bar\"}],\"scattergeo\":[{\"type\":\"scattergeo\",\"marker\":{\"colorbar\":{\"outlinewidth\":0,\"ticks\":\"\"}}}],\"scatterpolar\":[{\"type\":\"scatterpolar\",\"marker\":{\"colorbar\":{\"outlinewidth\":0,\"ticks\":\"\"}}}],\"histogram\":[{\"marker\":{\"pattern\":{\"fillmode\":\"overlay\",\"size\":10,\"solidity\":0.2}},\"type\":\"histogram\"}],\"scattergl\":[{\"type\":\"scattergl\",\"marker\":{\"colorbar\":{\"outlinewidth\":0,\"ticks\":\"\"}}}],\"scatter3d\":[{\"type\":\"scatter3d\",\"line\":{\"colorbar\":{\"outlinewidth\":0,\"ticks\":\"\"}},\"marker\":{\"colorbar\":{\"outlinewidth\":0,\"ticks\":\"\"}}}],\"scattermapbox\":[{\"type\":\"scattermapbox\",\"marker\":{\"colorbar\":{\"outlinewidth\":0,\"ticks\":\"\"}}}],\"scatterternary\":[{\"type\":\"scatterternary\",\"marker\":{\"colorbar\":{\"outlinewidth\":0,\"ticks\":\"\"}}}],\"scattercarpet\":[{\"type\":\"scattercarpet\",\"marker\":{\"colorbar\":{\"outlinewidth\":0,\"ticks\":\"\"}}}],\"carpet\":[{\"aaxis\":{\"endlinecolor\":\"#2a3f5f\",\"gridcolor\":\"white\",\"linecolor\":\"white\",\"minorgridcolor\":\"white\",\"startlinecolor\":\"#2a3f5f\"},\"baxis\":{\"endlinecolor\":\"#2a3f5f\",\"gridcolor\":\"white\",\"linecolor\":\"white\",\"minorgridcolor\":\"white\",\"startlinecolor\":\"#2a3f5f\"},\"type\":\"carpet\"}],\"table\":[{\"cells\":{\"fill\":{\"color\":\"#EBF0F8\"},\"line\":{\"color\":\"white\"}},\"header\":{\"fill\":{\"color\":\"#C8D4E3\"},\"line\":{\"color\":\"white\"}},\"type\":\"table\"}],\"barpolar\":[{\"marker\":{\"line\":{\"color\":\"#E5ECF6\",\"width\":0.5},\"pattern\":{\"fillmode\":\"overlay\",\"size\":10,\"solidity\":0.2}},\"type\":\"barpolar\"}],\"pie\":[{\"automargin\":true,\"type\":\"pie\"}]},\"layout\":{\"autotypenumbers\":\"strict\",\"colorway\":[\"#636efa\",\"#EF553B\",\"#00cc96\",\"#ab63fa\",\"#FFA15A\",\"#19d3f3\",\"#FF6692\",\"#B6E880\",\"#FF97FF\",\"#FECB52\"],\"font\":{\"color\":\"#2a3f5f\"},\"hovermode\":\"closest\",\"hoverlabel\":{\"align\":\"left\"},\"paper_bgcolor\":\"white\",\"plot_bgcolor\":\"#E5ECF6\",\"polar\":{\"bgcolor\":\"#E5ECF6\",\"angularaxis\":{\"gridcolor\":\"white\",\"linecolor\":\"white\",\"ticks\":\"\"},\"radialaxis\":{\"gridcolor\":\"white\",\"linecolor\":\"white\",\"ticks\":\"\"}},\"ternary\":{\"bgcolor\":\"#E5ECF6\",\"aaxis\":{\"gridcolor\":\"white\",\"linecolor\":\"white\",\"ticks\":\"\"},\"baxis\":{\"gridcolor\":\"white\",\"linecolor\":\"white\",\"ticks\":\"\"},\"caxis\":{\"gridcolor\":\"white\",\"linecolor\":\"white\",\"ticks\":\"\"}},\"coloraxis\":{\"colorbar\":{\"outlinewidth\":0,\"ticks\":\"\"}},\"colorscale\":{\"sequential\":[[0.0,\"#0d0887\"],[0.1111111111111111,\"#46039f\"],[0.2222222222222222,\"#7201a8\"],[0.3333333333333333,\"#9c179e\"],[0.4444444444444444,\"#bd3786\"],[0.5555555555555556,\"#d8576b\"],[0.6666666666666666,\"#ed7953\"],[0.7777777777777778,\"#fb9f3a\"],[0.8888888888888888,\"#fdca26\"],[1.0,\"#f0f921\"]],\"sequentialminus\":[[0.0,\"#0d0887\"],[0.1111111111111111,\"#46039f\"],[0.2222222222222222,\"#7201a8\"],[0.3333333333333333,\"#9c179e\"],[0.4444444444444444,\"#bd3786\"],[0.5555555555555556,\"#d8576b\"],[0.6666666666666666,\"#ed7953\"],[0.7777777777777778,\"#fb9f3a\"],[0.8888888888888888,\"#fdca26\"],[1.0,\"#f0f921\"]],\"diverging\":[[0,\"#8e0152\"],[0.1,\"#c51b7d\"],[0.2,\"#de77ae\"],[0.3,\"#f1b6da\"],[0.4,\"#fde0ef\"],[0.5,\"#f7f7f7\"],[0.6,\"#e6f5d0\"],[0.7,\"#b8e186\"],[0.8,\"#7fbc41\"],[0.9,\"#4d9221\"],[1,\"#276419\"]]},\"xaxis\":{\"gridcolor\":\"white\",\"linecolor\":\"white\",\"ticks\":\"\",\"title\":{\"standoff\":15},\"zerolinecolor\":\"white\",\"automargin\":true,\"zerolinewidth\":2},\"yaxis\":{\"gridcolor\":\"white\",\"linecolor\":\"white\",\"ticks\":\"\",\"title\":{\"standoff\":15},\"zerolinecolor\":\"white\",\"automargin\":true,\"zerolinewidth\":2},\"scene\":{\"xaxis\":{\"backgroundcolor\":\"#E5ECF6\",\"gridcolor\":\"white\",\"linecolor\":\"white\",\"showbackground\":true,\"ticks\":\"\",\"zerolinecolor\":\"white\",\"gridwidth\":2},\"yaxis\":{\"backgroundcolor\":\"#E5ECF6\",\"gridcolor\":\"white\",\"linecolor\":\"white\",\"showbackground\":true,\"ticks\":\"\",\"zerolinecolor\":\"white\",\"gridwidth\":2},\"zaxis\":{\"backgroundcolor\":\"#E5ECF6\",\"gridcolor\":\"white\",\"linecolor\":\"white\",\"showbackground\":true,\"ticks\":\"\",\"zerolinecolor\":\"white\",\"gridwidth\":2}},\"shapedefaults\":{\"line\":{\"color\":\"#2a3f5f\"}},\"annotationdefaults\":{\"arrowcolor\":\"#2a3f5f\",\"arrowhead\":0,\"arrowwidth\":1},\"geo\":{\"bgcolor\":\"white\",\"landcolor\":\"#E5ECF6\",\"subunitcolor\":\"white\",\"showland\":true,\"showlakes\":true,\"lakecolor\":\"white\"},\"title\":{\"x\":0.05},\"mapbox\":{\"style\":\"light\"}}}},                        {\"responsive\": true}                    ).then(function(){\n",
              "                            \n",
              "var gd = document.getElementById('75a08c1a-e046-4568-aec4-e8abd007b1f3');\n",
              "var x = new MutationObserver(function (mutations, observer) {{\n",
              "        var display = window.getComputedStyle(gd).display;\n",
              "        if (!display || display === 'none') {{\n",
              "            console.log([gd, 'removed!']);\n",
              "            Plotly.purge(gd);\n",
              "            observer.disconnect();\n",
              "        }}\n",
              "}});\n",
              "\n",
              "// Listen for the removal of the full notebook cells\n",
              "var notebookContainer = gd.closest('#notebook-container');\n",
              "if (notebookContainer) {{\n",
              "    x.observe(notebookContainer, {childList: true});\n",
              "}}\n",
              "\n",
              "// Listen for the clearing of the current output cell\n",
              "var outputEl = gd.closest('.output');\n",
              "if (outputEl) {{\n",
              "    x.observe(outputEl, {childList: true});\n",
              "}}\n",
              "\n",
              "                        })                };                            </script>        </div>\n",
              "</body>\n",
              "</html>"
            ]
          },
          "metadata": {}
        }
      ]
    },
    {
      "cell_type": "code",
      "source": [],
      "metadata": {
        "id": "eVIYLTM1DcmQ"
      },
      "execution_count": null,
      "outputs": []
    }
  ]
}