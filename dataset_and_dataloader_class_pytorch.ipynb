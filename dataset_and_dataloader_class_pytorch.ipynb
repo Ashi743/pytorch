{
  "nbformat": 4,
  "nbformat_minor": 0,
  "metadata": {
    "colab": {
      "provenance": [],
      "authorship_tag": "ABX9TyNKdneuw73c4pEIQ1RjEczL",
      "include_colab_link": true
    },
    "kernelspec": {
      "name": "python3",
      "display_name": "Python 3"
    },
    "language_info": {
      "name": "python"
    }
  },
  "cells": [
    {
      "cell_type": "markdown",
      "metadata": {
        "id": "view-in-github",
        "colab_type": "text"
      },
      "source": [
        "<a href=\"https://colab.research.google.com/github/Ashi743/pytorch/blob/main/dataset_and_dataloader_class_pytorch.ipynb\" target=\"_parent\"><img src=\"https://colab.research.google.com/assets/colab-badge.svg\" alt=\"Open In Colab\"/></a>"
      ]
    },
    {
      "cell_type": "code",
      "execution_count": 8,
      "metadata": {
        "id": "b1Sh9YDAO8B5"
      },
      "outputs": [],
      "source": [
        "from sklearn.datasets import make_classification\n",
        "import torch\n",
        "import numpy as np"
      ]
    },
    {
      "cell_type": "code",
      "source": [
        "X,y= make_classification(\n",
        "    n_samples=100,\n",
        "    n_features=2,\n",
        "    n_informative=2,\n",
        "    n_redundant=0,\n",
        "    random_state=1,\n",
        "    n_classes=2,\n",
        ")"
      ],
      "metadata": {
        "id": "y70htHYZe56i"
      },
      "execution_count": 33,
      "outputs": []
    },
    {
      "cell_type": "code",
      "source": [
        "X.shape,y.shape"
      ],
      "metadata": {
        "colab": {
          "base_uri": "https://localhost:8080/"
        },
        "id": "P5sowXSAe59X",
        "outputId": "b5cbf0f2-5e3e-4e2e-a8d3-3e8cfaa84dcd"
      },
      "execution_count": 34,
      "outputs": [
        {
          "output_type": "execute_result",
          "data": {
            "text/plain": [
              "((100, 2), (100,))"
            ]
          },
          "metadata": {},
          "execution_count": 34
        }
      ]
    },
    {
      "cell_type": "code",
      "source": [
        "#numpy to tensors\n",
        "X=torch.tensor(X ,dtype=torch.float32)\n",
        "y=torch.tensor(y, dtype=torch.float32)"
      ],
      "metadata": {
        "id": "inJYxdXUfO0X"
      },
      "execution_count": 35,
      "outputs": []
    },
    {
      "cell_type": "code",
      "source": [
        "from torch.utils.data import TensorDataset,DataLoader, Dataset"
      ],
      "metadata": {
        "id": "Y-_GdmIpe5_2"
      },
      "execution_count": 11,
      "outputs": []
    },
    {
      "cell_type": "code",
      "source": [
        "class CustomDataset(Dataset):\n",
        "  def __init__(self, features, labels):\n",
        "    self.features = features\n",
        "    self.labels = labels\n",
        "\n",
        "  def __len__(self):\n",
        "    return self.features.shape[0]\n",
        "\n",
        "  def __getitem__(self,index):\n",
        "    return self.features[index], self.labels[index]             #ANY TRANSFORMATIONS CAN AND WILL BE DONE HERE\n",
        "\n"
      ],
      "metadata": {
        "id": "LeWPakkge6CU"
      },
      "execution_count": 36,
      "outputs": []
    },
    {
      "cell_type": "code",
      "source": [
        "dataset= CustomDataset(X,y)"
      ],
      "metadata": {
        "id": "Q1IpjyYbe6FF"
      },
      "execution_count": 37,
      "outputs": []
    },
    {
      "cell_type": "code",
      "source": [
        "len(dataset)"
      ],
      "metadata": {
        "colab": {
          "base_uri": "https://localhost:8080/"
        },
        "id": "UjQdFv4hgU5k",
        "outputId": "b2780061-1f0e-4632-ea1a-7e4fa520d13e"
      },
      "execution_count": 38,
      "outputs": [
        {
          "output_type": "execute_result",
          "data": {
            "text/plain": [
              "100"
            ]
          },
          "metadata": {},
          "execution_count": 38
        }
      ]
    },
    {
      "cell_type": "code",
      "source": [
        "dataset[4]"
      ],
      "metadata": {
        "colab": {
          "base_uri": "https://localhost:8080/"
        },
        "id": "eq0G7rHNg2ii",
        "outputId": "dd2b6e36-e563-4e2c-c363-289660efa247"
      },
      "execution_count": 39,
      "outputs": [
        {
          "output_type": "execute_result",
          "data": {
            "text/plain": [
              "(tensor([-1.2722,  0.2595]), tensor(0.))"
            ]
          },
          "metadata": {},
          "execution_count": 39
        }
      ]
    },
    {
      "cell_type": "code",
      "source": [
        "from inspect import isgenerator\n",
        "isgenerator(dataset)"
      ],
      "metadata": {
        "colab": {
          "base_uri": "https://localhost:8080/"
        },
        "id": "ed26Ltg_e6IC",
        "outputId": "23d0d46e-47c7-44e0-ac41-4f3d5dd01d54"
      },
      "execution_count": 15,
      "outputs": [
        {
          "output_type": "execute_result",
          "data": {
            "text/plain": [
              "False"
            ]
          },
          "metadata": {},
          "execution_count": 15
        }
      ]
    },
    {
      "cell_type": "code",
      "source": [
        "# Check if it's iterable\n",
        "from collections.abc import Iterable\n",
        "print(isinstance(dataset, Iterable))\n",
        "\n",
        "# Check if it's an iterator\n",
        "from collections.abc import Iterator\n",
        "isinstance(dataset, Iterator)\n"
      ],
      "metadata": {
        "colab": {
          "base_uri": "https://localhost:8080/"
        },
        "id": "ykiVlSm6grPA",
        "outputId": "45575f28-5674-4524-a17c-171e34f41829"
      },
      "execution_count": 17,
      "outputs": [
        {
          "output_type": "stream",
          "name": "stdout",
          "text": [
            "False\n"
          ]
        },
        {
          "output_type": "execute_result",
          "data": {
            "text/plain": [
              "False"
            ]
          },
          "metadata": {},
          "execution_count": 17
        }
      ]
    },
    {
      "cell_type": "code",
      "source": [
        "dataloader= DataLoader(dataset, batch_size=2, shuffle= True, num_workers=4)   # AND THATS IT   #num worker leads to parrallelizations"
      ],
      "metadata": {
        "colab": {
          "base_uri": "https://localhost:8080/"
        },
        "id": "M7OpjtUrg7L7",
        "outputId": "3486a675-b1a9-4247-8b8a-a27edf3cf5d2"
      },
      "execution_count": 46,
      "outputs": [
        {
          "output_type": "stream",
          "name": "stderr",
          "text": [
            "/usr/local/lib/python3.10/dist-packages/torch/utils/data/dataloader.py:617: UserWarning: This DataLoader will create 4 worker processes in total. Our suggested max number of worker in current system is 2, which is smaller than what this DataLoader is going to create. Please be aware that excessive worker creation might get DataLoader running slow or even freeze, lower the worker number to avoid potential slowness/freeze if necessary.\n",
            "  warnings.warn(\n"
          ]
        }
      ]
    },
    {
      "cell_type": "code",
      "source": [
        "# Check if it's iterable\n",
        "from collections.abc import Iterable\n",
        "print(isinstance(dataloader, Iterable))\n",
        "\n",
        "# Check if it's an iterator\n",
        "from collections.abc import Iterator\n",
        "isinstance(dataloader, Iterator)\n"
      ],
      "metadata": {
        "colab": {
          "base_uri": "https://localhost:8080/"
        },
        "id": "OSxuznVWhSBq",
        "outputId": "3f4e4ff7-8a84-49d9-9a97-6b3f8f0a3508"
      },
      "execution_count": 22,
      "outputs": [
        {
          "output_type": "stream",
          "name": "stdout",
          "text": [
            "True\n"
          ]
        },
        {
          "output_type": "execute_result",
          "data": {
            "text/plain": [
              "False"
            ]
          },
          "metadata": {},
          "execution_count": 22
        }
      ]
    },
    {
      "cell_type": "code",
      "source": [
        "for batch_features, batch_labels in dataloader:\n",
        "  print(batch_features)\n",
        "  print(batch_labels)\n",
        "  print(\"--+++---\"*20)"
      ],
      "metadata": {
        "colab": {
          "base_uri": "https://localhost:8080/"
        },
        "id": "DnvF4-efg7Od",
        "outputId": "7e4dc021-b785-4914-aa8f-672dae894d6c"
      },
      "execution_count": 47,
      "outputs": [
        {
          "output_type": "stream",
          "name": "stdout",
          "text": [
            "tensor([[-1.5440,  0.0119],\n",
            "        [ 1.4418, -0.5601]])\n",
            "tensor([0., 1.])\n",
            "--+++-----+++-----+++-----+++-----+++-----+++-----+++-----+++-----+++-----+++-----+++-----+++-----+++-----+++-----+++-----+++-----+++-----+++-----+++-----+++---\n",
            "tensor([[-0.7073, -1.7515],\n",
            "        [-1.0722, -0.7702]])\n",
            "tensor([0., 0.])\n",
            "--+++-----+++-----+++-----+++-----+++-----+++-----+++-----+++-----+++-----+++-----+++-----+++-----+++-----+++-----+++-----+++-----+++-----+++-----+++-----+++---\n",
            "tensor([[ 2.1496, -0.3115],\n",
            "        [-1.5159, -0.0249]])\n",
            "tensor([1., 0.])\n",
            "--+++-----+++-----+++-----+++-----+++-----+++-----+++-----+++-----+++-----+++-----+++-----+++-----+++-----+++-----+++-----+++-----+++-----+++-----+++-----+++---\n",
            "tensor([[ 0.7099,  0.6902],\n",
            "        [-0.8479, -1.3662]])\n",
            "tensor([1., 0.])\n",
            "--+++-----+++-----+++-----+++-----+++-----+++-----+++-----+++-----+++-----+++-----+++-----+++-----+++-----+++-----+++-----+++-----+++-----+++-----+++-----+++---\n",
            "tensor([[-1.0102,  0.8581],\n",
            "        [-1.5692, -0.5405]])\n",
            "tensor([0., 0.])\n",
            "--+++-----+++-----+++-----+++-----+++-----+++-----+++-----+++-----+++-----+++-----+++-----+++-----+++-----+++-----+++-----+++-----+++-----+++-----+++-----+++---\n",
            "tensor([[-1.0249,  1.2596],\n",
            "        [ 0.6514, -1.2104]])\n",
            "tensor([0., 1.])\n",
            "--+++-----+++-----+++-----+++-----+++-----+++-----+++-----+++-----+++-----+++-----+++-----+++-----+++-----+++-----+++-----+++-----+++-----+++-----+++-----+++---\n",
            "tensor([[ 0.5103, -1.3813],\n",
            "        [ 1.0751, -1.0014]])\n",
            "tensor([1., 1.])\n",
            "--+++-----+++-----+++-----+++-----+++-----+++-----+++-----+++-----+++-----+++-----+++-----+++-----+++-----+++-----+++-----+++-----+++-----+++-----+++-----+++---\n",
            "tensor([[ 1.0454, -0.9275],\n",
            "        [-1.1895,  0.3836]])\n",
            "tensor([1., 0.])\n",
            "--+++-----+++-----+++-----+++-----+++-----+++-----+++-----+++-----+++-----+++-----+++-----+++-----+++-----+++-----+++-----+++-----+++-----+++-----+++-----+++---\n",
            "tensor([[-0.8452,  1.6609],\n",
            "        [ 0.7185, -1.3192]])\n",
            "tensor([0., 1.])\n",
            "--+++-----+++-----+++-----+++-----+++-----+++-----+++-----+++-----+++-----+++-----+++-----+++-----+++-----+++-----+++-----+++-----+++-----+++-----+++-----+++---\n",
            "tensor([[-1.0808, -1.1553],\n",
            "        [-0.9013, -0.9665]])\n",
            "tensor([0., 0.])\n",
            "--+++-----+++-----+++-----+++-----+++-----+++-----+++-----+++-----+++-----+++-----+++-----+++-----+++-----+++-----+++-----+++-----+++-----+++-----+++-----+++---\n",
            "tensor([[-1.0886, -0.8526],\n",
            "        [ 0.4823,  1.6241]])\n",
            "tensor([0., 1.])\n",
            "--+++-----+++-----+++-----+++-----+++-----+++-----+++-----+++-----+++-----+++-----+++-----+++-----+++-----+++-----+++-----+++-----+++-----+++-----+++-----+++---\n",
            "tensor([[ 1.3822, -0.4963],\n",
            "        [ 1.0498,  0.1847]])\n",
            "tensor([1., 1.])\n",
            "--+++-----+++-----+++-----+++-----+++-----+++-----+++-----+++-----+++-----+++-----+++-----+++-----+++-----+++-----+++-----+++-----+++-----+++-----+++-----+++---\n",
            "tensor([[-1.3323,  0.6025],\n",
            "        [-1.3161, -0.6379]])\n",
            "tensor([0., 0.])\n",
            "--+++-----+++-----+++-----+++-----+++-----+++-----+++-----+++-----+++-----+++-----+++-----+++-----+++-----+++-----+++-----+++-----+++-----+++-----+++-----+++---\n",
            "tensor([[-0.7607, -1.4936],\n",
            "        [-0.9554, -1.1805]])\n",
            "tensor([0., 0.])\n",
            "--+++-----+++-----+++-----+++-----+++-----+++-----+++-----+++-----+++-----+++-----+++-----+++-----+++-----+++-----+++-----+++-----+++-----+++-----+++-----+++---\n",
            "tensor([[ 0.8557, -0.9913],\n",
            "        [ 0.9825,  0.3385]])\n",
            "tensor([1., 1.])\n",
            "--+++-----+++-----+++-----+++-----+++-----+++-----+++-----+++-----+++-----+++-----+++-----+++-----+++-----+++-----+++-----+++-----+++-----+++-----+++-----+++---\n",
            "tensor([[-1.3691, -0.1711],\n",
            "        [ 0.3295,  1.3410]])\n",
            "tensor([0., 1.])\n",
            "--+++-----+++-----+++-----+++-----+++-----+++-----+++-----+++-----+++-----+++-----+++-----+++-----+++-----+++-----+++-----+++-----+++-----+++-----+++-----+++---\n",
            "tensor([[-0.6268, -1.7344],\n",
            "        [ 0.8230, -1.0663]])\n",
            "tensor([0., 1.])\n",
            "--+++-----+++-----+++-----+++-----+++-----+++-----+++-----+++-----+++-----+++-----+++-----+++-----+++-----+++-----+++-----+++-----+++-----+++-----+++-----+++---\n",
            "tensor([[-0.6326,  1.2218],\n",
            "        [ 1.1202, -1.2402]])\n",
            "tensor([0., 1.])\n",
            "--+++-----+++-----+++-----+++-----+++-----+++-----+++-----+++-----+++-----+++-----+++-----+++-----+++-----+++-----+++-----+++-----+++-----+++-----+++-----+++---\n",
            "tensor([[-1.4796,  0.0426],\n",
            "        [-1.2523, -0.5769]])\n",
            "tensor([0., 0.])\n",
            "--+++-----+++-----+++-----+++-----+++-----+++-----+++-----+++-----+++-----+++-----+++-----+++-----+++-----+++-----+++-----+++-----+++-----+++-----+++-----+++---\n",
            "tensor([[ 0.8234,  0.7562],\n",
            "        [-1.6615,  0.4634]])\n",
            "tensor([1., 0.])\n",
            "--+++-----+++-----+++-----+++-----+++-----+++-----+++-----+++-----+++-----+++-----+++-----+++-----+++-----+++-----+++-----+++-----+++-----+++-----+++-----+++---\n",
            "tensor([[0.9153, 0.8537],\n",
            "        [1.1619, 0.5052]])\n",
            "tensor([1., 1.])\n",
            "--+++-----+++-----+++-----+++-----+++-----+++-----+++-----+++-----+++-----+++-----+++-----+++-----+++-----+++-----+++-----+++-----+++-----+++-----+++-----+++---\n",
            "tensor([[-1.0953,  1.2397],\n",
            "        [-0.8526, -1.4255]])\n",
            "tensor([0., 0.])\n",
            "--+++-----+++-----+++-----+++-----+++-----+++-----+++-----+++-----+++-----+++-----+++-----+++-----+++-----+++-----+++-----+++-----+++-----+++-----+++-----+++---\n",
            "tensor([[-1.1033, -0.7016],\n",
            "        [-1.0110,  1.6609]])\n",
            "tensor([0., 0.])\n",
            "--+++-----+++-----+++-----+++-----+++-----+++-----+++-----+++-----+++-----+++-----+++-----+++-----+++-----+++-----+++-----+++-----+++-----+++-----+++-----+++---\n",
            "tensor([[-1.4237,  0.3918],\n",
            "        [ 1.3732,  1.6689]])\n",
            "tensor([0., 1.])\n",
            "--+++-----+++-----+++-----+++-----+++-----+++-----+++-----+++-----+++-----+++-----+++-----+++-----+++-----+++-----+++-----+++-----+++-----+++-----+++-----+++---\n",
            "tensor([[ 1.0608,  0.5853],\n",
            "        [-1.2940, -0.5492]])\n",
            "tensor([1., 0.])\n",
            "--+++-----+++-----+++-----+++-----+++-----+++-----+++-----+++-----+++-----+++-----+++-----+++-----+++-----+++-----+++-----+++-----+++-----+++-----+++-----+++---\n",
            "tensor([[ 0.6806, -1.2044],\n",
            "        [ 0.5657, -1.2513]])\n",
            "tensor([1., 1.])\n",
            "--+++-----+++-----+++-----+++-----+++-----+++-----+++-----+++-----+++-----+++-----+++-----+++-----+++-----+++-----+++-----+++-----+++-----+++-----+++-----+++---\n",
            "tensor([[ 1.6961,  0.2915],\n",
            "        [-0.7222, -1.4113]])\n",
            "tensor([1., 0.])\n",
            "--+++-----+++-----+++-----+++-----+++-----+++-----+++-----+++-----+++-----+++-----+++-----+++-----+++-----+++-----+++-----+++-----+++-----+++-----+++-----+++---\n",
            "tensor([[-1.2741, -0.1434],\n",
            "        [-0.8448, -1.4430]])\n",
            "tensor([0., 0.])\n",
            "--+++-----+++-----+++-----+++-----+++-----+++-----+++-----+++-----+++-----+++-----+++-----+++-----+++-----+++-----+++-----+++-----+++-----+++-----+++-----+++---\n",
            "tensor([[ 0.7522, -1.0909],\n",
            "        [ 0.6487,  1.2600]])\n",
            "tensor([1., 1.])\n",
            "--+++-----+++-----+++-----+++-----+++-----+++-----+++-----+++-----+++-----+++-----+++-----+++-----+++-----+++-----+++-----+++-----+++-----+++-----+++-----+++---\n",
            "tensor([[-0.0654,  1.1126],\n",
            "        [-0.8544,  1.9230]])\n",
            "tensor([1., 0.])\n",
            "--+++-----+++-----+++-----+++-----+++-----+++-----+++-----+++-----+++-----+++-----+++-----+++-----+++-----+++-----+++-----+++-----+++-----+++-----+++-----+++---\n",
            "tensor([[ 0.8170, -1.1248],\n",
            "        [ 1.0174, -1.0622]])\n",
            "tensor([1., 1.])\n",
            "--+++-----+++-----+++-----+++-----+++-----+++-----+++-----+++-----+++-----+++-----+++-----+++-----+++-----+++-----+++-----+++-----+++-----+++-----+++-----+++---\n",
            "tensor([[ 0.9212, -1.0702],\n",
            "        [ 0.9491,  1.1196]])\n",
            "tensor([1., 1.])\n",
            "--+++-----+++-----+++-----+++-----+++-----+++-----+++-----+++-----+++-----+++-----+++-----+++-----+++-----+++-----+++-----+++-----+++-----+++-----+++-----+++---\n",
            "tensor([[ 0.7869,  0.9429],\n",
            "        [ 1.3002, -0.7857]])\n",
            "tensor([1., 1.])\n",
            "--+++-----+++-----+++-----+++-----+++-----+++-----+++-----+++-----+++-----+++-----+++-----+++-----+++-----+++-----+++-----+++-----+++-----+++-----+++-----+++---\n",
            "tensor([[-0.4500,  0.2735],\n",
            "        [ 0.6338,  0.2873]])\n",
            "tensor([1., 1.])\n",
            "--+++-----+++-----+++-----+++-----+++-----+++-----+++-----+++-----+++-----+++-----+++-----+++-----+++-----+++-----+++-----+++-----+++-----+++-----+++-----+++---\n",
            "tensor([[-0.7157, -1.6397],\n",
            "        [-0.5257,  1.5257]])\n",
            "tensor([0., 0.])\n",
            "--+++-----+++-----+++-----+++-----+++-----+++-----+++-----+++-----+++-----+++-----+++-----+++-----+++-----+++-----+++-----+++-----+++-----+++-----+++-----+++---\n",
            "tensor([[-1.2722,  0.2595],\n",
            "        [ 1.1130, -0.9080]])\n",
            "tensor([0., 1.])\n",
            "--+++-----+++-----+++-----+++-----+++-----+++-----+++-----+++-----+++-----+++-----+++-----+++-----+++-----+++-----+++-----+++-----+++-----+++-----+++-----+++---\n",
            "tensor([[-0.7897,  1.7035],\n",
            "        [ 0.8962, -1.1151]])\n",
            "tensor([0., 1.])\n",
            "--+++-----+++-----+++-----+++-----+++-----+++-----+++-----+++-----+++-----+++-----+++-----+++-----+++-----+++-----+++-----+++-----+++-----+++-----+++-----+++---\n",
            "tensor([[-0.6733, -1.7896],\n",
            "        [-1.5156, -0.1580]])\n",
            "tensor([0., 0.])\n",
            "--+++-----+++-----+++-----+++-----+++-----+++-----+++-----+++-----+++-----+++-----+++-----+++-----+++-----+++-----+++-----+++-----+++-----+++-----+++-----+++---\n",
            "tensor([[ 0.4813, -0.4463],\n",
            "        [ 1.6823, -0.6760]])\n",
            "tensor([1., 1.])\n",
            "--+++-----+++-----+++-----+++-----+++-----+++-----+++-----+++-----+++-----+++-----+++-----+++-----+++-----+++-----+++-----+++-----+++-----+++-----+++-----+++---\n",
            "tensor([[-0.9513,  0.9660],\n",
            "        [ 1.5028,  0.1839]])\n",
            "tensor([0., 1.])\n",
            "--+++-----+++-----+++-----+++-----+++-----+++-----+++-----+++-----+++-----+++-----+++-----+++-----+++-----+++-----+++-----+++-----+++-----+++-----+++-----+++---\n",
            "tensor([[-0.7870,  0.8935],\n",
            "        [-1.1069,  1.7172]])\n",
            "tensor([0., 0.])\n",
            "--+++-----+++-----+++-----+++-----+++-----+++-----+++-----+++-----+++-----+++-----+++-----+++-----+++-----+++-----+++-----+++-----+++-----+++-----+++-----+++---\n",
            "tensor([[ 0.9817, -0.9163],\n",
            "        [ 0.2431, -1.5663]])\n",
            "tensor([1., 1.])\n",
            "--+++-----+++-----+++-----+++-----+++-----+++-----+++-----+++-----+++-----+++-----+++-----+++-----+++-----+++-----+++-----+++-----+++-----+++-----+++-----+++---\n",
            "tensor([[ 0.6770, -1.0690],\n",
            "        [-0.8645, -1.4092]])\n",
            "tensor([1., 0.])\n",
            "--+++-----+++-----+++-----+++-----+++-----+++-----+++-----+++-----+++-----+++-----+++-----+++-----+++-----+++-----+++-----+++-----+++-----+++-----+++-----+++---\n",
            "tensor([[ 1.6315,  1.1076],\n",
            "        [-0.3012,  1.7183]])\n",
            "tensor([1., 0.])\n",
            "--+++-----+++-----+++-----+++-----+++-----+++-----+++-----+++-----+++-----+++-----+++-----+++-----+++-----+++-----+++-----+++-----+++-----+++-----+++-----+++---\n",
            "tensor([[-0.4782,  3.1746],\n",
            "        [ 1.3314, -0.6618]])\n",
            "tensor([0., 1.])\n",
            "--+++-----+++-----+++-----+++-----+++-----+++-----+++-----+++-----+++-----+++-----+++-----+++-----+++-----+++-----+++-----+++-----+++-----+++-----+++-----+++---\n",
            "tensor([[-0.7910,  1.6050],\n",
            "        [-0.6964,  0.9638]])\n",
            "tensor([0., 0.])\n",
            "--+++-----+++-----+++-----+++-----+++-----+++-----+++-----+++-----+++-----+++-----+++-----+++-----+++-----+++-----+++-----+++-----+++-----+++-----+++-----+++---\n",
            "tensor([[-0.4039,  1.9498],\n",
            "        [ 0.6258, -1.2417]])\n",
            "tensor([1., 1.])\n",
            "--+++-----+++-----+++-----+++-----+++-----+++-----+++-----+++-----+++-----+++-----+++-----+++-----+++-----+++-----+++-----+++-----+++-----+++-----+++-----+++---\n",
            "tensor([[-0.5022,  2.0513],\n",
            "        [ 0.9405, -1.1003]])\n",
            "tensor([0., 1.])\n",
            "--+++-----+++-----+++-----+++-----+++-----+++-----+++-----+++-----+++-----+++-----+++-----+++-----+++-----+++-----+++-----+++-----+++-----+++-----+++-----+++---\n",
            "tensor([[ 0.8757,  0.7653],\n",
            "        [-1.4424,  0.2768]])\n",
            "tensor([1., 0.])\n",
            "--+++-----+++-----+++-----+++-----+++-----+++-----+++-----+++-----+++-----+++-----+++-----+++-----+++-----+++-----+++-----+++-----+++-----+++-----+++-----+++---\n",
            "tensor([[ 0.8589,  1.0446],\n",
            "        [-0.9571, -1.0141]])\n",
            "tensor([1., 0.])\n",
            "--+++-----+++-----+++-----+++-----+++-----+++-----+++-----+++-----+++-----+++-----+++-----+++-----+++-----+++-----+++-----+++-----+++-----+++-----+++-----+++---\n"
          ]
        }
      ]
    },
    {
      "cell_type": "markdown",
      "source": [
        "**TO USE ABOVE IN BREAST CANCER DATASET**"
      ],
      "metadata": {
        "id": "Su8ozJKXlc0H"
      }
    },
    {
      "cell_type": "code",
      "source": [
        "import numpy as np\n",
        "import pandas as pd\n",
        "import matplotlib.pyplot as plt\n",
        "import seaborn as sns\n",
        "\n",
        "import torch\n",
        "from sklearn.preprocessing import StandardScaler, LabelEncoder\n",
        "from torch.utils.data import Dataset, DataLoader\n",
        "from sklearn.model_selection import train_test_split"
      ],
      "metadata": {
        "id": "-nf1_AEqg7RT"
      },
      "execution_count": 48,
      "outputs": []
    },
    {
      "cell_type": "code",
      "source": [
        "df = pd.read_csv('https://raw.githubusercontent.com/gscdit/Breast-Cancer-Detection/refs/heads/master/data.csv')\n",
        "df.drop('Unnamed: 32', axis=1, inplace=True)\n",
        "df.drop('id', axis=1, inplace=True)\n",
        "df.head()"
      ],
      "metadata": {
        "colab": {
          "base_uri": "https://localhost:8080/",
          "height": 243
        },
        "id": "LZP9Fs8nlwRx",
        "outputId": "68ada91a-ef87-4bf3-d20f-cddc3a6240d5"
      },
      "execution_count": 51,
      "outputs": [
        {
          "output_type": "execute_result",
          "data": {
            "text/plain": [
              "  diagnosis  radius_mean  ...  symmetry_worst  fractal_dimension_worst\n",
              "0         M        17.99  ...          0.4601                  0.11890\n",
              "1         M        20.57  ...          0.2750                  0.08902\n",
              "2         M        19.69  ...          0.3613                  0.08758\n",
              "3         M        11.42  ...          0.6638                  0.17300\n",
              "4         M        20.29  ...          0.2364                  0.07678\n",
              "\n",
              "[5 rows x 31 columns]"
            ],
            "text/html": [
              "\n",
              "  <div id=\"df-5ada156e-e2e2-4c58-8be9-615669cb759e\" class=\"colab-df-container\">\n",
              "    <div>\n",
              "<style scoped>\n",
              "    .dataframe tbody tr th:only-of-type {\n",
              "        vertical-align: middle;\n",
              "    }\n",
              "\n",
              "    .dataframe tbody tr th {\n",
              "        vertical-align: top;\n",
              "    }\n",
              "\n",
              "    .dataframe thead th {\n",
              "        text-align: right;\n",
              "    }\n",
              "</style>\n",
              "<table border=\"1\" class=\"dataframe\">\n",
              "  <thead>\n",
              "    <tr style=\"text-align: right;\">\n",
              "      <th></th>\n",
              "      <th>diagnosis</th>\n",
              "      <th>radius_mean</th>\n",
              "      <th>texture_mean</th>\n",
              "      <th>perimeter_mean</th>\n",
              "      <th>area_mean</th>\n",
              "      <th>smoothness_mean</th>\n",
              "      <th>compactness_mean</th>\n",
              "      <th>concavity_mean</th>\n",
              "      <th>concave points_mean</th>\n",
              "      <th>symmetry_mean</th>\n",
              "      <th>fractal_dimension_mean</th>\n",
              "      <th>radius_se</th>\n",
              "      <th>texture_se</th>\n",
              "      <th>perimeter_se</th>\n",
              "      <th>area_se</th>\n",
              "      <th>smoothness_se</th>\n",
              "      <th>compactness_se</th>\n",
              "      <th>concavity_se</th>\n",
              "      <th>concave points_se</th>\n",
              "      <th>symmetry_se</th>\n",
              "      <th>fractal_dimension_se</th>\n",
              "      <th>radius_worst</th>\n",
              "      <th>texture_worst</th>\n",
              "      <th>perimeter_worst</th>\n",
              "      <th>area_worst</th>\n",
              "      <th>smoothness_worst</th>\n",
              "      <th>compactness_worst</th>\n",
              "      <th>concavity_worst</th>\n",
              "      <th>concave points_worst</th>\n",
              "      <th>symmetry_worst</th>\n",
              "      <th>fractal_dimension_worst</th>\n",
              "    </tr>\n",
              "  </thead>\n",
              "  <tbody>\n",
              "    <tr>\n",
              "      <th>0</th>\n",
              "      <td>M</td>\n",
              "      <td>17.99</td>\n",
              "      <td>10.38</td>\n",
              "      <td>122.80</td>\n",
              "      <td>1001.0</td>\n",
              "      <td>0.11840</td>\n",
              "      <td>0.27760</td>\n",
              "      <td>0.3001</td>\n",
              "      <td>0.14710</td>\n",
              "      <td>0.2419</td>\n",
              "      <td>0.07871</td>\n",
              "      <td>1.0950</td>\n",
              "      <td>0.9053</td>\n",
              "      <td>8.589</td>\n",
              "      <td>153.40</td>\n",
              "      <td>0.006399</td>\n",
              "      <td>0.04904</td>\n",
              "      <td>0.05373</td>\n",
              "      <td>0.01587</td>\n",
              "      <td>0.03003</td>\n",
              "      <td>0.006193</td>\n",
              "      <td>25.38</td>\n",
              "      <td>17.33</td>\n",
              "      <td>184.60</td>\n",
              "      <td>2019.0</td>\n",
              "      <td>0.1622</td>\n",
              "      <td>0.6656</td>\n",
              "      <td>0.7119</td>\n",
              "      <td>0.2654</td>\n",
              "      <td>0.4601</td>\n",
              "      <td>0.11890</td>\n",
              "    </tr>\n",
              "    <tr>\n",
              "      <th>1</th>\n",
              "      <td>M</td>\n",
              "      <td>20.57</td>\n",
              "      <td>17.77</td>\n",
              "      <td>132.90</td>\n",
              "      <td>1326.0</td>\n",
              "      <td>0.08474</td>\n",
              "      <td>0.07864</td>\n",
              "      <td>0.0869</td>\n",
              "      <td>0.07017</td>\n",
              "      <td>0.1812</td>\n",
              "      <td>0.05667</td>\n",
              "      <td>0.5435</td>\n",
              "      <td>0.7339</td>\n",
              "      <td>3.398</td>\n",
              "      <td>74.08</td>\n",
              "      <td>0.005225</td>\n",
              "      <td>0.01308</td>\n",
              "      <td>0.01860</td>\n",
              "      <td>0.01340</td>\n",
              "      <td>0.01389</td>\n",
              "      <td>0.003532</td>\n",
              "      <td>24.99</td>\n",
              "      <td>23.41</td>\n",
              "      <td>158.80</td>\n",
              "      <td>1956.0</td>\n",
              "      <td>0.1238</td>\n",
              "      <td>0.1866</td>\n",
              "      <td>0.2416</td>\n",
              "      <td>0.1860</td>\n",
              "      <td>0.2750</td>\n",
              "      <td>0.08902</td>\n",
              "    </tr>\n",
              "    <tr>\n",
              "      <th>2</th>\n",
              "      <td>M</td>\n",
              "      <td>19.69</td>\n",
              "      <td>21.25</td>\n",
              "      <td>130.00</td>\n",
              "      <td>1203.0</td>\n",
              "      <td>0.10960</td>\n",
              "      <td>0.15990</td>\n",
              "      <td>0.1974</td>\n",
              "      <td>0.12790</td>\n",
              "      <td>0.2069</td>\n",
              "      <td>0.05999</td>\n",
              "      <td>0.7456</td>\n",
              "      <td>0.7869</td>\n",
              "      <td>4.585</td>\n",
              "      <td>94.03</td>\n",
              "      <td>0.006150</td>\n",
              "      <td>0.04006</td>\n",
              "      <td>0.03832</td>\n",
              "      <td>0.02058</td>\n",
              "      <td>0.02250</td>\n",
              "      <td>0.004571</td>\n",
              "      <td>23.57</td>\n",
              "      <td>25.53</td>\n",
              "      <td>152.50</td>\n",
              "      <td>1709.0</td>\n",
              "      <td>0.1444</td>\n",
              "      <td>0.4245</td>\n",
              "      <td>0.4504</td>\n",
              "      <td>0.2430</td>\n",
              "      <td>0.3613</td>\n",
              "      <td>0.08758</td>\n",
              "    </tr>\n",
              "    <tr>\n",
              "      <th>3</th>\n",
              "      <td>M</td>\n",
              "      <td>11.42</td>\n",
              "      <td>20.38</td>\n",
              "      <td>77.58</td>\n",
              "      <td>386.1</td>\n",
              "      <td>0.14250</td>\n",
              "      <td>0.28390</td>\n",
              "      <td>0.2414</td>\n",
              "      <td>0.10520</td>\n",
              "      <td>0.2597</td>\n",
              "      <td>0.09744</td>\n",
              "      <td>0.4956</td>\n",
              "      <td>1.1560</td>\n",
              "      <td>3.445</td>\n",
              "      <td>27.23</td>\n",
              "      <td>0.009110</td>\n",
              "      <td>0.07458</td>\n",
              "      <td>0.05661</td>\n",
              "      <td>0.01867</td>\n",
              "      <td>0.05963</td>\n",
              "      <td>0.009208</td>\n",
              "      <td>14.91</td>\n",
              "      <td>26.50</td>\n",
              "      <td>98.87</td>\n",
              "      <td>567.7</td>\n",
              "      <td>0.2098</td>\n",
              "      <td>0.8663</td>\n",
              "      <td>0.6869</td>\n",
              "      <td>0.2575</td>\n",
              "      <td>0.6638</td>\n",
              "      <td>0.17300</td>\n",
              "    </tr>\n",
              "    <tr>\n",
              "      <th>4</th>\n",
              "      <td>M</td>\n",
              "      <td>20.29</td>\n",
              "      <td>14.34</td>\n",
              "      <td>135.10</td>\n",
              "      <td>1297.0</td>\n",
              "      <td>0.10030</td>\n",
              "      <td>0.13280</td>\n",
              "      <td>0.1980</td>\n",
              "      <td>0.10430</td>\n",
              "      <td>0.1809</td>\n",
              "      <td>0.05883</td>\n",
              "      <td>0.7572</td>\n",
              "      <td>0.7813</td>\n",
              "      <td>5.438</td>\n",
              "      <td>94.44</td>\n",
              "      <td>0.011490</td>\n",
              "      <td>0.02461</td>\n",
              "      <td>0.05688</td>\n",
              "      <td>0.01885</td>\n",
              "      <td>0.01756</td>\n",
              "      <td>0.005115</td>\n",
              "      <td>22.54</td>\n",
              "      <td>16.67</td>\n",
              "      <td>152.20</td>\n",
              "      <td>1575.0</td>\n",
              "      <td>0.1374</td>\n",
              "      <td>0.2050</td>\n",
              "      <td>0.4000</td>\n",
              "      <td>0.1625</td>\n",
              "      <td>0.2364</td>\n",
              "      <td>0.07678</td>\n",
              "    </tr>\n",
              "  </tbody>\n",
              "</table>\n",
              "</div>\n",
              "    <div class=\"colab-df-buttons\">\n",
              "\n",
              "  <div class=\"colab-df-container\">\n",
              "    <button class=\"colab-df-convert\" onclick=\"convertToInteractive('df-5ada156e-e2e2-4c58-8be9-615669cb759e')\"\n",
              "            title=\"Convert this dataframe to an interactive table.\"\n",
              "            style=\"display:none;\">\n",
              "\n",
              "  <svg xmlns=\"http://www.w3.org/2000/svg\" height=\"24px\" viewBox=\"0 -960 960 960\">\n",
              "    <path d=\"M120-120v-720h720v720H120Zm60-500h600v-160H180v160Zm220 220h160v-160H400v160Zm0 220h160v-160H400v160ZM180-400h160v-160H180v160Zm440 0h160v-160H620v160ZM180-180h160v-160H180v160Zm440 0h160v-160H620v160Z\"/>\n",
              "  </svg>\n",
              "    </button>\n",
              "\n",
              "  <style>\n",
              "    .colab-df-container {\n",
              "      display:flex;\n",
              "      gap: 12px;\n",
              "    }\n",
              "\n",
              "    .colab-df-convert {\n",
              "      background-color: #E8F0FE;\n",
              "      border: none;\n",
              "      border-radius: 50%;\n",
              "      cursor: pointer;\n",
              "      display: none;\n",
              "      fill: #1967D2;\n",
              "      height: 32px;\n",
              "      padding: 0 0 0 0;\n",
              "      width: 32px;\n",
              "    }\n",
              "\n",
              "    .colab-df-convert:hover {\n",
              "      background-color: #E2EBFA;\n",
              "      box-shadow: 0px 1px 2px rgba(60, 64, 67, 0.3), 0px 1px 3px 1px rgba(60, 64, 67, 0.15);\n",
              "      fill: #174EA6;\n",
              "    }\n",
              "\n",
              "    .colab-df-buttons div {\n",
              "      margin-bottom: 4px;\n",
              "    }\n",
              "\n",
              "    [theme=dark] .colab-df-convert {\n",
              "      background-color: #3B4455;\n",
              "      fill: #D2E3FC;\n",
              "    }\n",
              "\n",
              "    [theme=dark] .colab-df-convert:hover {\n",
              "      background-color: #434B5C;\n",
              "      box-shadow: 0px 1px 3px 1px rgba(0, 0, 0, 0.15);\n",
              "      filter: drop-shadow(0px 1px 2px rgba(0, 0, 0, 0.3));\n",
              "      fill: #FFFFFF;\n",
              "    }\n",
              "  </style>\n",
              "\n",
              "    <script>\n",
              "      const buttonEl =\n",
              "        document.querySelector('#df-5ada156e-e2e2-4c58-8be9-615669cb759e button.colab-df-convert');\n",
              "      buttonEl.style.display =\n",
              "        google.colab.kernel.accessAllowed ? 'block' : 'none';\n",
              "\n",
              "      async function convertToInteractive(key) {\n",
              "        const element = document.querySelector('#df-5ada156e-e2e2-4c58-8be9-615669cb759e');\n",
              "        const dataTable =\n",
              "          await google.colab.kernel.invokeFunction('convertToInteractive',\n",
              "                                                    [key], {});\n",
              "        if (!dataTable) return;\n",
              "\n",
              "        const docLinkHtml = 'Like what you see? Visit the ' +\n",
              "          '<a target=\"_blank\" href=https://colab.research.google.com/notebooks/data_table.ipynb>data table notebook</a>'\n",
              "          + ' to learn more about interactive tables.';\n",
              "        element.innerHTML = '';\n",
              "        dataTable['output_type'] = 'display_data';\n",
              "        await google.colab.output.renderOutput(dataTable, element);\n",
              "        const docLink = document.createElement('div');\n",
              "        docLink.innerHTML = docLinkHtml;\n",
              "        element.appendChild(docLink);\n",
              "      }\n",
              "    </script>\n",
              "  </div>\n",
              "\n",
              "\n",
              "<div id=\"df-e98d905c-c1b6-468b-ac81-9921e4a25fc3\">\n",
              "  <button class=\"colab-df-quickchart\" onclick=\"quickchart('df-e98d905c-c1b6-468b-ac81-9921e4a25fc3')\"\n",
              "            title=\"Suggest charts\"\n",
              "            style=\"display:none;\">\n",
              "\n",
              "<svg xmlns=\"http://www.w3.org/2000/svg\" height=\"24px\"viewBox=\"0 0 24 24\"\n",
              "     width=\"24px\">\n",
              "    <g>\n",
              "        <path d=\"M19 3H5c-1.1 0-2 .9-2 2v14c0 1.1.9 2 2 2h14c1.1 0 2-.9 2-2V5c0-1.1-.9-2-2-2zM9 17H7v-7h2v7zm4 0h-2V7h2v10zm4 0h-2v-4h2v4z\"/>\n",
              "    </g>\n",
              "</svg>\n",
              "  </button>\n",
              "\n",
              "<style>\n",
              "  .colab-df-quickchart {\n",
              "      --bg-color: #E8F0FE;\n",
              "      --fill-color: #1967D2;\n",
              "      --hover-bg-color: #E2EBFA;\n",
              "      --hover-fill-color: #174EA6;\n",
              "      --disabled-fill-color: #AAA;\n",
              "      --disabled-bg-color: #DDD;\n",
              "  }\n",
              "\n",
              "  [theme=dark] .colab-df-quickchart {\n",
              "      --bg-color: #3B4455;\n",
              "      --fill-color: #D2E3FC;\n",
              "      --hover-bg-color: #434B5C;\n",
              "      --hover-fill-color: #FFFFFF;\n",
              "      --disabled-bg-color: #3B4455;\n",
              "      --disabled-fill-color: #666;\n",
              "  }\n",
              "\n",
              "  .colab-df-quickchart {\n",
              "    background-color: var(--bg-color);\n",
              "    border: none;\n",
              "    border-radius: 50%;\n",
              "    cursor: pointer;\n",
              "    display: none;\n",
              "    fill: var(--fill-color);\n",
              "    height: 32px;\n",
              "    padding: 0;\n",
              "    width: 32px;\n",
              "  }\n",
              "\n",
              "  .colab-df-quickchart:hover {\n",
              "    background-color: var(--hover-bg-color);\n",
              "    box-shadow: 0 1px 2px rgba(60, 64, 67, 0.3), 0 1px 3px 1px rgba(60, 64, 67, 0.15);\n",
              "    fill: var(--button-hover-fill-color);\n",
              "  }\n",
              "\n",
              "  .colab-df-quickchart-complete:disabled,\n",
              "  .colab-df-quickchart-complete:disabled:hover {\n",
              "    background-color: var(--disabled-bg-color);\n",
              "    fill: var(--disabled-fill-color);\n",
              "    box-shadow: none;\n",
              "  }\n",
              "\n",
              "  .colab-df-spinner {\n",
              "    border: 2px solid var(--fill-color);\n",
              "    border-color: transparent;\n",
              "    border-bottom-color: var(--fill-color);\n",
              "    animation:\n",
              "      spin 1s steps(1) infinite;\n",
              "  }\n",
              "\n",
              "  @keyframes spin {\n",
              "    0% {\n",
              "      border-color: transparent;\n",
              "      border-bottom-color: var(--fill-color);\n",
              "      border-left-color: var(--fill-color);\n",
              "    }\n",
              "    20% {\n",
              "      border-color: transparent;\n",
              "      border-left-color: var(--fill-color);\n",
              "      border-top-color: var(--fill-color);\n",
              "    }\n",
              "    30% {\n",
              "      border-color: transparent;\n",
              "      border-left-color: var(--fill-color);\n",
              "      border-top-color: var(--fill-color);\n",
              "      border-right-color: var(--fill-color);\n",
              "    }\n",
              "    40% {\n",
              "      border-color: transparent;\n",
              "      border-right-color: var(--fill-color);\n",
              "      border-top-color: var(--fill-color);\n",
              "    }\n",
              "    60% {\n",
              "      border-color: transparent;\n",
              "      border-right-color: var(--fill-color);\n",
              "    }\n",
              "    80% {\n",
              "      border-color: transparent;\n",
              "      border-right-color: var(--fill-color);\n",
              "      border-bottom-color: var(--fill-color);\n",
              "    }\n",
              "    90% {\n",
              "      border-color: transparent;\n",
              "      border-bottom-color: var(--fill-color);\n",
              "    }\n",
              "  }\n",
              "</style>\n",
              "\n",
              "  <script>\n",
              "    async function quickchart(key) {\n",
              "      const quickchartButtonEl =\n",
              "        document.querySelector('#' + key + ' button');\n",
              "      quickchartButtonEl.disabled = true;  // To prevent multiple clicks.\n",
              "      quickchartButtonEl.classList.add('colab-df-spinner');\n",
              "      try {\n",
              "        const charts = await google.colab.kernel.invokeFunction(\n",
              "            'suggestCharts', [key], {});\n",
              "      } catch (error) {\n",
              "        console.error('Error during call to suggestCharts:', error);\n",
              "      }\n",
              "      quickchartButtonEl.classList.remove('colab-df-spinner');\n",
              "      quickchartButtonEl.classList.add('colab-df-quickchart-complete');\n",
              "    }\n",
              "    (() => {\n",
              "      let quickchartButtonEl =\n",
              "        document.querySelector('#df-e98d905c-c1b6-468b-ac81-9921e4a25fc3 button');\n",
              "      quickchartButtonEl.style.display =\n",
              "        google.colab.kernel.accessAllowed ? 'block' : 'none';\n",
              "    })();\n",
              "  </script>\n",
              "</div>\n",
              "\n",
              "    </div>\n",
              "  </div>\n"
            ],
            "application/vnd.google.colaboratory.intrinsic+json": {
              "type": "dataframe",
              "variable_name": "df"
            }
          },
          "metadata": {},
          "execution_count": 51
        }
      ]
    },
    {
      "cell_type": "code",
      "source": [
        "X_train,X_test ,y_train, y_test= train_test_split(df.drop('diagnosis', axis=1), df['diagnosis'], test_size=0.2, random_state=42)"
      ],
      "metadata": {
        "id": "20FM4gxBmQc_"
      },
      "execution_count": 52,
      "outputs": []
    },
    {
      "cell_type": "code",
      "source": [
        "scaler = StandardScaler()\n",
        "X_train = scaler.fit_transform(X_train)\n",
        "X_test = scaler.transform(X_test)"
      ],
      "metadata": {
        "id": "bVka5SfSmQfo"
      },
      "execution_count": 53,
      "outputs": []
    },
    {
      "cell_type": "code",
      "source": [
        "encoder = LabelEncoder()\n",
        "y_train = encoder.fit_transform(y_train)\n",
        "y_test = encoder.transform(y_test)"
      ],
      "metadata": {
        "id": "uBjdrWM_mQif"
      },
      "execution_count": 54,
      "outputs": []
    },
    {
      "cell_type": "code",
      "source": [
        "#numpy to torch\n",
        "X_train= torch.tensor(X_train, dtype=torch.float32)\n",
        "X_test= torch.tensor(X_test, dtype=torch.float32)\n",
        "y_train= torch.tensor(y_train, dtype=torch.float32)\n",
        "y_test= torch.tensor(y_test, dtype=torch.float32)"
      ],
      "metadata": {
        "id": "VbPcXnLimch6"
      },
      "execution_count": 55,
      "outputs": []
    },
    {
      "cell_type": "code",
      "source": [
        "X_train.shape, y_train.shape"
      ],
      "metadata": {
        "colab": {
          "base_uri": "https://localhost:8080/"
        },
        "id": "134hp2KQmcky",
        "outputId": "ac5a9e0a-d08b-4d90-f68c-efd65212c840"
      },
      "execution_count": 56,
      "outputs": [
        {
          "output_type": "execute_result",
          "data": {
            "text/plain": [
              "(torch.Size([455, 30]), torch.Size([455]))"
            ]
          },
          "metadata": {},
          "execution_count": 56
        }
      ]
    },
    {
      "cell_type": "code",
      "source": [
        "from torch.utils.data import Dataset,DataLoader\n",
        "\n",
        "class customDataset(Dataset):\n",
        "  def __init__(self, features, labels):\n",
        "    self.features= features\n",
        "    self.labels= labels\n",
        "\n",
        "  def __len__(self):\n",
        "    return self.features.shape[0]\n",
        "\n",
        "  def __getitem__(self, index):\n",
        "    return self.features[index], self.labels[index]\n",
        "\n",
        "dataset_train= customDataset(X_train, y_train)\n",
        "dataset_test= customDataset(X_test, y_test)\n",
        "dataloader_train= DataLoader(dataset_train, batch_size=32, shuffle=True)\n",
        "dataloader_test= DataLoader(dataset_test, batch_size=32, shuffle=True)"
      ],
      "metadata": {
        "id": "BK1mvSITmcoF"
      },
      "execution_count": 85,
      "outputs": []
    },
    {
      "cell_type": "code",
      "source": [
        "#define model\n",
        "import torch.nn as nn\n",
        "class breastCancerModel(nn.Module):\n",
        "  def __init__(self, num_features):\n",
        "    super().__init__()\n",
        "    self.fc1= nn.Linear(num_features,1)\n",
        "\n",
        "    self.fc2= nn.Sigmoid()\n",
        "\n",
        "  def forward(self, x):\n",
        "    x= self.fc1(x)\n",
        "\n",
        "    x= self.fc2(x)\n",
        "    return x"
      ],
      "metadata": {
        "id": "gF9-aIPUmcqz"
      },
      "execution_count": 86,
      "outputs": []
    },
    {
      "cell_type": "code",
      "source": [
        "#important params\n",
        "epochs= 25\n",
        "learning_rate= 0.1\n"
      ],
      "metadata": {
        "id": "j5JZ5NQKmcuO"
      },
      "execution_count": 87,
      "outputs": []
    },
    {
      "cell_type": "code",
      "source": [
        "#create model\n",
        "model= breastCancerModel(num_features=X_train.shape[1])\n",
        "\n",
        "#optimizer\n",
        "optimizer= torch.optim.Adam(model.parameters(), lr=learning_rate)\n",
        "\n",
        "#loss\n",
        "loss_fn= nn.BCELoss()"
      ],
      "metadata": {
        "id": "qFLH21ItmQox"
      },
      "execution_count": 88,
      "outputs": []
    },
    {
      "cell_type": "code",
      "source": [
        "#training pipeline\n",
        "#define loop\n",
        "#for epoch\n",
        "for epoch in range(epochs):\n",
        "  #for batch\n",
        "  for batch_features, batch_labels in dataloader_train:\n",
        "    #forward pass\n",
        "    outputs= model(batch_features)\n",
        "    #calculate loss\n",
        "    loss= loss_fn(outputs, batch_labels.unsqueeze(1))\n",
        "    #clear gradient\n",
        "    optimizer.zero_grad()\n",
        "    #backward pass\n",
        "    loss.backward()\n",
        "    #update weights\n",
        "    optimizer.step()\n",
        "\n",
        "  print(f\"Epoch {epoch+1}/{epochs}, Loss: {loss.item()}\")"
      ],
      "metadata": {
        "colab": {
          "base_uri": "https://localhost:8080/"
        },
        "id": "P4e222HooSZD",
        "outputId": "5dbbcac5-05c8-4976-f379-16c42d7b28ac"
      },
      "execution_count": 89,
      "outputs": [
        {
          "output_type": "stream",
          "name": "stdout",
          "text": [
            "Epoch 1/25, Loss: 0.20781835913658142\n",
            "Epoch 2/25, Loss: 0.010034648701548576\n",
            "Epoch 3/25, Loss: 0.0008498672978021204\n",
            "Epoch 4/25, Loss: 0.005264059640467167\n",
            "Epoch 5/25, Loss: 0.1661059707403183\n",
            "Epoch 6/25, Loss: 0.011050092056393623\n",
            "Epoch 7/25, Loss: 0.051091838628053665\n",
            "Epoch 8/25, Loss: 0.0006627390976063907\n",
            "Epoch 9/25, Loss: 0.14168651401996613\n",
            "Epoch 10/25, Loss: 0.004091504495590925\n",
            "Epoch 11/25, Loss: 4.097621058463119e-05\n",
            "Epoch 12/25, Loss: 0.00014871424355078489\n",
            "Epoch 13/25, Loss: 0.00014578676200471818\n",
            "Epoch 14/25, Loss: 0.0711902379989624\n",
            "Epoch 15/25, Loss: 0.002475793706253171\n",
            "Epoch 16/25, Loss: 0.031441498547792435\n",
            "Epoch 17/25, Loss: 0.2678547203540802\n",
            "Epoch 18/25, Loss: 0.0022286383900791407\n",
            "Epoch 19/25, Loss: 0.0022554227616637945\n",
            "Epoch 20/25, Loss: 0.008897929452359676\n",
            "Epoch 21/25, Loss: 0.001208786154165864\n",
            "Epoch 22/25, Loss: 0.0009823994478210807\n",
            "Epoch 23/25, Loss: 0.24260897934436798\n",
            "Epoch 24/25, Loss: 0.00020989238691981882\n",
            "Epoch 25/25, Loss: 0.00035805031075142324\n"
          ]
        }
      ]
    },
    {
      "cell_type": "code",
      "source": [
        "#evaluation\n",
        "model.eval()\n",
        "accuracy_list=[]\n",
        "with torch.no_grad():\n",
        "  for batch_features, batch_labels in dataloader_test:\n",
        "    outputs= model(batch_features)\n",
        "    predicted= torch.round(outputs)\n",
        "\n",
        "    accuracy= (predicted==batch_labels.unsqueeze(1)).float().mean()\n",
        "    accuracy_list.append(accuracy.item())\n",
        "\n",
        "print(f\"Accuracy: {sum(accuracy_list)/len(accuracy_list)}\")"
      ],
      "metadata": {
        "colab": {
          "base_uri": "https://localhost:8080/"
        },
        "id": "BDOpycShoSb_",
        "outputId": "a9c44a83-83b5-47c5-afe6-82ace6bf758b"
      },
      "execution_count": 90,
      "outputs": [
        {
          "output_type": "stream",
          "name": "stdout",
          "text": [
            "Accuracy: 0.984375\n"
          ]
        }
      ]
    },
    {
      "cell_type": "code",
      "source": [],
      "metadata": {
        "id": "JwMJ73QIoSeg"
      },
      "execution_count": null,
      "outputs": []
    },
    {
      "cell_type": "code",
      "source": [],
      "metadata": {
        "id": "Od4S-xWloSgv"
      },
      "execution_count": null,
      "outputs": []
    },
    {
      "cell_type": "code",
      "source": [],
      "metadata": {
        "id": "r2BpIDpUoSi7"
      },
      "execution_count": null,
      "outputs": []
    },
    {
      "cell_type": "code",
      "source": [],
      "metadata": {
        "id": "D2aElHmGoSlB"
      },
      "execution_count": null,
      "outputs": []
    },
    {
      "cell_type": "code",
      "source": [],
      "metadata": {
        "id": "mm_bCT0voSnE"
      },
      "execution_count": null,
      "outputs": []
    },
    {
      "cell_type": "code",
      "source": [],
      "metadata": {
        "id": "04GrCTRjoSpY"
      },
      "execution_count": null,
      "outputs": []
    }
  ]
}